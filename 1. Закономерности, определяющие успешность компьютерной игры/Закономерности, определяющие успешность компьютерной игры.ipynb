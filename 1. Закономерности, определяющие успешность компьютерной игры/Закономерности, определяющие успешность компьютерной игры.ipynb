{
 "cells": [
  {
   "cell_type": "markdown",
   "metadata": {},
   "source": [
    "# Исследование данных о продажах компьютерных игр\n",
    "\n",
    "В нашем распоряжении исторические данные о продажах игр, оценки пользователей и экспертов, жанры и платформы (например, Xbox или PlayStation). Нам нужно выявить определяющие успешность игры закономерности. Это позволит сделать ставку на потенциально популярный продукт и спланировать рекламные кампании."
   ]
  },
  {
   "cell_type": "markdown",
   "metadata": {},
   "source": [
    "## Открыть файл с данными и изучить общую информацию."
   ]
  },
  {
   "cell_type": "code",
   "execution_count": 1,
   "metadata": {},
   "outputs": [],
   "source": [
    "# импорт необходимых библиотек\n",
    "import pandas as pd\n",
    "import numpy as np\n",
    "import seaborn as sns\n",
    "import matplotlib.pyplot as plt\n",
    "from scipy import stats as st"
   ]
  },
  {
   "cell_type": "code",
   "execution_count": 2,
   "metadata": {},
   "outputs": [],
   "source": [
    "# отключать при необходимости\n",
    "import warnings\n",
    "warnings.filterwarnings('ignore')"
   ]
  },
  {
   "cell_type": "code",
   "execution_count": 3,
   "metadata": {},
   "outputs": [],
   "source": [
    "# загрузка данных\n",
    "df = pd.read_csv('games.csv')"
   ]
  },
  {
   "cell_type": "code",
   "execution_count": 4,
   "metadata": {},
   "outputs": [
    {
     "data": {
      "text/html": [
       "<div>\n",
       "<style scoped>\n",
       "    .dataframe tbody tr th:only-of-type {\n",
       "        vertical-align: middle;\n",
       "    }\n",
       "\n",
       "    .dataframe tbody tr th {\n",
       "        vertical-align: top;\n",
       "    }\n",
       "\n",
       "    .dataframe thead th {\n",
       "        text-align: right;\n",
       "    }\n",
       "</style>\n",
       "<table border=\"1\" class=\"dataframe\">\n",
       "  <thead>\n",
       "    <tr style=\"text-align: right;\">\n",
       "      <th></th>\n",
       "      <th>Name</th>\n",
       "      <th>Platform</th>\n",
       "      <th>Year_of_Release</th>\n",
       "      <th>Genre</th>\n",
       "      <th>NA_sales</th>\n",
       "      <th>EU_sales</th>\n",
       "      <th>JP_sales</th>\n",
       "      <th>Other_sales</th>\n",
       "      <th>Critic_Score</th>\n",
       "      <th>User_Score</th>\n",
       "      <th>Rating</th>\n",
       "    </tr>\n",
       "  </thead>\n",
       "  <tbody>\n",
       "    <tr>\n",
       "      <th>0</th>\n",
       "      <td>Wii Sports</td>\n",
       "      <td>Wii</td>\n",
       "      <td>2006.0</td>\n",
       "      <td>Sports</td>\n",
       "      <td>41.36</td>\n",
       "      <td>28.96</td>\n",
       "      <td>3.77</td>\n",
       "      <td>8.45</td>\n",
       "      <td>76.0</td>\n",
       "      <td>8</td>\n",
       "      <td>E</td>\n",
       "    </tr>\n",
       "    <tr>\n",
       "      <th>1</th>\n",
       "      <td>Super Mario Bros.</td>\n",
       "      <td>NES</td>\n",
       "      <td>1985.0</td>\n",
       "      <td>Platform</td>\n",
       "      <td>29.08</td>\n",
       "      <td>3.58</td>\n",
       "      <td>6.81</td>\n",
       "      <td>0.77</td>\n",
       "      <td>NaN</td>\n",
       "      <td>NaN</td>\n",
       "      <td>NaN</td>\n",
       "    </tr>\n",
       "    <tr>\n",
       "      <th>2</th>\n",
       "      <td>Mario Kart Wii</td>\n",
       "      <td>Wii</td>\n",
       "      <td>2008.0</td>\n",
       "      <td>Racing</td>\n",
       "      <td>15.68</td>\n",
       "      <td>12.76</td>\n",
       "      <td>3.79</td>\n",
       "      <td>3.29</td>\n",
       "      <td>82.0</td>\n",
       "      <td>8.3</td>\n",
       "      <td>E</td>\n",
       "    </tr>\n",
       "    <tr>\n",
       "      <th>3</th>\n",
       "      <td>Wii Sports Resort</td>\n",
       "      <td>Wii</td>\n",
       "      <td>2009.0</td>\n",
       "      <td>Sports</td>\n",
       "      <td>15.61</td>\n",
       "      <td>10.93</td>\n",
       "      <td>3.28</td>\n",
       "      <td>2.95</td>\n",
       "      <td>80.0</td>\n",
       "      <td>8</td>\n",
       "      <td>E</td>\n",
       "    </tr>\n",
       "    <tr>\n",
       "      <th>4</th>\n",
       "      <td>Pokemon Red/Pokemon Blue</td>\n",
       "      <td>GB</td>\n",
       "      <td>1996.0</td>\n",
       "      <td>Role-Playing</td>\n",
       "      <td>11.27</td>\n",
       "      <td>8.89</td>\n",
       "      <td>10.22</td>\n",
       "      <td>1.00</td>\n",
       "      <td>NaN</td>\n",
       "      <td>NaN</td>\n",
       "      <td>NaN</td>\n",
       "    </tr>\n",
       "  </tbody>\n",
       "</table>\n",
       "</div>"
      ],
      "text/plain": [
       "                       Name Platform  Year_of_Release         Genre  NA_sales  \\\n",
       "0                Wii Sports      Wii           2006.0        Sports     41.36   \n",
       "1         Super Mario Bros.      NES           1985.0      Platform     29.08   \n",
       "2            Mario Kart Wii      Wii           2008.0        Racing     15.68   \n",
       "3         Wii Sports Resort      Wii           2009.0        Sports     15.61   \n",
       "4  Pokemon Red/Pokemon Blue       GB           1996.0  Role-Playing     11.27   \n",
       "\n",
       "   EU_sales  JP_sales  Other_sales  Critic_Score User_Score Rating  \n",
       "0     28.96      3.77         8.45          76.0          8      E  \n",
       "1      3.58      6.81         0.77           NaN        NaN    NaN  \n",
       "2     12.76      3.79         3.29          82.0        8.3      E  \n",
       "3     10.93      3.28         2.95          80.0          8      E  \n",
       "4      8.89     10.22         1.00           NaN        NaN    NaN  "
      ]
     },
     "metadata": {},
     "output_type": "display_data"
    }
   ],
   "source": [
    "display(df.head())"
   ]
  },
  {
   "cell_type": "markdown",
   "metadata": {},
   "source": [
    "Описание данных:\n",
    "- Name — название игры\n",
    "- Platform — платформа\n",
    "- Year_of_Release — год выпуска\n",
    "- Genre — жанр игры\n",
    "- NA_sales — продажи в Северной Америке (миллионы проданных копий)\n",
    "- EU_sales — продажи в Европе (миллионы проданных копий)\n",
    "- JP_sales — продажи в Японии (миллионы проданных копий)\n",
    "- Other_sales — продажи в других странах (миллионы проданных копий)\n",
    "- Critic_Score — оценка критиков (максимум 100)\n",
    "- User_Score — оценка пользователей (максимум 10)\n",
    "- Rating — рейтинг от организации ESRB (англ. Entertainment Software Rating Board). Эта ассоциация определяет рейтинг компьютерных игр и присваивает им подходящую возрастную категорию."
   ]
  },
  {
   "cell_type": "markdown",
   "metadata": {},
   "source": [
    "Данные корректно прочитаны из файла, будем дальше углубляться в анализ и выведем основную информацию о датафрейме с помощью метода info()"
   ]
  },
  {
   "cell_type": "code",
   "execution_count": 5,
   "metadata": {},
   "outputs": [
    {
     "name": "stdout",
     "output_type": "stream",
     "text": [
      "<class 'pandas.core.frame.DataFrame'>\n",
      "RangeIndex: 16715 entries, 0 to 16714\n",
      "Data columns (total 11 columns):\n",
      " #   Column           Non-Null Count  Dtype  \n",
      "---  ------           --------------  -----  \n",
      " 0   Name             16713 non-null  object \n",
      " 1   Platform         16715 non-null  object \n",
      " 2   Year_of_Release  16446 non-null  float64\n",
      " 3   Genre            16713 non-null  object \n",
      " 4   NA_sales         16715 non-null  float64\n",
      " 5   EU_sales         16715 non-null  float64\n",
      " 6   JP_sales         16715 non-null  float64\n",
      " 7   Other_sales      16715 non-null  float64\n",
      " 8   Critic_Score     8137 non-null   float64\n",
      " 9   User_Score       10014 non-null  object \n",
      " 10  Rating           9949 non-null   object \n",
      "dtypes: float64(6), object(5)\n",
      "memory usage: 1.4+ MB\n"
     ]
    }
   ],
   "source": [
    "df.info()"
   ]
  },
  {
   "cell_type": "markdown",
   "metadata": {},
   "source": [
    "У нас данные, состоящие из 16715 строк и 11 столбцов. Можем сразу отметить, что данные по столбцам как: `Year_of_Release, User_Score, Rating` и т.д, заполнены не в полном объеме, присутствуют пропуски. Наименования столбцов не записаны в одном регистре. Тип данных в столбце Year_of_Release определен как `float64`, что странно, так как в столбце данные о годах выпуска игры. Тип данных User_Score столбца `object`, но логика подсказывать, что тип данных должен быть c плавающей точкой."
   ]
  },
  {
   "cell_type": "markdown",
   "metadata": {},
   "source": [
    "## Предобработка данных."
   ]
  },
  {
   "cell_type": "markdown",
   "metadata": {},
   "source": [
    "### Заменим названия столбцов (приведем к нижнему регистру)."
   ]
  },
  {
   "cell_type": "code",
   "execution_count": 6,
   "metadata": {},
   "outputs": [],
   "source": [
    "df = df.rename(str.lower, axis = 'columns')"
   ]
  },
  {
   "cell_type": "code",
   "execution_count": 7,
   "metadata": {},
   "outputs": [
    {
     "data": {
      "text/plain": [
       "Index(['name', 'platform', 'year_of_release', 'genre', 'na_sales', 'eu_sales',\n",
       "       'jp_sales', 'other_sales', 'critic_score', 'user_score', 'rating'],\n",
       "      dtype='object')"
      ]
     },
     "execution_count": 7,
     "metadata": {},
     "output_type": "execute_result"
    }
   ],
   "source": [
    "#проверим\n",
    "df.columns"
   ]
  },
  {
   "cell_type": "markdown",
   "metadata": {},
   "source": [
    "### Обработка пропусков."
   ]
  },
  {
   "cell_type": "code",
   "execution_count": 8,
   "metadata": {},
   "outputs": [
    {
     "data": {
      "text/plain": [
       "name                0.011965\n",
       "platform            0.000000\n",
       "year_of_release     1.609333\n",
       "genre               0.011965\n",
       "na_sales            0.000000\n",
       "eu_sales            0.000000\n",
       "jp_sales            0.000000\n",
       "other_sales         0.000000\n",
       "critic_score       51.319174\n",
       "user_score         40.089740\n",
       "rating             40.478612\n",
       "dtype: float64"
      ]
     },
     "execution_count": 8,
     "metadata": {},
     "output_type": "execute_result"
    }
   ],
   "source": [
    "# посчитаем долю пропусков в каждом столбце относительно общего объема данных\n",
    "df.isna().sum()/df.shape[0]*100"
   ]
  },
  {
   "cell_type": "markdown",
   "metadata": {},
   "source": [
    "#### name & genre & year_of_release"
   ]
  },
  {
   "cell_type": "markdown",
   "metadata": {},
   "source": [
    "Пропуски по столбцам `name, genre и year_of_release` можем удалить, так как доля пропусков по этим столбцам около 1.6% и это действие не скажется на анализе."
   ]
  },
  {
   "cell_type": "code",
   "execution_count": 9,
   "metadata": {},
   "outputs": [],
   "source": [
    "df = df.dropna(subset=['name']).reset_index(drop=True)\n",
    "df = df.dropna(subset=['genre']).reset_index(drop=True)\n",
    "df = df.dropna(subset=['year_of_release']).reset_index(drop=True)"
   ]
  },
  {
   "cell_type": "markdown",
   "metadata": {},
   "source": [
    "#### critic_score & user_score"
   ]
  },
  {
   "cell_type": "code",
   "execution_count": 10,
   "metadata": {},
   "outputs": [
    {
     "data": {
      "text/plain": [
       "array([76., nan, 82., 80., 89., 58., 87., 91., 61., 97., 95., 77., 88.,\n",
       "       83., 94., 93., 85., 86., 98., 96., 90., 84., 73., 74., 78., 92.,\n",
       "       71., 72., 68., 62., 49., 67., 81., 66., 56., 79., 70., 59., 64.,\n",
       "       75., 60., 63., 69., 50., 25., 42., 44., 55., 48., 57., 29., 47.,\n",
       "       65., 54., 20., 53., 37., 38., 33., 52., 30., 32., 43., 45., 51.,\n",
       "       40., 46., 39., 34., 41., 36., 31., 27., 35., 26., 19., 28., 23.,\n",
       "       24., 21., 17., 13.])"
      ]
     },
     "execution_count": 10,
     "metadata": {},
     "output_type": "execute_result"
    }
   ],
   "source": [
    "df['critic_score'].unique()"
   ]
  },
  {
   "cell_type": "markdown",
   "metadata": {},
   "source": [
    "В столбце — critic_score — содержатся данные с оценками критиков от 0 до 100. Считаем, что необходимо оставить данные пропуски как неизвестные значения. Если мы заполним эти пропуски 0, это будет некорректно, так как 0 это тоже оценка. Средним или медианным значением тоже не представляется возможным, так как это все исказит дальнейший анализ, а учитывая что пропусков больше 10% это сильно повлияет на анализ. "
   ]
  },
  {
   "cell_type": "markdown",
   "metadata": {},
   "source": [
    "#### user_score"
   ]
  },
  {
   "cell_type": "code",
   "execution_count": 11,
   "metadata": {},
   "outputs": [
    {
     "data": {
      "text/plain": [
       "array(['8', nan, '8.3', '8.5', '6.6', '8.4', '8.6', '7.7', '6.3', '7.4',\n",
       "       '8.2', '9', '7.9', '8.1', '8.7', '7.1', '3.4', '5.3', '4.8', '3.2',\n",
       "       '8.9', '6.4', '7.8', '7.5', '2.6', '7.2', '9.2', '7', '7.3', '4.3',\n",
       "       '7.6', '5.7', '5', '9.1', '6.5', 'tbd', '8.8', '6.9', '9.4', '6.8',\n",
       "       '6.1', '6.7', '5.4', '4', '4.9', '4.5', '9.3', '6.2', '4.2', '6',\n",
       "       '3.7', '4.1', '5.8', '5.6', '5.5', '4.4', '4.6', '5.9', '3.9',\n",
       "       '3.1', '2.9', '5.2', '3.3', '4.7', '5.1', '3.5', '2.5', '1.9', '3',\n",
       "       '2.7', '2.2', '2', '9.5', '2.1', '3.6', '2.8', '1.8', '3.8', '0',\n",
       "       '1.6', '9.6', '2.4', '1.7', '1.1', '0.3', '1.5', '0.7', '1.2',\n",
       "       '2.3', '0.5', '1.3', '0.2', '0.6', '1.4', '0.9', '1', '9.7'],\n",
       "      dtype=object)"
      ]
     },
     "execution_count": 11,
     "metadata": {},
     "output_type": "execute_result"
    }
   ],
   "source": [
    "df['user_score'].unique()"
   ]
  },
  {
   "cell_type": "markdown",
   "metadata": {},
   "source": [
    "В столбце — user_score — данные с оценкой пользователей от 0 до 10. Исходя из той же логики, что с оценками критиков, считаем необходимым оставить пропуски в данном столбце. В данных присутствуют так же значение как \"tdb\" это означает, что оценка отсутствует, считаем необходимым заменить такие значения на `Nan`, что будет означать одно и тоже, но присутствует данных типа `Nan` позволит нам в дальнейшем анализировать этот столбец."
   ]
  },
  {
   "cell_type": "code",
   "execution_count": 12,
   "metadata": {},
   "outputs": [],
   "source": [
    "df.loc[df['user_score'] == 'tbd', 'user_score'] = np.nan"
   ]
  },
  {
   "cell_type": "markdown",
   "metadata": {},
   "source": [
    "#### rating"
   ]
  },
  {
   "cell_type": "markdown",
   "metadata": {},
   "source": [
    "В столбце — rating — рейтинг от организации ESRB (англ. Entertainment Software Rating Board). Эта ассоциация определяет рейтинг компьютерных игр и присваивает им подходящую возрастную категорию. Пропуски в данном столбце считаем возможным заполнить категориальным значением `Unknown`, потому что не представляется возможным заполнить возрастным рейтингом, если он не определен."
   ]
  },
  {
   "cell_type": "code",
   "execution_count": 13,
   "metadata": {},
   "outputs": [],
   "source": [
    "df['rating'] = df['rating'].fillna('Unknown')"
   ]
  },
  {
   "cell_type": "code",
   "execution_count": 14,
   "metadata": {},
   "outputs": [
    {
     "data": {
      "text/plain": [
       "array(['E', 'Unknown', 'M', 'T', 'E10+', 'K-A', 'AO', 'EC', 'RP'],\n",
       "      dtype=object)"
      ]
     },
     "execution_count": 14,
     "metadata": {},
     "output_type": "execute_result"
    }
   ],
   "source": [
    "df['rating'].unique()"
   ]
  },
  {
   "cell_type": "markdown",
   "metadata": {},
   "source": [
    "### Обработка дубликатов."
   ]
  },
  {
   "cell_type": "code",
   "execution_count": 15,
   "metadata": {},
   "outputs": [
    {
     "data": {
      "text/plain": [
       "0"
      ]
     },
     "execution_count": 15,
     "metadata": {},
     "output_type": "execute_result"
    }
   ],
   "source": [
    "# проверим датасет на наличие явных дубликатов\n",
    "df.duplicated().sum()"
   ]
  },
  {
   "cell_type": "markdown",
   "metadata": {},
   "source": [
    "Явных дубликатов не обнаружено."
   ]
  },
  {
   "cell_type": "markdown",
   "metadata": {},
   "source": [
    "### Преобразование типа данных."
   ]
  },
  {
   "cell_type": "markdown",
   "metadata": {},
   "source": [
    "Как мы отмечали выше необходимо поменять тип данных по столбцу `year_of_release`, чтобы данные были целочисленными, а так же по столбцу `user_score` поменяем тип данных с `object` на `float`, так данные с оценкой пользователей от 0 до 10 с плавающей точкой. "
   ]
  },
  {
   "cell_type": "code",
   "execution_count": 16,
   "metadata": {},
   "outputs": [],
   "source": [
    "# преобразуем данные из столбца year_of_release\n",
    "df['year_of_release'] = df['year_of_release'].astype('int')\n",
    "\n",
    "# преобразуем данные из столбца user_score\n",
    "df['user_score'] = df['user_score'].astype('float')"
   ]
  },
  {
   "cell_type": "markdown",
   "metadata": {},
   "source": [
    "Проверим что получилось"
   ]
  },
  {
   "cell_type": "code",
   "execution_count": 17,
   "metadata": {},
   "outputs": [
    {
     "name": "stdout",
     "output_type": "stream",
     "text": [
      "<class 'pandas.core.frame.DataFrame'>\n",
      "RangeIndex: 16444 entries, 0 to 16443\n",
      "Data columns (total 11 columns):\n",
      " #   Column           Non-Null Count  Dtype  \n",
      "---  ------           --------------  -----  \n",
      " 0   name             16444 non-null  object \n",
      " 1   platform         16444 non-null  object \n",
      " 2   year_of_release  16444 non-null  int32  \n",
      " 3   genre            16444 non-null  object \n",
      " 4   na_sales         16444 non-null  float64\n",
      " 5   eu_sales         16444 non-null  float64\n",
      " 6   jp_sales         16444 non-null  float64\n",
      " 7   other_sales      16444 non-null  float64\n",
      " 8   critic_score     7983 non-null   float64\n",
      " 9   user_score       7463 non-null   float64\n",
      " 10  rating           16444 non-null  object \n",
      "dtypes: float64(6), int32(1), object(4)\n",
      "memory usage: 1.3+ MB\n"
     ]
    }
   ],
   "source": [
    "df.info()"
   ]
  },
  {
   "cell_type": "markdown",
   "metadata": {},
   "source": [
    "Как мы видим пропуски убраны, тип данных изменен в соответствующих столбцах."
   ]
  },
  {
   "cell_type": "markdown",
   "metadata": {},
   "source": [
    "### Cуммарные продажи во всех регионах."
   ]
  },
  {
   "cell_type": "markdown",
   "metadata": {},
   "source": [
    "Создадим столбец `sales_amount` и запишем в нем сумму продаж во всех регионах."
   ]
  },
  {
   "cell_type": "code",
   "execution_count": 18,
   "metadata": {},
   "outputs": [],
   "source": [
    "df['sales_amount'] = df['na_sales'] + df['eu_sales'] + df['jp_sales'] + df['other_sales']"
   ]
  },
  {
   "cell_type": "code",
   "execution_count": 19,
   "metadata": {},
   "outputs": [
    {
     "name": "stdout",
     "output_type": "stream",
     "text": [
      "<class 'pandas.core.frame.DataFrame'>\n",
      "RangeIndex: 16444 entries, 0 to 16443\n",
      "Data columns (total 12 columns):\n",
      " #   Column           Non-Null Count  Dtype  \n",
      "---  ------           --------------  -----  \n",
      " 0   name             16444 non-null  object \n",
      " 1   platform         16444 non-null  object \n",
      " 2   year_of_release  16444 non-null  int32  \n",
      " 3   genre            16444 non-null  object \n",
      " 4   na_sales         16444 non-null  float64\n",
      " 5   eu_sales         16444 non-null  float64\n",
      " 6   jp_sales         16444 non-null  float64\n",
      " 7   other_sales      16444 non-null  float64\n",
      " 8   critic_score     7983 non-null   float64\n",
      " 9   user_score       7463 non-null   float64\n",
      " 10  rating           16444 non-null  object \n",
      " 11  sales_amount     16444 non-null  float64\n",
      "dtypes: float64(7), int32(1), object(4)\n",
      "memory usage: 1.4+ MB\n",
      "None\n",
      "-------------------------\n",
      "name [' Beyblade Burst' ' Fire Emblem Fates' \" Frozen: Olaf's Quest\" ...\n",
      " 'uDraw Studio' 'uDraw Studio: Instant Artist'\n",
      " '¡Shin Chan Flipa en colores!']\n",
      "name : кол-во NaN 0 , процент NaN 0.0 %\n",
      "-------------------------\n",
      "platform ['2600' '3DO' '3DS' 'DC' 'DS' 'GB' 'GBA' 'GC' 'GEN' 'GG' 'N64' 'NES' 'NG'\n",
      " 'PC' 'PCFX' 'PS' 'PS2' 'PS3' 'PS4' 'PSP' 'PSV' 'SAT' 'SCD' 'SNES' 'TG16'\n",
      " 'WS' 'Wii' 'WiiU' 'X360' 'XB' 'XOne']\n",
      "platform : кол-во NaN 0 , процент NaN 0.0 %\n",
      "-------------------------\n",
      "year_of_release [1980 1981 1982 1983 1984 1985 1986 1987 1988 1989 1990 1991 1992 1993\n",
      " 1994 1995 1996 1997 1998 1999 2000 2001 2002 2003 2004 2005 2006 2007\n",
      " 2008 2009 2010 2011 2012 2013 2014 2015 2016]\n",
      "year_of_release : кол-во NaN 0 , процент NaN 0.0 %\n",
      "-------------------------\n",
      "genre ['Action' 'Adventure' 'Fighting' 'Misc' 'Platform' 'Puzzle' 'Racing'\n",
      " 'Role-Playing' 'Shooter' 'Simulation' 'Sports' 'Strategy']\n",
      "genre : кол-во NaN 0 , процент NaN 0.0 %\n",
      "-------------------------\n",
      "critic_score [13. 17. 19. 20. 21. 23. 24. 25. 26. 27. 28. 29. 30. 31. 32. 33. 34. 35.\n",
      " 36. 37. 38. 39. 40. 41. 42. 43. 44. 45. 46. 47. 48. 49. 50. 51. 52. 53.\n",
      " 54. 55. 56. 57. 58. 59. 60. 61. 62. 63. 64. 65. 66. 67. 68. 69. 70. 71.\n",
      " 72. 73. 74. 75. 76. 77. 78. 79. 80. 81. 82. 83. 84. 85. 86. 87. 88. 89.\n",
      " 90. 91. 92. 93. 94. 95. 96. 97. 98. nan]\n",
      "critic_score : кол-во NaN 8461 , процент NaN 51.45 %\n",
      "-------------------------\n",
      "user_score [0.  0.2 0.3 0.5 0.6 0.7 0.9 1.  1.1 1.2 1.3 1.4 1.5 1.6 1.7 1.8 1.9 2.\n",
      " 2.1 2.2 2.3 2.4 2.5 2.6 2.7 2.8 2.9 3.  3.1 3.2 3.3 3.4 3.5 3.6 3.7 3.8\n",
      " 3.9 4.  4.1 4.2 4.3 4.4 4.5 4.6 4.7 4.8 4.9 5.  5.1 5.2 5.3 5.4 5.5 5.6\n",
      " 5.7 5.8 5.9 6.  6.1 6.2 6.3 6.4 6.5 6.6 6.7 6.8 6.9 7.  7.1 7.2 7.3 7.4\n",
      " 7.5 7.6 7.7 7.8 7.9 8.  8.1 8.2 8.3 8.4 8.5 8.6 8.7 8.8 8.9 9.  9.1 9.2\n",
      " 9.3 9.4 9.5 9.6 9.7 nan]\n",
      "user_score : кол-во NaN 8981 , процент NaN 54.62 %\n",
      "-------------------------\n",
      "rating ['AO' 'E' 'E10+' 'EC' 'K-A' 'M' 'RP' 'T' 'Unknown']\n",
      "rating : кол-во NaN 0 , процент NaN 0.0 %\n"
     ]
    }
   ],
   "source": [
    "# Комментарий ревьюера\n",
    "# Посмотрим, что у нас осталось\n",
    "temp = df.copy() \n",
    "list_c = ['name', 'platform', 'year_of_release', 'genre', 'critic_score', 'user_score', 'rating']\n",
    "print(temp.info())\n",
    "for col_l in list_c:\n",
    "  print('-'* 25)\n",
    "  print(col_l, temp[col_l].sort_values().unique())\n",
    "  print(col_l,': кол-во NaN',temp[col_l].isna().sum(),\n",
    "        ', процент NaN', round(temp[col_l].isna().sum()/len(temp)*100, 2),'%')"
   ]
  },
  {
   "cell_type": "markdown",
   "metadata": {},
   "source": [
    "## Исследовательский анализ данных."
   ]
  },
  {
   "cell_type": "markdown",
   "metadata": {},
   "source": [
    "### Сколько игр выпускалось в разные годы. "
   ]
  },
  {
   "cell_type": "code",
   "execution_count": 20,
   "metadata": {},
   "outputs": [
    {
     "data": {
      "image/png": "[encoded data removed]",
      "text/plain": [
       "<Figure size 1080x360 with 1 Axes>"
      ]
     },
     "metadata": {
      "needs_background": "light"
     },
     "output_type": "display_data"
    }
   ],
   "source": [
    "#строим график\n",
    "df['year_of_release'].value_counts()\\\n",
    "                     .sort_index(ascending=False)\\\n",
    "                     .plot(kind='bar' ,figsize=(15,5))\\\n",
    "                     .set(title='Количественное распределение выпуска игр по годам', \n",
    "                          xlabel = 'Года', \n",
    "                          ylabel='Кол-во выпущенных игр');\n",
    "plt.xticks(rotation=35);"
   ]
  },
  {
   "cell_type": "markdown",
   "metadata": {},
   "source": [
    "Можем отметить, что рост gamedeva начинается с 90-х годов. В период с 1980 по 1994 данных по выпуску игр относительно остального времени мало."
   ]
  },
  {
   "cell_type": "markdown",
   "metadata": {},
   "source": [
    "### Как менялись продажи по платформам."
   ]
  },
  {
   "cell_type": "markdown",
   "metadata": {},
   "source": [
    "Определим платформы с наибольшими суммарными продажами."
   ]
  },
  {
   "cell_type": "code",
   "execution_count": 21,
   "metadata": {},
   "outputs": [
    {
     "data": {
      "image/png": "[encoded data removed]",
      "text/plain": [
       "<Figure size 1080x360 with 1 Axes>"
      ]
     },
     "metadata": {
      "needs_background": "light"
     },
     "output_type": "display_data"
    }
   ],
   "source": [
    "df.pivot_table(index=('platform'), values='sales_amount', aggfunc=['sum'])\\\n",
    "    .sort_values(by=('sum', 'sales_amount'), ascending=False)\\\n",
    "    .plot(kind='bar', figsize=(15,5), legend=False, rot=0)\\\n",
    "    .set(title='Сумарные продажи по платформам', xlabel = 'Платформа', ylabel='Объём продаж');"
   ]
  },
  {
   "cell_type": "markdown",
   "metadata": {},
   "source": [
    "Можем выделить 6 платформ лидеров по продажам: `PS2, X360, PS3, Wii, DS, PS`. Посмотрим распределение продаж по годам данных платформ."
   ]
  },
  {
   "cell_type": "code",
   "execution_count": 22,
   "metadata": {},
   "outputs": [
    {
     "data": {
      "image/png": "[encoded data removed]",
      "text/plain": [
       "<Figure size 1080x360 with 1 Axes>"
      ]
     },
     "metadata": {
      "needs_background": "light"
     },
     "output_type": "display_data"
    }
   ],
   "source": [
    "#в новую переменную запишем данные по топ 6 платформам\n",
    "top_platform = df.query('platform == \"PS2\" | platform == \"X360\" | platform == \"PS3\" | platform == \"Wii\" | platform == \"DS\" | platform == \"PS\"')\n",
    "#построим распределение\n",
    "top_platform_sales = top_platform.pivot_table(index='year_of_release', \n",
    "                                              values='sales_amount', \n",
    "                                              columns='platform', \n",
    "                                              aggfunc='sum')\\\n",
    ".plot(grid=True, figsize=(15, 5))\\\n",
    ".set(title='Сумарные продажи по платформам распределенные по годам', xlabel = 'Года', ylabel='Объём продаж')\n",
    "plt.xlim(1993, 2017);"
   ]
  },
  {
   "cell_type": "markdown",
   "metadata": {},
   "source": [
    "\n",
    "Так же можем отметить по графику, что цикл жизни у современных платформ +- 10 лет. Необходимо более точно разобраться."
   ]
  },
  {
   "cell_type": "markdown",
   "metadata": {},
   "source": [
    "Проведем расчеты для точного анализа срока жизни современных платформ."
   ]
  },
  {
   "cell_type": "code",
   "execution_count": 23,
   "metadata": {},
   "outputs": [
    {
     "data": {
      "text/html": [
       "<div>\n",
       "<style scoped>\n",
       "    .dataframe tbody tr th:only-of-type {\n",
       "        vertical-align: middle;\n",
       "    }\n",
       "\n",
       "    .dataframe tbody tr th {\n",
       "        vertical-align: top;\n",
       "    }\n",
       "\n",
       "    .dataframe thead th {\n",
       "        text-align: right;\n",
       "    }\n",
       "</style>\n",
       "<table border=\"1\" class=\"dataframe\">\n",
       "  <thead>\n",
       "    <tr style=\"text-align: right;\">\n",
       "      <th></th>\n",
       "      <th>year_of_release</th>\n",
       "    </tr>\n",
       "    <tr>\n",
       "      <th>platform</th>\n",
       "      <th></th>\n",
       "    </tr>\n",
       "  </thead>\n",
       "  <tbody>\n",
       "    <tr>\n",
       "      <th>DS</th>\n",
       "      <td>11</td>\n",
       "    </tr>\n",
       "    <tr>\n",
       "      <th>PS</th>\n",
       "      <td>10</td>\n",
       "    </tr>\n",
       "    <tr>\n",
       "      <th>PS2</th>\n",
       "      <td>12</td>\n",
       "    </tr>\n",
       "    <tr>\n",
       "      <th>PS3</th>\n",
       "      <td>11</td>\n",
       "    </tr>\n",
       "    <tr>\n",
       "      <th>Wii</th>\n",
       "      <td>11</td>\n",
       "    </tr>\n",
       "    <tr>\n",
       "      <th>X360</th>\n",
       "      <td>12</td>\n",
       "    </tr>\n",
       "  </tbody>\n",
       "</table>\n",
       "</div>"
      ],
      "text/plain": [
       "          year_of_release\n",
       "platform                 \n",
       "DS                     11\n",
       "PS                     10\n",
       "PS2                    12\n",
       "PS3                    11\n",
       "Wii                    11\n",
       "X360                   12"
      ]
     },
     "metadata": {},
     "output_type": "display_data"
    }
   ],
   "source": [
    "# по топу платформ создадим сводную таблицу убрав дубликаты по соответствующим столбцам\n",
    "# это даст нам понимание сколько лет выходят игры на те или иные платформы\n",
    "platform_life_cycle = top_platform.loc[:,['year_of_release', 'platform']]\\\n",
    "        .drop_duplicates()\\\n",
    "        .pivot_table(index=['platform'], values='year_of_release', aggfunc='count')\n",
    "display(platform_life_cycle)"
   ]
  },
  {
   "cell_type": "code",
   "execution_count": 24,
   "metadata": {},
   "outputs": [
    {
     "data": {
      "text/html": [
       "<div>\n",
       "<style scoped>\n",
       "    .dataframe tbody tr th:only-of-type {\n",
       "        vertical-align: middle;\n",
       "    }\n",
       "\n",
       "    .dataframe tbody tr th {\n",
       "        vertical-align: top;\n",
       "    }\n",
       "\n",
       "    .dataframe thead th {\n",
       "        text-align: right;\n",
       "    }\n",
       "</style>\n",
       "<table border=\"1\" class=\"dataframe\">\n",
       "  <thead>\n",
       "    <tr style=\"text-align: right;\">\n",
       "      <th></th>\n",
       "      <th>year_of_release</th>\n",
       "    </tr>\n",
       "  </thead>\n",
       "  <tbody>\n",
       "    <tr>\n",
       "      <th>count</th>\n",
       "      <td>6.000000</td>\n",
       "    </tr>\n",
       "    <tr>\n",
       "      <th>mean</th>\n",
       "      <td>11.166667</td>\n",
       "    </tr>\n",
       "    <tr>\n",
       "      <th>std</th>\n",
       "      <td>0.752773</td>\n",
       "    </tr>\n",
       "    <tr>\n",
       "      <th>min</th>\n",
       "      <td>10.000000</td>\n",
       "    </tr>\n",
       "    <tr>\n",
       "      <th>25%</th>\n",
       "      <td>11.000000</td>\n",
       "    </tr>\n",
       "    <tr>\n",
       "      <th>50%</th>\n",
       "      <td>11.000000</td>\n",
       "    </tr>\n",
       "    <tr>\n",
       "      <th>75%</th>\n",
       "      <td>11.750000</td>\n",
       "    </tr>\n",
       "    <tr>\n",
       "      <th>max</th>\n",
       "      <td>12.000000</td>\n",
       "    </tr>\n",
       "  </tbody>\n",
       "</table>\n",
       "</div>"
      ],
      "text/plain": [
       "       year_of_release\n",
       "count         6.000000\n",
       "mean         11.166667\n",
       "std           0.752773\n",
       "min          10.000000\n",
       "25%          11.000000\n",
       "50%          11.000000\n",
       "75%          11.750000\n",
       "max          12.000000"
      ]
     },
     "metadata": {},
     "output_type": "display_data"
    }
   ],
   "source": [
    "# посмотрим на основные характеристики полученных значений\n",
    "display(platform_life_cycle.describe())"
   ]
  },
  {
   "cell_type": "markdown",
   "metadata": {},
   "source": [
    "Как мы и отмечали, средний цикл жизни современных платформ 11 лет."
   ]
  },
  {
   "cell_type": "markdown",
   "metadata": {},
   "source": [
    "### Актуальный период для прогноза на 2017 год."
   ]
  },
  {
   "cell_type": "markdown",
   "metadata": {},
   "source": [
    "Считаем необходимым выбрать период для анализа 4 года. Исходя из следующего:\n",
    "- Отрасль разработки игр быстро развивается. Данные быстро становятся неактуальными.\n",
    "- Жизненный цикл платформ лидеров рынка находится на спаде. Игровые платформы являются конкурентными товарами по отношению друг к другу, к концу жизненного цикла, к чему судя по нашему анализу рынок идет, выйдет новое поколение платформ.\n",
    "- Новые платформы, это новые технологические возможности для разработки игр. (данные старше нескольких лет не подойдут)"
   ]
  },
  {
   "cell_type": "markdown",
   "metadata": {},
   "source": [
    "### Лидеры по продажам."
   ]
  },
  {
   "cell_type": "markdown",
   "metadata": {},
   "source": [
    "Какие платформы лидируют по продажам, растут или падают? Выберите несколько потенциально прибыльных платформ."
   ]
  },
  {
   "cell_type": "code",
   "execution_count": 25,
   "metadata": {},
   "outputs": [],
   "source": [
    "# Отсечем данные за актуальный период\n",
    "top_actual_platforms = df.query('year_of_release >= 2012')"
   ]
  },
  {
   "cell_type": "code",
   "execution_count": 26,
   "metadata": {},
   "outputs": [
    {
     "data": {
      "image/png": "[encoded data removed]",
      "text/plain": [
       "<Figure size 1080x576 with 1 Axes>"
      ]
     },
     "metadata": {
      "needs_background": "light"
     },
     "output_type": "display_data"
    }
   ],
   "source": [
    "# построим график продаж с этими платформами\n",
    "top_actual_platforms_sales = top_actual_platforms.pivot_table(index='year_of_release', \n",
    "                                              values='sales_amount', \n",
    "                                              columns='platform', \n",
    "                                              aggfunc='sum')\\\n",
    ".plot(grid=True, figsize=(15, 8))\\\n",
    ".set(title='Сумарные продажи по платформам распределенные по актуальным годам', xlabel = 'Года', ylabel='Объём продаж')\n",
    "plt.xlim(2012, 2017);"
   ]
  },
  {
   "cell_type": "code",
   "execution_count": 27,
   "metadata": {},
   "outputs": [
    {
     "data": {
      "image/png": "[encoded data removed]",
      "text/plain": [
       "<Figure size 1080x360 with 1 Axes>"
      ]
     },
     "metadata": {
      "needs_background": "light"
     },
     "output_type": "display_data"
    }
   ],
   "source": [
    "# посмотрим на сумарные продажи на другом графике для наглядности\n",
    "top_actual_platforms.pivot_table(index='platform', values='sales_amount', aggfunc=['sum'])\\\n",
    "    .sort_values(by=('sum', 'sales_amount'), ascending=False)\\\n",
    "    .plot(kind='bar', figsize=(15,5), legend=False, rot=0)\\\n",
    "    .set(title='Сумарные продажи по платформам', xlabel = 'Платформа', ylabel='Объём продаж');"
   ]
  },
  {
   "cell_type": "markdown",
   "metadata": {},
   "source": [
    "Можем отметить, что в целом по отрасли наблюдается падение продаж. Есть две новые платформы нового поколения от мастодонтов отрасли SONY `PS4` и Microsoft `XOne`. Отдельно стоит отметить платформу `PC` (personal computer), хоть продажи на данной платформе не такие высокие как на игровых приставках, но эта платформа не имеет определенного поколения и жизненного цикла, обусловлено это тем, что персональный компьютер состоит из сборных частей так называемого железа, которые можно заменить при необходимости, тогда как на игровых приставках такой возможности нет, наблюдается жесткий цикл жизни платформ определенного поколения. У игровых приставок существует ограничения в виде совместимости игр, которые вышли на те или иные поколения, не говоря уже про разные платформы, персональный компьютер лишен таких ограничений. Исходя из сказанного считаем необходимым выделить следующие платформы как потенциально прибыльные: `PS4`, `XOne` и `PC`. Остальные платформы из списка находятся на спаде жизненного цикла товара, соответственно считаем, что не стоит их рассматривать как потенциально прибыльные."
   ]
  },
  {
   "cell_type": "markdown",
   "metadata": {},
   "source": [
    "### График «ящик с усами» по глобальным продажам игр в разбивке по платформам."
   ]
  },
  {
   "cell_type": "code",
   "execution_count": 28,
   "metadata": {},
   "outputs": [
    {
     "data": {
      "image/png": "[encoded data removed]",
      "text/plain": [
       "<Figure size 1080x360 with 1 Axes>"
      ]
     },
     "metadata": {
      "needs_background": "light"
     },
     "output_type": "display_data"
    }
   ],
   "source": [
    "plt.figure(figsize=(15, 5))\n",
    "sns.boxplot(data=top_actual_platforms, x='platform', y='sales_amount')\n",
    "plt.xlabel('Платформы')\n",
    "plt.ylabel('Глобальные продажи');"
   ]
  },
  {
   "cell_type": "markdown",
   "metadata": {},
   "source": [
    "На данном график, плохо видно медианные и средние значения по продажам, но наглядно может увидеть максимальные выбросы по всем платформам. Скорее всего это единичные хиты."
   ]
  },
  {
   "cell_type": "code",
   "execution_count": 29,
   "metadata": {
    "scrolled": true
   },
   "outputs": [
    {
     "data": {
      "image/png": "[encoded data removed]",
      "text/plain": [
       "<Figure size 1080x360 with 1 Axes>"
      ]
     },
     "metadata": {
      "needs_background": "light"
     },
     "output_type": "display_data"
    }
   ],
   "source": [
    "# выведем диаграмму с масштабированными данными  \n",
    "plt.figure(figsize=(15, 5))\n",
    "sns.boxplot(data=top_actual_platforms, x='platform', y='sales_amount')\n",
    "plt.ylim(0, 2,2)\n",
    "plt.xlabel('Платформы')\n",
    "plt.ylabel('Глобальные продажи');"
   ]
  },
  {
   "cell_type": "markdown",
   "metadata": {},
   "source": [
    "Исходя из графиков можем отметить: \n",
    "- Медиана протекает у всех по-разному.\n",
    "- Положение Xbox One и PlayStation 4 можно объяснить тем, что данные приставки позднее остальных вышли на рынки в 2013.\n",
    "- PC уступает, так как это не узконаправленная платформа только для игр.\n"
   ]
  },
  {
   "cell_type": "markdown",
   "metadata": {},
   "source": [
    "### Влияние на продажи внутри одной популярной платформы отзывов пользователей и критиков."
   ]
  },
  {
   "cell_type": "code",
   "execution_count": 30,
   "metadata": {},
   "outputs": [],
   "source": [
    "# выберим платформу PS4\n",
    "ps4_df = top_actual_platforms.query('platform == \"PS4\"')"
   ]
  },
  {
   "cell_type": "code",
   "execution_count": 31,
   "metadata": {},
   "outputs": [
    {
     "data": {
      "text/plain": [
       "0.40656790206178123"
      ]
     },
     "metadata": {},
     "output_type": "display_data"
    },
    {
     "data": {
      "image/png": "[encoded data removed]",
      "text/plain": [
       "<Figure size 432x288 with 1 Axes>"
      ]
     },
     "metadata": {
      "needs_background": "light"
     },
     "output_type": "display_data"
    }
   ],
   "source": [
    "# построим диаграмму рассеяния между оценками критиков и продажами\n",
    "ps4_df.plot(x='critic_score', y='sales_amount', kind='scatter', alpha=0.5, figsize=(6, 4)).set(title = 'PS4',\n",
    "                                                                                           xlabel = 'Оценка критиков',\n",
    "                                                                                           ylabel = 'Общие продажи');\n",
    "\n",
    "# посчитаем корреляцию между оценками критиков и продажами\n",
    "display(ps4_df['critic_score'].corr(ps4_df['sales_amount']))"
   ]
  },
  {
   "cell_type": "markdown",
   "metadata": {},
   "source": [
    "Коэффициент корреляции Пирсона равен 0.41. Существует прямая средняя линейная связь продаж с оценками критиков."
   ]
  },
  {
   "cell_type": "code",
   "execution_count": 32,
   "metadata": {},
   "outputs": [
    {
     "data": {
      "text/plain": [
       "-0.03195711020455644"
      ]
     },
     "metadata": {},
     "output_type": "display_data"
    },
    {
     "data": {
      "image/png": "[encoded data removed]",
      "text/plain": [
       "<Figure size 432x288 with 1 Axes>"
      ]
     },
     "metadata": {
      "needs_background": "light"
     },
     "output_type": "display_data"
    }
   ],
   "source": [
    "# построим диаграмму рассеяния между оценками пользователей и продажами\n",
    "ps4_df.plot(x='user_score', y='sales_amount', kind='scatter', alpha=0.5, figsize=(6, 4)).set(title = 'PS4',\n",
    "                                                                                           xlabel = 'Оценка пользователей',\n",
    "                                                                                           ylabel = 'Общие продажи');\n",
    "\n",
    "# посчитаем корреляцию между оценками пользователей и продажами\n",
    "display(ps4_df['user_score'].corr(ps4_df['sales_amount']))"
   ]
  },
  {
   "cell_type": "markdown",
   "metadata": {},
   "source": [
    "Исходя из коэффициента корреляции Пирсона равному -0.032 и диаграммы рассеяния отметим, что оценки пользователей корреляции с продажами не имеют. "
   ]
  },
  {
   "cell_type": "markdown",
   "metadata": {},
   "source": [
    "### Соотнесите выводы с продажами игр на других платформах за актуальный период."
   ]
  },
  {
   "cell_type": "code",
   "execution_count": 33,
   "metadata": {},
   "outputs": [
    {
     "name": "stdout",
     "output_type": "stream",
     "text": [
      "\n",
      "PS3:\n",
      "Коэффициент Пирсона равен 0.33149725926295903. Оценки критиков имеют умеренную связь с продажами\n",
      "Коэффициент Пирсона равен -0.005143522887113829. Оценки игроков с продажами связи не имеют\n",
      "\n",
      "XOne:\n",
      "Коэффициент Пирсона равен 0.41699832800840153. Оценки критиков имеют умеренную связь с продажами\n",
      "Коэффициент Пирсона равен -0.06892505328279418. Оценки игроков с продажами связи не имеют\n",
      "\n",
      "3DS:\n",
      "Коэффициент Пирсона равен 0.3208028695360785. Оценки критиков имеют умеренную связь с продажами\n",
      "Коэффициент Пирсона равен 0.19758263411038593. Оценки игроков имеют слабую связь с продажами\n",
      "\n",
      "X360:\n",
      "Коэффициент Пирсона равен 0.36057348885073387. Оценки критиков имеют умеренную связь с продажами\n",
      "Коэффициент Пирсона равен 0.006163978646213359. Оценки игроков с продажами связи не имеют\n",
      "\n",
      "WiiU:\n",
      "Коэффициент Пирсона равен 0.34837976012017496. Оценки критиков имеют умеренную связь с продажами\n",
      "Коэффициент Пирсона равен 0.40021902021486194. Оценки игроков имеют умеренную связь с продажами\n",
      "\n",
      "PC:\n",
      "Коэффициент Пирсона равен 0.23724324311567904. Оценки критиков имеют слабую связь с продажами\n",
      "Коэффициент Пирсона равен -0.12186747630735571. Оценки игроков с продажами связи не имеют\n"
     ]
    }
   ],
   "source": [
    "# цикл который в зависимости от платформы посчитает корреляцию\n",
    "for platform in ['PS3', 'XOne', '3DS', 'X360', 'WiiU', 'PC']:\n",
    "    print('\\n{0}:'.format(platform))\n",
    "    #for column in ['user_score', 'critic_score']:\n",
    "    platform_df = top_actual_platforms.query('platform == @platform')\n",
    "    critic_corr = platform_df['critic_score'].corr(platform_df['sales_amount'])\n",
    "    user_corr = platform_df['user_score'].corr(platform_df['sales_amount'])\n",
    "    if critic_corr < 0.1:\n",
    "        print(f'Коэффициент Пирсона равен {critic_corr}. Оценки критиков с продажами связи не имеют')\n",
    "    elif 0.3 >= critic_corr >= 0.1:\n",
    "        print(f'Коэффициент Пирсона равен {critic_corr}. Оценки критиков имеют слабую связь с продажами')\n",
    "    elif 0.5 >= critic_corr >= 0.3:\n",
    "        print(f'Коэффициент Пирсона равен {critic_corr}. Оценки критиков имеют умеренную связь с продажами')\n",
    "    elif 0.7 >= critic_corr >= 0.5:\n",
    "        print(f'Коэффициент Пирсона равен {critic_corr}. Оценки критиков имеют довольно сильную связь с продажами')\n",
    "    elif critic_corr >= 0.7:\n",
    "        print(f'Коэффициент Пирсона равен {critic_corr}. Оценки критиков имеют очень сильную связь с продажами')\n",
    "            \n",
    "    if user_corr < 0.1:\n",
    "        print(f'Коэффициент Пирсона равен {user_corr}. Оценки игроков с продажами связи не имеют')\n",
    "    elif 0.3 >= user_corr >= 0.1:\n",
    "        print(f'Коэффициент Пирсона равен {user_corr}. Оценки игроков имеют слабую связь с продажами')\n",
    "    elif 0.5 >= user_corr >= 0.3:\n",
    "        print(f'Коэффициент Пирсона равен {user_corr}. Оценки игроков имеют умеренную связь с продажами')\n",
    "    elif 0.7 >= user_corr >= 0.5:\n",
    "        print(f'Коэффициент Пирсона равен {user_corr}. Оценки игроков имеют довольно сильную связь с продажами')\n",
    "    elif user_corr >= 0.7:\n",
    "        print(f'Коэффициент Пирсона равен {user_corr}. Оценки игроков имеют очень сильную связь с продажами')       "
   ]
  },
  {
   "cell_type": "code",
   "execution_count": 34,
   "metadata": {
    "scrolled": false
   },
   "outputs": [
    {
     "data": {
      "image/png": "[encoded data removed]",
      "text/plain": [
       "<Figure size 432x288 with 1 Axes>"
      ]
     },
     "metadata": {
      "needs_background": "light"
     },
     "output_type": "display_data"
    },
    {
     "data": {
      "image/png": "[encoded data removed]",
      "text/plain": [
       "<Figure size 432x288 with 1 Axes>"
      ]
     },
     "metadata": {
      "needs_background": "light"
     },
     "output_type": "display_data"
    },
    {
     "data": {
      "image/png": "[encoded data removed]",
      "text/plain": [
       "<Figure size 432x288 with 1 Axes>"
      ]
     },
     "metadata": {
      "needs_background": "light"
     },
     "output_type": "display_data"
    },
    {
     "data": {
      "image/png": "[encoded data removed]",
      "text/plain": [
       "<Figure size 432x288 with 1 Axes>"
      ]
     },
     "metadata": {
      "needs_background": "light"
     },
     "output_type": "display_data"
    },
    {
     "data": {
      "image/png": "[encoded data removed]",
      "text/plain": [
       "<Figure size 432x288 with 1 Axes>"
      ]
     },
     "metadata": {
      "needs_background": "light"
     },
     "output_type": "display_data"
    },
    {
     "data": {
      "image/png": "[encoded data removed]",
      "text/plain": [
       "<Figure size 432x288 with 1 Axes>"
      ]
     },
     "metadata": {
      "needs_background": "light"
     },
     "output_type": "display_data"
    },
    {
     "data": {
      "image/png": "[encoded data removed]",
      "text/plain": [
       "<Figure size 432x288 with 1 Axes>"
      ]
     },
     "metadata": {
      "needs_background": "light"
     },
     "output_type": "display_data"
    },
    {
     "data": {
      "image/png": "[encoded data removed]",
      "text/plain": [
       "<Figure size 432x288 with 1 Axes>"
      ]
     },
     "metadata": {
      "needs_background": "light"
     },
     "output_type": "display_data"
    },
    {
     "data": {
      "image/png": "[encoded data removed]",
      "text/plain": [
       "<Figure size 432x288 with 1 Axes>"
      ]
     },
     "metadata": {
      "needs_background": "light"
     },
     "output_type": "display_data"
    },
    {
     "data": {
      "image/png": "[encoded data removed]",
      "text/plain": [
       "<Figure size 432x288 with 1 Axes>"
      ]
     },
     "metadata": {
      "needs_background": "light"
     },
     "output_type": "display_data"
    },
    {
     "data": {
      "image/png": "[encoded data removed]",
      "text/plain": [
       "<Figure size 432x288 with 1 Axes>"
      ]
     },
     "metadata": {
      "needs_background": "light"
     },
     "output_type": "display_data"
    },
    {
     "data": {
      "image/png": "[encoded data removed]",
      "text/plain": [
       "<Figure size 432x288 with 1 Axes>"
      ]
     },
     "metadata": {
      "needs_background": "light"
     },
     "output_type": "display_data"
    }
   ],
   "source": [
    "# цикл который в зависимости от платформы построит диаграмму рассеяния\n",
    "for platform in ['PS3', 'XOne', '3DS', 'X360', 'WiiU', 'PC']:\n",
    "    for column in ['critic_score', 'user_score']:\n",
    "        platform_df.plot(x=column, y='sales_amount', kind='scatter', alpha=0.5, figsize=(6, 4)).set(title = platform,\n",
    "                                                                                           xlabel = column,\n",
    "                                                                                           ylabel = 'Общие продажи');"
   ]
  },
  {
   "cell_type": "markdown",
   "metadata": {},
   "source": [
    "- Коэффициент Пирсона между продажами игр на актуальных платформах и оценками критиков умеренно положительная - чем выше оценки, тем выше часть продаж. Это подтверждается и нашими графиками рассеяния.\n",
    "- Коэффициент Пирсона между продажами игр на актуальных платформах и оценками пользователей корреляции не имеют, что и наблюдаем на графиках рассеяния."
   ]
  },
  {
   "cell_type": "markdown",
   "metadata": {},
   "source": [
    "### Общее распределение игр по жанрам."
   ]
  },
  {
   "cell_type": "code",
   "execution_count": 35,
   "metadata": {},
   "outputs": [
    {
     "data": {
      "image/png": "[encoded data removed]",
      "text/plain": [
       "<Figure size 1080x360 with 1 Axes>"
      ]
     },
     "metadata": {
      "needs_background": "light"
     },
     "output_type": "display_data"
    }
   ],
   "source": [
    "# Узнаем кол-во игр в тех или иных жанрах\n",
    "top_actual_platforms.pivot_table(index='genre', values='sales_amount', aggfunc=['count'])\\\n",
    "    .sort_values(by=('count', 'sales_amount'), ascending=False)\\\n",
    "    .plot(kind='bar', figsize=(15,5), legend=False, rot=0)\\\n",
    "    .set(title='Кол-во игр по жанру', xlabel = 'Жанры игр', ylabel='Объём продаж');"
   ]
  },
  {
   "cell_type": "markdown",
   "metadata": {},
   "source": [
    "Больше всего игр выпускаются в жанре `Action`, причем отрыв большой от остальные жанров. Скорее всего это связано с тем, что в этот жанр входят некоторые другие жанры, например `Action-shooter`, `Action-RPG` и так далее."
   ]
  },
  {
   "cell_type": "code",
   "execution_count": 36,
   "metadata": {},
   "outputs": [
    {
     "data": {
      "image/png": "[encoded data removed]",
      "text/plain": [
       "<Figure size 1080x360 with 1 Axes>"
      ]
     },
     "metadata": {
      "needs_background": "light"
     },
     "output_type": "display_data"
    }
   ],
   "source": [
    "# Рассмотрим распределение по общим продажам\n",
    "top_actual_platforms.pivot_table(index='genre', values='sales_amount', aggfunc=['sum'])\\\n",
    "    .sort_values(by=('sum', 'sales_amount'), ascending=False)\\\n",
    "    .plot(kind='bar', figsize=(15,5), legend=False, rot=0)\\\n",
    "    .set(title='Сумарные продажи по жанрам', xlabel = 'Жанры игр', ylabel='Объём продаж');"
   ]
  },
  {
   "cell_type": "markdown",
   "metadata": {},
   "source": [
    "Жанр `Action` самые большие объемы по продажам, но в этом жанре и самое большое кол-во игр, так что не удивительно, что по общим продажам этот жанр лидирует. Жанр `Puzzle` имеет самые низкие общие продажи и самые низкое кол-во выпускаемых игр. "
   ]
  },
  {
   "cell_type": "code",
   "execution_count": 37,
   "metadata": {},
   "outputs": [
    {
     "data": {
      "image/png": "[encoded data removed]",
      "text/plain": [
       "<Figure size 1080x360 with 1 Axes>"
      ]
     },
     "metadata": {
      "needs_background": "light"
     },
     "output_type": "display_data"
    }
   ],
   "source": [
    " # Рассмотрим распределение по средним продажам\n",
    "top_actual_platforms.pivot_table(index='genre', values='sales_amount', aggfunc='mean')\\\n",
    "    .sort_values(by=('sales_amount'), ascending=False)\\\n",
    "    .plot(kind='bar', figsize=(15,5), legend=False, rot=0)\\\n",
    "    .set(title='Средние продажи по жанрам', xlabel = 'Жанры игр', ylabel='Средний объём продаж');"
   ]
  },
  {
   "cell_type": "markdown",
   "metadata": {},
   "source": [
    "По средним продажам совсем иная картина, теперь мы точно можем отметить, что жанр Shooter является перспективным направлением в gamedev. Лидер по общим продажам Action даже не вошел в топ 5, это говорит о том, что в этом жанре выходит очень много посредственных игр."
   ]
  },
  {
   "cell_type": "markdown",
   "metadata": {},
   "source": [
    "## Портрет пользователя каждого региона"
   ]
  },
  {
   "cell_type": "markdown",
   "metadata": {},
   "source": [
    "### Самые популярные платформы (топ-5). "
   ]
  },
  {
   "cell_type": "markdown",
   "metadata": {},
   "source": [
    "#### NA - Северная Америка"
   ]
  },
  {
   "cell_type": "code",
   "execution_count": 38,
   "metadata": {},
   "outputs": [
    {
     "data": {
      "image/png": "[encoded data removed]",
      "text/plain": [
       "<Figure size 720x360 with 1 Axes>"
      ]
     },
     "metadata": {
      "needs_background": "light"
     },
     "output_type": "display_data"
    }
   ],
   "source": [
    "top_actual_platforms.pivot_table(index='platform', values='na_sales', aggfunc='sum')\\\n",
    "    .sort_values(by=('na_sales'), ascending=False).head()\\\n",
    "    .plot(kind='bar', figsize=(10,5), legend=False, rot=0)\\\n",
    "    .set(title='Продажи по Северной Америке', xlabel = 'Платформа', ylabel='Объём продаж');"
   ]
  },
  {
   "cell_type": "markdown",
   "metadata": {},
   "source": [
    "Из консолей прошлого поколения лидером по общим продажам в Северной Америке был Xbox 360 больше, чем у прямого конкурента этого же поколения PS3. Другая картина наблюдается среди консолей нового поколения, PS4 обходит по продажам Xbox One."
   ]
  },
  {
   "cell_type": "markdown",
   "metadata": {},
   "source": [
    "#### EU - Европа"
   ]
  },
  {
   "cell_type": "code",
   "execution_count": 39,
   "metadata": {},
   "outputs": [
    {
     "data": {
      "image/png": "[encoded data removed]",
      "text/plain": [
       "<Figure size 720x360 with 1 Axes>"
      ]
     },
     "metadata": {
      "needs_background": "light"
     },
     "output_type": "display_data"
    }
   ],
   "source": [
    "top_actual_platforms.pivot_table(index='platform', values='eu_sales', aggfunc='sum')\\\n",
    "    .sort_values(by=('eu_sales'), ascending=False).head()\\\n",
    "    .plot(kind='bar', figsize=(10,5), legend=False, rot=0)\\\n",
    "    .set(title='Продажи по Европе', xlabel = 'Платформа', ylabel='Объём продаж');"
   ]
  },
  {
   "cell_type": "markdown",
   "metadata": {},
   "source": [
    "В Европе игроки любят самураев. PS4 и PS3 занимают первое и второе место соответственно по объемам продаж."
   ]
  },
  {
   "cell_type": "markdown",
   "metadata": {},
   "source": [
    "#### JP - Япония"
   ]
  },
  {
   "cell_type": "code",
   "execution_count": 40,
   "metadata": {},
   "outputs": [
    {
     "data": {
      "image/png": "[encoded data removed]",
      "text/plain": [
       "<Figure size 720x360 with 1 Axes>"
      ]
     },
     "metadata": {
      "needs_background": "light"
     },
     "output_type": "display_data"
    }
   ],
   "source": [
    "top_actual_platforms.pivot_table(index='platform', values='jp_sales', aggfunc='sum')\\\n",
    "    .sort_values(by=('jp_sales'), ascending=False).head()\\\n",
    "    .plot(kind='bar', figsize=(10,5), legend=False, rot=0)\\\n",
    "    .set(title='Продажи по Японии', xlabel = 'Платформа', ylabel='Объём продаж');"
   ]
  },
  {
   "cell_type": "markdown",
   "metadata": {},
   "source": [
    "Интересная картина наблюдается в Японии. Портативная консоль 3DS от Nintendo по объемам продаж обходит такие консоли как PS3 и PS4. Стоит отметить, что так же в топе присутствует другая портативная консоль PSV, в Японии игроки любят играть везде."
   ]
  },
  {
   "cell_type": "markdown",
   "metadata": {},
   "source": [
    "Для наглядности какая платформа занимает какую долю рынка в определенном регионе, построим круговую диаграмму."
   ]
  },
  {
   "cell_type": "code",
   "execution_count": 41,
   "metadata": {},
   "outputs": [
    {
     "data": {
      "image/png": "[encoded data removed]",
      "text/plain": [
       "<Figure size 1080x360 with 3 Axes>"
      ]
     },
     "metadata": {},
     "output_type": "display_data"
    }
   ],
   "source": [
    "explode = [0.08] * 6 # задаем росстояние между долями круговой диаграммы для наглядности\n",
    "\n",
    "# Задаем список регионов\n",
    "countries = top_actual_platforms.columns[4:7]\n",
    "\n",
    "# Выведим круговую диаграмму для каждого региона\n",
    "fig, axs = plt.subplots(1, 3, figsize=(15, 5))\n",
    "fig.suptitle('ТОП-5 платформ в регионах')\n",
    "# Выберем 5 самых продающих платфор\n",
    "for i in range(3):\n",
    "    top_actual_platforms_i = (top_actual_platforms.groupby('platform')[countries[i]].sum().\n",
    "             reset_index().\n",
    "             sort_values(countries[i], ascending = False, ignore_index = True).\n",
    "             head(5))\n",
    "# Занесем все остальные продажи в other_platforms\n",
    "    top_actual_platforms_i = top_actual_platforms_i.append({'platform': 'other_platforms', countries[i]: top_actual_platforms[countries[i]].sum() - top_actual_platforms_i[countries[i]].sum()}, ignore_index= True)\n",
    "    axs[i].pie(top_actual_platforms_i[countries[i]], labels = top_actual_platforms_i['platform'], autopct='%1.1f%%', startangle=90, explode=explode)\n",
    "\n",
    "# Зададим название региона\n",
    "    axs[i].set_title(top_actual_platforms_i.columns[1].split('_')[0].upper())\n",
    "    \n",
    "plt.show()"
   ]
  },
  {
   "cell_type": "markdown",
   "metadata": {},
   "source": [
    "- NA, в Северной Америке самая большая доля рынка на текущий момент у платформы Xbox360\n",
    "- EU, в Европу самая большая доля рынка на текущий момент у платформы PS4\n",
    "- JP, в Японии самая большая доля рынка на текущий момент у платформы 3DS"
   ]
  },
  {
   "cell_type": "markdown",
   "metadata": {},
   "source": [
    "### Самые популярные жанры (топ-5). Поясните разницу."
   ]
  },
  {
   "cell_type": "markdown",
   "metadata": {},
   "source": [
    "#### NA - Северная Америка"
   ]
  },
  {
   "cell_type": "code",
   "execution_count": 42,
   "metadata": {},
   "outputs": [
    {
     "data": {
      "image/png": "[encoded data removed]",
      "text/plain": [
       "<Figure size 720x360 with 1 Axes>"
      ]
     },
     "metadata": {
      "needs_background": "light"
     },
     "output_type": "display_data"
    }
   ],
   "source": [
    "top_actual_platforms.pivot_table(index='genre', values='na_sales', aggfunc='sum')\\\n",
    "    .sort_values(by=('na_sales'), ascending=False).head()\\\n",
    "    .plot(kind='bar', figsize=(10,5), legend=False, rot=0)\\\n",
    "    .set(title='Продажи по Северной Америке', xlabel = 'Жанры игр', ylabel='Объём продаж');"
   ]
  },
  {
   "cell_type": "markdown",
   "metadata": {},
   "source": [
    "В Северной Америке по объемам продаж лидирует жанр Action, потом идет Shooter."
   ]
  },
  {
   "cell_type": "markdown",
   "metadata": {},
   "source": [
    "#### EU - Европа"
   ]
  },
  {
   "cell_type": "code",
   "execution_count": 43,
   "metadata": {},
   "outputs": [
    {
     "data": {
      "image/png": "[encoded data removed]",
      "text/plain": [
       "<Figure size 720x360 with 1 Axes>"
      ]
     },
     "metadata": {
      "needs_background": "light"
     },
     "output_type": "display_data"
    }
   ],
   "source": [
    "top_actual_platforms.pivot_table(index='genre', values='eu_sales', aggfunc='sum')\\\n",
    "    .sort_values(by=('eu_sales'), ascending=False).head()\\\n",
    "    .plot(kind='bar', figsize=(10,5), legend=False, rot=0)\\\n",
    "    .set(title='Продажи по Европе', xlabel = 'Жанры игр', ylabel='Объём продаж');"
   ]
  },
  {
   "cell_type": "markdown",
   "metadata": {},
   "source": [
    "В Европе по популярности жанров идентичная картина, как и в Северной Америке."
   ]
  },
  {
   "cell_type": "markdown",
   "metadata": {},
   "source": [
    "#### JP - Япония"
   ]
  },
  {
   "cell_type": "code",
   "execution_count": 44,
   "metadata": {},
   "outputs": [
    {
     "data": {
      "image/png": "[encoded data removed]",
      "text/plain": [
       "<Figure size 720x360 with 1 Axes>"
      ]
     },
     "metadata": {
      "needs_background": "light"
     },
     "output_type": "display_data"
    }
   ],
   "source": [
    "top_actual_platforms.pivot_table(index='genre', values='jp_sales', aggfunc='sum')\\\n",
    "    .sort_values(by=('jp_sales'), ascending=False).head()\\\n",
    "    .plot(kind='bar', figsize=(10,5), legend=False, rot=0)\\\n",
    "    .set(title='Продажи по Японии', xlabel = 'Жанры игр', ylabel='Объём продаж');"
   ]
  },
  {
   "cell_type": "markdown",
   "metadata": {},
   "source": [
    "В Японии, как и в случае с платформами наблюдается совсем другая картина. Больше всего игроки в Японии любят жанр RPG, следом идет Action."
   ]
  },
  {
   "cell_type": "markdown",
   "metadata": {},
   "source": [
    "Для наглядности какой жанр занимает какую долю рынка в определенном регионе, построим круговую диаграмму."
   ]
  },
  {
   "cell_type": "code",
   "execution_count": 45,
   "metadata": {},
   "outputs": [
    {
     "data": {
      "image/png": "[encoded data removed]",
      "text/plain": [
       "<Figure size 1080x360 with 3 Axes>"
      ]
     },
     "metadata": {},
     "output_type": "display_data"
    }
   ],
   "source": [
    "explode = [0.08] * 6\n",
    "\n",
    "# Задаем список регионов\n",
    "countries = top_actual_platforms.columns[4:7]\n",
    "\n",
    "# Выведим круговую диаграмму для каждого региона\n",
    "fig, axs = plt.subplots(1, 3, figsize=(15, 5))\n",
    "fig.suptitle('ТОП-5 игровых жанр в регионах')\n",
    "# Выберем 5 самых актуальных жанров\n",
    "for i in range(3):\n",
    "    top_actual_platforms_i = (top_actual_platforms.groupby('genre')[countries[i]].sum().\n",
    "             reset_index().\n",
    "             sort_values(countries[i], ascending = False, ignore_index = True).\n",
    "             head(5))\n",
    "# Занесем все остальные продажи в other_genre\n",
    "    top_actual_platforms_i = top_actual_platforms_i.append({'genre': 'other_genre', countries[i]: top_actual_platforms[countries[i]].sum() - top_actual_platforms_i[countries[i]].sum()}, ignore_index= True)\n",
    "    axs[i].pie(top_actual_platforms_i[countries[i]], labels = top_actual_platforms_i['genre'], autopct='%1.1f%%', startangle=90, explode=explode)\n",
    "\n",
    "# Зададим название региона\n",
    "    axs[i].set_title(top_actual_platforms_i.columns[1].split('_')[0].upper())\n",
    "    \n",
    "plt.show()"
   ]
  },
  {
   "cell_type": "markdown",
   "metadata": {},
   "source": [
    "- NA, в Северной Америке самая большая доля рынка на текущий момент у жанра Action\n",
    "- EU, в Европу самая большая доля рынка на текущий момент у жанра Action\n",
    "- JP, в Японии самая большая доля рынка на текущий момент у жанра RPG"
   ]
  },
  {
   "cell_type": "markdown",
   "metadata": {},
   "source": [
    "### Влияние рейтинга ESRB на продажи по регионам."
   ]
  },
  {
   "cell_type": "markdown",
   "metadata": {},
   "source": [
    "Entertainment Software Rating Board (ESRB) — негосударственная организация, основное направление деятельности — принятие и определение рейтингов для компьютерных видеоигр и другого развлекательного программного обеспечения в США и Канаде. \n",
    "- M (Mature) — Для взрослых\n",
    "- E (everyone) — Для всех\n",
    "- E10+ (Everyone 10 and older) — Для всех от 10 лет и старше\n",
    "- T (Teen) — Подросткам"
   ]
  },
  {
   "cell_type": "markdown",
   "metadata": {},
   "source": [
    "#### NA - Северная Америка"
   ]
  },
  {
   "cell_type": "code",
   "execution_count": 46,
   "metadata": {},
   "outputs": [
    {
     "data": {
      "image/png": "[encoded data removed]",
      "text/plain": [
       "<Figure size 720x360 with 1 Axes>"
      ]
     },
     "metadata": {
      "needs_background": "light"
     },
     "output_type": "display_data"
    }
   ],
   "source": [
    "top_actual_platforms.pivot_table(index='rating', values='na_sales', aggfunc='sum')\\\n",
    "    .sort_values(by=('na_sales'), ascending=False)\\\n",
    "    .plot(kind='bar', figsize=(10,5), legend=False, rot=0)\\\n",
    "    .set(title='Продажи по Северной Америке', xlabel = 'Возрастной рейтинг', ylabel='Объём продаж');"
   ]
  },
  {
   "cell_type": "markdown",
   "metadata": {},
   "source": [
    "#### EU - Европа"
   ]
  },
  {
   "cell_type": "code",
   "execution_count": 47,
   "metadata": {},
   "outputs": [
    {
     "data": {
      "image/png": "[encoded data removed]",
      "text/plain": [
       "<Figure size 720x360 with 1 Axes>"
      ]
     },
     "metadata": {
      "needs_background": "light"
     },
     "output_type": "display_data"
    }
   ],
   "source": [
    "top_actual_platforms.pivot_table(index='rating', values='eu_sales', aggfunc='sum')\\\n",
    "    .sort_values(by=('eu_sales'), ascending=False)\\\n",
    "    .plot(kind='bar', figsize=(10,5), legend=False, rot=0)\\\n",
    "    .set(title='Продажи по Европе', xlabel = 'Возрастной рейтинг', ylabel='Объём продаж');"
   ]
  },
  {
   "cell_type": "markdown",
   "metadata": {},
   "source": [
    "В Европе и в Северной Америке наблюдается идентичная картина. Игры с рейтингом для взрослых имеют самый высокий объем продаж."
   ]
  },
  {
   "cell_type": "markdown",
   "metadata": {},
   "source": [
    "#### JP - Япония"
   ]
  },
  {
   "cell_type": "code",
   "execution_count": 48,
   "metadata": {},
   "outputs": [
    {
     "data": {
      "image/png": "[encoded data removed]",
      "text/plain": [
       "<Figure size 720x360 with 1 Axes>"
      ]
     },
     "metadata": {
      "needs_background": "light"
     },
     "output_type": "display_data"
    }
   ],
   "source": [
    "top_actual_platforms.pivot_table(index='rating', values='jp_sales', aggfunc='sum')\\\n",
    "    .sort_values(by=('jp_sales'), ascending=False)\\\n",
    "    .plot(kind='bar', figsize=(10,5), legend=False, rot=0)\\\n",
    "    .set(title='Продажи по Японии', xlabel = 'Возрастной рейтинг', ylabel='Объём продаж');"
   ]
  },
  {
   "cell_type": "markdown",
   "metadata": {},
   "source": [
    "В Японии игры с возрастным рейтингом для всех имеет самый большой спрос, на втором месте идут игры для подростков."
   ]
  },
  {
   "cell_type": "markdown",
   "metadata": {},
   "source": [
    "Портрет пользователя по регионам у нас следующий:\n",
    "- Северная Америка:\n",
    "Взрослые, которые любят играть на xbox в action и shooter игры\n",
    "- Европа:\n",
    "Взрослые, которые любят играть на playstation в action и shooter игры\n",
    "- Япония:\n",
    "Игроки, которые играют портативных консолях типо nintendo в RPG и Action игры для всех.\n"
   ]
  },
  {
   "cell_type": "markdown",
   "metadata": {},
   "source": [
    "## Проверка гипотезы"
   ]
  },
  {
   "cell_type": "markdown",
   "metadata": {},
   "source": [
    "### Гипотеза: Средние пользовательские рейтинги платформ Xbox One и PC одинаковые"
   ]
  },
  {
   "cell_type": "markdown",
   "metadata": {},
   "source": [
    "Проверка гипотезы: Средние пользовательские рейтинги платформ Xbox One и PC одинаковые:\n",
    "\n",
    "- H_0: Средний пользовательский рейтинг по платформе Xbox One = Средний пользовательский рейтинг по платформе PC\n",
    "\n",
    "- H_1: Средний пользовательский рейтинг по платформе Xbox One ≠ Средний пользовательский рейтинг по платформе PC\n",
    "\n",
    "alpha = 0.05 "
   ]
  },
  {
   "cell_type": "code",
   "execution_count": 49,
   "metadata": {},
   "outputs": [
    {
     "name": "stdout",
     "output_type": "stream",
     "text": [
      "0.5489537965134912\n",
      "Не получилось отвергнуть нулевую гипотезу\n"
     ]
    }
   ],
   "source": [
    "# так как проверка гипотезы о равенстве среднего двух генеральных совокупностей по взятым из них выборкам \n",
    "# будем использовать ttest_ind\n",
    "\n",
    "results = st.ttest_ind(\n",
    "    top_actual_platforms.query('platform == \"XOne\" & user_score > 0')['user_score'],\n",
    "    top_actual_platforms.query('platform == \"PC\" & user_score > 0')['user_score'],\n",
    "    equal_var = False\n",
    ")\n",
    "\n",
    "alpha = 0.05\n",
    "\n",
    "print(results.pvalue)\n",
    "\n",
    "if results.pvalue < alpha:\n",
    "    print('Отвергаем нулевую гипотезу')\n",
    "else:\n",
    "    print('Не получилось отвергнуть нулевую гипотезу')\n"
   ]
  },
  {
   "cell_type": "markdown",
   "metadata": {},
   "source": [
    "**Не получилось отвергнуть нулевую гипотезу, можно сделать вывод, что средние пользовательские рейтинги платформ Xbox One и PC одинаковые**."
   ]
  },
  {
   "cell_type": "code",
   "execution_count": 50,
   "metadata": {},
   "outputs": [
    {
     "data": {
      "text/html": [
       "<div>\n",
       "<style scoped>\n",
       "    .dataframe tbody tr th:only-of-type {\n",
       "        vertical-align: middle;\n",
       "    }\n",
       "\n",
       "    .dataframe tbody tr th {\n",
       "        vertical-align: top;\n",
       "    }\n",
       "\n",
       "    .dataframe thead th {\n",
       "        text-align: right;\n",
       "    }\n",
       "</style>\n",
       "<table border=\"1\" class=\"dataframe\">\n",
       "  <thead>\n",
       "    <tr style=\"text-align: right;\">\n",
       "      <th></th>\n",
       "      <th>user_score</th>\n",
       "    </tr>\n",
       "    <tr>\n",
       "      <th>platform</th>\n",
       "      <th></th>\n",
       "    </tr>\n",
       "  </thead>\n",
       "  <tbody>\n",
       "    <tr>\n",
       "      <th>PC</th>\n",
       "      <td>6.428641</td>\n",
       "    </tr>\n",
       "    <tr>\n",
       "      <th>XOne</th>\n",
       "      <td>6.521429</td>\n",
       "    </tr>\n",
       "  </tbody>\n",
       "</table>\n",
       "</div>"
      ],
      "text/plain": [
       "          user_score\n",
       "platform            \n",
       "PC          6.428641\n",
       "XOne        6.521429"
      ]
     },
     "execution_count": 50,
     "metadata": {},
     "output_type": "execute_result"
    }
   ],
   "source": [
    "top_actual_platforms.query('platform == \"XOne\" or platform == \"PC\"')\\\n",
    "                    .pivot_table(index='platform', values='user_score', aggfunc='mean')"
   ]
  },
  {
   "cell_type": "markdown",
   "metadata": {},
   "source": [
    "### Гипотеза: Средние пользовательские рейтинги жанра Action и жанра Sports одинаковые"
   ]
  },
  {
   "cell_type": "markdown",
   "metadata": {},
   "source": [
    "Проверка гипотезы: Средние пользовательские рейтинги жанра Action и жанра Sports одинаковые:\n",
    "\n",
    "- H_0: Средний пользовательский рейтинг жанра Action = Средний пользовательский рейтинг жанра Sports\n",
    "\n",
    "- H_1: Средний пользовательский рейтинг жанра Action ≠ Средний пользовательский рейтинг жанра Sports\n",
    "\n",
    "alpha = 0.05 "
   ]
  },
  {
   "cell_type": "code",
   "execution_count": 51,
   "metadata": {},
   "outputs": [
    {
     "name": "stdout",
     "output_type": "stream",
     "text": [
      "4.24307776572644e-20\n",
      "Отвергаем нулевую гипотезу\n"
     ]
    }
   ],
   "source": [
    "results = st.ttest_ind(\n",
    "    top_actual_platforms.query('genre == \"Action\" & user_score > 0')['user_score'],\n",
    "    top_actual_platforms.query('genre == \"Sports\" & user_score > 0')['user_score'],\n",
    "    equal_var = False\n",
    ")\n",
    "\n",
    "alpha = 0.05\n",
    "\n",
    "print(results.pvalue)\n",
    "\n",
    "if results.pvalue < alpha:\n",
    "    print('Отвергаем нулевую гипотезу')\n",
    "else:\n",
    "    print('Не получилось отвергнуть нулевую гипотезу')"
   ]
  },
  {
   "cell_type": "markdown",
   "metadata": {},
   "source": [
    "**На имеющихся данных, на уровне значимости 5% есть основания отвергнуть нулевую гипотезу о равенстве средних значений пользовательских рейтингов (отзывов) жанров Action и Sports в пользу альтернативной гипотезы.**"
   ]
  },
  {
   "cell_type": "code",
   "execution_count": 52,
   "metadata": {},
   "outputs": [
    {
     "data": {
      "text/html": [
       "<div>\n",
       "<style scoped>\n",
       "    .dataframe tbody tr th:only-of-type {\n",
       "        vertical-align: middle;\n",
       "    }\n",
       "\n",
       "    .dataframe tbody tr th {\n",
       "        vertical-align: top;\n",
       "    }\n",
       "\n",
       "    .dataframe thead th {\n",
       "        text-align: right;\n",
       "    }\n",
       "</style>\n",
       "<table border=\"1\" class=\"dataframe\">\n",
       "  <thead>\n",
       "    <tr style=\"text-align: right;\">\n",
       "      <th></th>\n",
       "      <th>user_score</th>\n",
       "    </tr>\n",
       "    <tr>\n",
       "      <th>genre</th>\n",
       "      <th></th>\n",
       "    </tr>\n",
       "  </thead>\n",
       "  <tbody>\n",
       "    <tr>\n",
       "      <th>Action</th>\n",
       "      <td>6.825048</td>\n",
       "    </tr>\n",
       "    <tr>\n",
       "      <th>Sports</th>\n",
       "      <td>5.455897</td>\n",
       "    </tr>\n",
       "  </tbody>\n",
       "</table>\n",
       "</div>"
      ],
      "text/plain": [
       "        user_score\n",
       "genre             \n",
       "Action    6.825048\n",
       "Sports    5.455897"
      ]
     },
     "execution_count": 52,
     "metadata": {},
     "output_type": "execute_result"
    }
   ],
   "source": [
    "top_actual_platforms.query('genre == \"Action\" or genre == \"Sports\"')\\\n",
    "                    .pivot_table(index='genre', values='user_score', aggfunc='mean')"
   ]
  },
  {
   "cell_type": "markdown",
   "metadata": {},
   "source": [
    "## Общий вывод"
   ]
  },
  {
   "cell_type": "markdown",
   "metadata": {},
   "source": [
    "В нашем распоряжении оказались данные о продажах игр, оценки пользователей и экспертов, жанры и платформы. Мы выполнили предобработку данных, обработали пропущенные значения там, где это необходимо, заменили типы данных на необходимые для корректной работы. \n",
    "\n",
    "Проведя исследовательский анализ данных выяснили:\n",
    "1. Посмотрев сколько игр выпускалось в разные годы и как менялись продажи по платформам определили актуальный период в 4 года. Исходя из следующего: \n",
    "- Отрасль разработки игр быстро развивается. Данные быстро становятся неактуальными. Жизненный цикл платформ лидеров рынка находится на спаде. \n",
    "- Игровые платформы являются конкурентными товарами по отношению друг к другу, к концу жизненного цикла, к чему судя по нашему анализу рынок идет, выйдет новое поколение платформ. \n",
    "- Новые платформы, это новые технологические возможности для разработки игр. (данные старше нескольких лет не подойдут)\n",
    "2. Проанализировав продажи, выбрали следующие платформы как потенциально прибыльные: PS4, XOne и PC.\n",
    "3. Посмотрев на общее распределение игр по жанрам. Выделили жанр Shooter, как перспективное направление gamedev с высокими продажами.\n",
    "4. Составили портрет пользователя каждого региона и выяснили, что портрет пользователя по регионам у нас следующий:\n",
    "- Северная Америка:\n",
    "Взрослые которые любят играть на xbox в action и shooter игры\n",
    "- Европа:\n",
    "Взрослые, которые любят играть на playstation в action и shooter игры\n",
    "- Япония:\n",
    "Игроки, которые играют на портативных консолях типа nintendo в RPG и Action игры для всех."
   ]
  }
 ],
 "metadata": {
  "ExecuteTimeLog": [
   {
    "duration": 655,
    "start_time": "2022-10-19T14:29:54.902Z"
   },
   {
    "duration": 64,
    "start_time": "2022-10-19T14:30:02.212Z"
   },
   {
    "duration": 72,
    "start_time": "2022-10-19T14:30:45.996Z"
   },
   {
    "duration": 14,
    "start_time": "2022-10-19T14:31:14.693Z"
   },
   {
    "duration": 4,
    "start_time": "2022-10-19T14:49:35.125Z"
   },
   {
    "duration": 13,
    "start_time": "2022-10-19T14:49:44.896Z"
   },
   {
    "duration": 5,
    "start_time": "2022-10-19T14:52:23.318Z"
   },
   {
    "duration": 4,
    "start_time": "2022-10-19T14:52:36.985Z"
   },
   {
    "duration": 548,
    "start_time": "2022-10-20T09:19:44.842Z"
   },
   {
    "duration": 17,
    "start_time": "2022-10-20T09:19:45.392Z"
   },
   {
    "duration": 11,
    "start_time": "2022-10-20T09:19:45.410Z"
   },
   {
    "duration": 18,
    "start_time": "2022-10-20T09:19:45.423Z"
   },
   {
    "duration": 67,
    "start_time": "2022-10-20T09:23:58.911Z"
   },
   {
    "duration": 3,
    "start_time": "2022-10-20T09:25:39.884Z"
   },
   {
    "duration": 12,
    "start_time": "2022-10-20T09:26:03.428Z"
   },
   {
    "duration": 6,
    "start_time": "2022-10-20T09:27:30.816Z"
   },
   {
    "duration": 14,
    "start_time": "2022-10-20T09:27:45.875Z"
   },
   {
    "duration": 6,
    "start_time": "2022-10-20T09:27:57.709Z"
   },
   {
    "duration": 12,
    "start_time": "2022-10-20T09:27:59.323Z"
   },
   {
    "duration": 13,
    "start_time": "2022-10-20T09:28:07.148Z"
   },
   {
    "duration": 2,
    "start_time": "2022-10-20T09:28:18.653Z"
   },
   {
    "duration": 13,
    "start_time": "2022-10-20T09:28:20.210Z"
   },
   {
    "duration": 57,
    "start_time": "2022-10-20T09:28:28.835Z"
   },
   {
    "duration": 4,
    "start_time": "2022-10-20T09:28:34.594Z"
   },
   {
    "duration": 4,
    "start_time": "2022-10-20T09:28:35.641Z"
   },
   {
    "duration": 4,
    "start_time": "2022-10-20T09:28:36.474Z"
   },
   {
    "duration": 2,
    "start_time": "2022-10-20T09:28:39.879Z"
   },
   {
    "duration": 12,
    "start_time": "2022-10-20T09:28:41.402Z"
   },
   {
    "duration": 458,
    "start_time": "2022-10-20T10:03:10.360Z"
   },
   {
    "duration": 15,
    "start_time": "2022-10-20T10:03:10.820Z"
   },
   {
    "duration": 5,
    "start_time": "2022-10-20T10:03:10.837Z"
   },
   {
    "duration": 8,
    "start_time": "2022-10-20T10:03:10.844Z"
   },
   {
    "duration": 31,
    "start_time": "2022-10-20T10:03:10.854Z"
   },
   {
    "duration": 14,
    "start_time": "2022-10-20T10:03:10.886Z"
   },
   {
    "duration": 4,
    "start_time": "2022-10-20T10:03:49.851Z"
   },
   {
    "duration": 13,
    "start_time": "2022-10-20T10:03:51.198Z"
   },
   {
    "duration": 3,
    "start_time": "2022-10-20T10:03:53.594Z"
   },
   {
    "duration": 13,
    "start_time": "2022-10-20T10:03:54.935Z"
   },
   {
    "duration": 4,
    "start_time": "2022-10-20T10:03:58.933Z"
   },
   {
    "duration": 13,
    "start_time": "2022-10-20T10:04:00.191Z"
   },
   {
    "duration": 8,
    "start_time": "2022-10-20T10:07:11.388Z"
   },
   {
    "duration": 7,
    "start_time": "2022-10-20T10:11:26.159Z"
   },
   {
    "duration": 34,
    "start_time": "2022-10-20T10:12:07.439Z"
   },
   {
    "duration": 8,
    "start_time": "2022-10-20T10:12:11.381Z"
   },
   {
    "duration": 6,
    "start_time": "2022-10-20T10:12:15.659Z"
   },
   {
    "duration": 3823,
    "start_time": "2022-10-20T10:13:35.085Z"
   },
   {
    "duration": 20,
    "start_time": "2022-10-20T10:31:42.427Z"
   },
   {
    "duration": 13,
    "start_time": "2022-10-20T10:31:49.695Z"
   },
   {
    "duration": 8,
    "start_time": "2022-10-20T10:31:57.986Z"
   },
   {
    "duration": 44,
    "start_time": "2022-10-20T10:32:53.759Z"
   },
   {
    "duration": 29,
    "start_time": "2022-10-20T10:33:05.156Z"
   },
   {
    "duration": 41,
    "start_time": "2022-10-20T10:33:35.463Z"
   },
   {
    "duration": 468,
    "start_time": "2022-10-20T10:55:51.558Z"
   },
   {
    "duration": 12,
    "start_time": "2022-10-20T10:55:52.028Z"
   },
   {
    "duration": 5,
    "start_time": "2022-10-20T10:55:52.042Z"
   },
   {
    "duration": 15,
    "start_time": "2022-10-20T10:55:52.049Z"
   },
   {
    "duration": 14,
    "start_time": "2022-10-20T10:55:52.065Z"
   },
   {
    "duration": 20,
    "start_time": "2022-10-20T10:55:52.081Z"
   },
   {
    "duration": 20,
    "start_time": "2022-10-20T10:55:52.102Z"
   },
   {
    "duration": 7,
    "start_time": "2022-10-20T10:55:52.124Z"
   },
   {
    "duration": 5,
    "start_time": "2022-10-20T10:55:52.132Z"
   },
   {
    "duration": 15,
    "start_time": "2022-10-20T10:55:52.138Z"
   },
   {
    "duration": 6,
    "start_time": "2022-10-20T10:57:08.577Z"
   },
   {
    "duration": 3,
    "start_time": "2022-10-20T10:57:17.738Z"
   },
   {
    "duration": 21,
    "start_time": "2022-10-20T11:03:26.848Z"
   },
   {
    "duration": 9,
    "start_time": "2022-10-20T11:06:01.108Z"
   },
   {
    "duration": 9,
    "start_time": "2022-10-20T11:06:26.748Z"
   },
   {
    "duration": 9,
    "start_time": "2022-10-20T11:06:57.978Z"
   },
   {
    "duration": 9,
    "start_time": "2022-10-20T11:07:58.498Z"
   },
   {
    "duration": 9,
    "start_time": "2022-10-20T11:08:55.499Z"
   },
   {
    "duration": 487,
    "start_time": "2022-10-20T11:10:45.680Z"
   },
   {
    "duration": 13,
    "start_time": "2022-10-20T11:10:46.169Z"
   },
   {
    "duration": 5,
    "start_time": "2022-10-20T11:10:46.184Z"
   },
   {
    "duration": 6,
    "start_time": "2022-10-20T11:10:46.191Z"
   },
   {
    "duration": 15,
    "start_time": "2022-10-20T11:10:46.199Z"
   },
   {
    "duration": 23,
    "start_time": "2022-10-20T11:10:46.216Z"
   },
   {
    "duration": 2,
    "start_time": "2022-10-20T11:10:46.241Z"
   },
   {
    "duration": 14,
    "start_time": "2022-10-20T11:10:46.284Z"
   },
   {
    "duration": 130,
    "start_time": "2022-10-20T11:11:54.988Z"
   },
   {
    "duration": 9,
    "start_time": "2022-10-20T11:11:57.378Z"
   },
   {
    "duration": 440,
    "start_time": "2022-10-20T11:12:16.501Z"
   },
   {
    "duration": 15,
    "start_time": "2022-10-20T11:12:16.943Z"
   },
   {
    "duration": 51,
    "start_time": "2022-10-20T11:12:16.960Z"
   },
   {
    "duration": 71,
    "start_time": "2022-10-20T11:12:17.014Z"
   },
   {
    "duration": 44,
    "start_time": "2022-10-20T11:12:17.087Z"
   },
   {
    "duration": 73,
    "start_time": "2022-10-20T11:12:17.133Z"
   },
   {
    "duration": 5,
    "start_time": "2022-10-20T11:12:17.208Z"
   },
   {
    "duration": 37,
    "start_time": "2022-10-20T11:12:17.214Z"
   },
   {
    "duration": 6,
    "start_time": "2022-10-20T11:36:40.351Z"
   },
   {
    "duration": 5,
    "start_time": "2022-10-20T11:36:56.000Z"
   },
   {
    "duration": 6,
    "start_time": "2022-10-20T11:37:15.172Z"
   },
   {
    "duration": 10,
    "start_time": "2022-10-20T11:37:27.171Z"
   },
   {
    "duration": 79,
    "start_time": "2022-10-20T11:37:46.252Z"
   },
   {
    "duration": 23,
    "start_time": "2022-10-20T11:38:01.172Z"
   },
   {
    "duration": 13,
    "start_time": "2022-10-20T11:38:49.451Z"
   },
   {
    "duration": 294,
    "start_time": "2022-10-20T11:39:22.311Z"
   },
   {
    "duration": 404,
    "start_time": "2022-10-20T11:42:18.419Z"
   },
   {
    "duration": 12,
    "start_time": "2022-10-20T11:42:18.825Z"
   },
   {
    "duration": 3,
    "start_time": "2022-10-20T11:42:18.838Z"
   },
   {
    "duration": 6,
    "start_time": "2022-10-20T11:42:18.843Z"
   },
   {
    "duration": 12,
    "start_time": "2022-10-20T11:42:18.850Z"
   },
   {
    "duration": 35,
    "start_time": "2022-10-20T11:42:18.863Z"
   },
   {
    "duration": 17,
    "start_time": "2022-10-20T11:42:18.900Z"
   },
   {
    "duration": 2,
    "start_time": "2022-10-20T11:42:18.918Z"
   },
   {
    "duration": 16,
    "start_time": "2022-10-20T11:42:18.921Z"
   },
   {
    "duration": 4,
    "start_time": "2022-10-20T11:49:20.264Z"
   },
   {
    "duration": 5,
    "start_time": "2022-10-20T11:49:46.104Z"
   },
   {
    "duration": 4,
    "start_time": "2022-10-20T12:00:45.026Z"
   },
   {
    "duration": 4,
    "start_time": "2022-10-20T12:00:59.558Z"
   },
   {
    "duration": 5,
    "start_time": "2022-10-20T12:01:21.204Z"
   },
   {
    "duration": 13,
    "start_time": "2022-10-20T12:02:10.236Z"
   },
   {
    "duration": 4,
    "start_time": "2022-10-20T12:02:55.705Z"
   },
   {
    "duration": 5,
    "start_time": "2022-10-20T12:03:23.223Z"
   },
   {
    "duration": 415,
    "start_time": "2022-10-20T12:03:29.218Z"
   },
   {
    "duration": 13,
    "start_time": "2022-10-20T12:03:29.634Z"
   },
   {
    "duration": 3,
    "start_time": "2022-10-20T12:03:29.649Z"
   },
   {
    "duration": 7,
    "start_time": "2022-10-20T12:03:29.654Z"
   },
   {
    "duration": 23,
    "start_time": "2022-10-20T12:03:29.662Z"
   },
   {
    "duration": 15,
    "start_time": "2022-10-20T12:03:29.687Z"
   },
   {
    "duration": 4,
    "start_time": "2022-10-20T12:03:29.704Z"
   },
   {
    "duration": 9,
    "start_time": "2022-10-20T12:03:29.710Z"
   },
   {
    "duration": 6,
    "start_time": "2022-10-20T12:03:29.720Z"
   },
   {
    "duration": 5,
    "start_time": "2022-10-20T12:03:29.728Z"
   },
   {
    "duration": 8,
    "start_time": "2022-10-20T12:03:29.734Z"
   },
   {
    "duration": 6,
    "start_time": "2022-10-20T12:03:29.744Z"
   },
   {
    "duration": 43,
    "start_time": "2022-10-20T12:03:29.751Z"
   },
   {
    "duration": 4,
    "start_time": "2022-10-20T12:04:04.718Z"
   },
   {
    "duration": 4,
    "start_time": "2022-10-20T12:05:25.177Z"
   },
   {
    "duration": 5,
    "start_time": "2022-10-20T12:05:26.287Z"
   },
   {
    "duration": 5,
    "start_time": "2022-10-20T12:05:40.793Z"
   },
   {
    "duration": 4,
    "start_time": "2022-10-20T12:05:51.122Z"
   },
   {
    "duration": 4,
    "start_time": "2022-10-20T12:05:52.939Z"
   },
   {
    "duration": 5,
    "start_time": "2022-10-20T12:05:54.816Z"
   },
   {
    "duration": 465,
    "start_time": "2022-10-20T12:06:11.057Z"
   },
   {
    "duration": 14,
    "start_time": "2022-10-20T12:06:11.524Z"
   },
   {
    "duration": 8,
    "start_time": "2022-10-20T12:06:11.540Z"
   },
   {
    "duration": 8,
    "start_time": "2022-10-20T12:06:11.550Z"
   },
   {
    "duration": 26,
    "start_time": "2022-10-20T12:06:11.560Z"
   },
   {
    "duration": 17,
    "start_time": "2022-10-20T12:06:11.587Z"
   },
   {
    "duration": 5,
    "start_time": "2022-10-20T12:06:11.606Z"
   },
   {
    "duration": 15,
    "start_time": "2022-10-20T12:06:11.613Z"
   },
   {
    "duration": 8,
    "start_time": "2022-10-20T12:06:11.630Z"
   },
   {
    "duration": 8,
    "start_time": "2022-10-20T12:06:11.640Z"
   },
   {
    "duration": 42,
    "start_time": "2022-10-20T12:06:11.649Z"
   },
   {
    "duration": 20,
    "start_time": "2022-10-20T12:06:11.692Z"
   },
   {
    "duration": 26,
    "start_time": "2022-10-20T12:06:11.714Z"
   },
   {
    "duration": 21,
    "start_time": "2022-10-20T12:06:11.742Z"
   },
   {
    "duration": 5,
    "start_time": "2022-10-20T12:07:22.332Z"
   },
   {
    "duration": 5,
    "start_time": "2022-10-20T12:07:24.024Z"
   },
   {
    "duration": 5,
    "start_time": "2022-10-20T12:07:26.560Z"
   },
   {
    "duration": 442,
    "start_time": "2022-10-20T12:07:34.182Z"
   },
   {
    "duration": 14,
    "start_time": "2022-10-20T12:07:34.626Z"
   },
   {
    "duration": 5,
    "start_time": "2022-10-20T12:07:34.641Z"
   },
   {
    "duration": 6,
    "start_time": "2022-10-20T12:07:34.648Z"
   },
   {
    "duration": 36,
    "start_time": "2022-10-20T12:07:34.656Z"
   },
   {
    "duration": 15,
    "start_time": "2022-10-20T12:07:34.694Z"
   },
   {
    "duration": 4,
    "start_time": "2022-10-20T12:07:34.711Z"
   },
   {
    "duration": 6,
    "start_time": "2022-10-20T12:07:34.717Z"
   },
   {
    "duration": 7,
    "start_time": "2022-10-20T12:07:34.724Z"
   },
   {
    "duration": 6,
    "start_time": "2022-10-20T12:07:34.733Z"
   },
   {
    "duration": 47,
    "start_time": "2022-10-20T12:07:34.740Z"
   },
   {
    "duration": 7,
    "start_time": "2022-10-20T12:07:34.789Z"
   },
   {
    "duration": 5,
    "start_time": "2022-10-20T12:07:34.798Z"
   },
   {
    "duration": 17,
    "start_time": "2022-10-20T12:07:34.804Z"
   },
   {
    "duration": 4,
    "start_time": "2022-10-20T12:08:11.687Z"
   },
   {
    "duration": 462,
    "start_time": "2022-10-20T13:59:18.739Z"
   },
   {
    "duration": 14,
    "start_time": "2022-10-20T13:59:19.203Z"
   },
   {
    "duration": 15,
    "start_time": "2022-10-20T13:59:19.218Z"
   },
   {
    "duration": 7,
    "start_time": "2022-10-20T13:59:19.236Z"
   },
   {
    "duration": 22,
    "start_time": "2022-10-20T13:59:19.245Z"
   },
   {
    "duration": 18,
    "start_time": "2022-10-20T13:59:19.268Z"
   },
   {
    "duration": 6,
    "start_time": "2022-10-20T13:59:19.287Z"
   },
   {
    "duration": 19,
    "start_time": "2022-10-20T13:59:19.295Z"
   },
   {
    "duration": 7,
    "start_time": "2022-10-20T13:59:19.316Z"
   },
   {
    "duration": 6,
    "start_time": "2022-10-20T13:59:19.325Z"
   },
   {
    "duration": 18,
    "start_time": "2022-10-20T13:59:19.332Z"
   },
   {
    "duration": 7,
    "start_time": "2022-10-20T14:00:37.580Z"
   },
   {
    "duration": 5,
    "start_time": "2022-10-20T14:07:45.000Z"
   },
   {
    "duration": 6,
    "start_time": "2022-10-20T14:07:57.193Z"
   },
   {
    "duration": 5,
    "start_time": "2022-10-20T14:09:56.875Z"
   },
   {
    "duration": 18,
    "start_time": "2022-10-20T14:10:00.189Z"
   },
   {
    "duration": 5,
    "start_time": "2022-10-20T14:19:51.063Z"
   },
   {
    "duration": 12,
    "start_time": "2022-10-20T14:19:55.700Z"
   },
   {
    "duration": 12,
    "start_time": "2022-10-20T14:20:04.092Z"
   },
   {
    "duration": 5,
    "start_time": "2022-10-20T14:35:04.424Z"
   },
   {
    "duration": 5,
    "start_time": "2022-10-20T14:35:35.699Z"
   },
   {
    "duration": 5,
    "start_time": "2022-10-20T14:35:38.749Z"
   },
   {
    "duration": 13,
    "start_time": "2022-10-20T14:35:43.643Z"
   },
   {
    "duration": 3,
    "start_time": "2022-10-20T14:36:21.741Z"
   },
   {
    "duration": 4,
    "start_time": "2022-10-20T14:37:42.921Z"
   },
   {
    "duration": 69,
    "start_time": "2022-10-20T14:44:17.697Z"
   },
   {
    "duration": 15,
    "start_time": "2022-10-20T14:44:23.621Z"
   },
   {
    "duration": 28,
    "start_time": "2022-10-20T14:44:38.938Z"
   },
   {
    "duration": 9,
    "start_time": "2022-10-20T14:44:52.099Z"
   },
   {
    "duration": 11,
    "start_time": "2022-10-20T14:45:01.268Z"
   },
   {
    "duration": 13,
    "start_time": "2022-10-20T14:45:03.903Z"
   },
   {
    "duration": 546,
    "start_time": "2022-10-20T14:45:19.136Z"
   },
   {
    "duration": 147,
    "start_time": "2022-10-20T14:45:25.568Z"
   },
   {
    "duration": 139,
    "start_time": "2022-10-20T14:45:36.965Z"
   },
   {
    "duration": 19,
    "start_time": "2022-10-20T14:45:53.540Z"
   },
   {
    "duration": 916,
    "start_time": "2022-10-20T14:47:10.653Z"
   },
   {
    "duration": 345,
    "start_time": "2022-10-20T14:47:31.920Z"
   },
   {
    "duration": 416,
    "start_time": "2022-10-20T14:48:01.577Z"
   },
   {
    "duration": 383,
    "start_time": "2022-10-20T14:48:11.288Z"
   },
   {
    "duration": 360,
    "start_time": "2022-10-20T14:48:19.708Z"
   },
   {
    "duration": 370,
    "start_time": "2022-10-20T14:48:27.055Z"
   },
   {
    "duration": 367,
    "start_time": "2022-10-20T14:48:43.947Z"
   },
   {
    "duration": 343,
    "start_time": "2022-10-20T14:49:54.737Z"
   },
   {
    "duration": 415,
    "start_time": "2022-10-20T14:53:33.589Z"
   },
   {
    "duration": 376,
    "start_time": "2022-10-20T14:55:00.688Z"
   },
   {
    "duration": 364,
    "start_time": "2022-10-20T14:55:08.111Z"
   },
   {
    "duration": 337,
    "start_time": "2022-10-20T14:55:11.128Z"
   },
   {
    "duration": 6,
    "start_time": "2022-10-20T15:01:52.773Z"
   },
   {
    "duration": 256,
    "start_time": "2022-10-20T15:02:05.898Z"
   },
   {
    "duration": 238,
    "start_time": "2022-10-20T15:02:32.541Z"
   },
   {
    "duration": 6,
    "start_time": "2022-10-20T15:03:27.949Z"
   },
   {
    "duration": 241,
    "start_time": "2022-10-20T15:03:29.230Z"
   },
   {
    "duration": 317,
    "start_time": "2022-10-20T15:03:35.128Z"
   },
   {
    "duration": 502,
    "start_time": "2022-10-20T15:03:44.127Z"
   },
   {
    "duration": 13,
    "start_time": "2022-10-20T15:03:44.631Z"
   },
   {
    "duration": 3,
    "start_time": "2022-10-20T15:03:44.645Z"
   },
   {
    "duration": 7,
    "start_time": "2022-10-20T15:03:44.649Z"
   },
   {
    "duration": 24,
    "start_time": "2022-10-20T15:03:44.658Z"
   },
   {
    "duration": 16,
    "start_time": "2022-10-20T15:03:44.684Z"
   },
   {
    "duration": 7,
    "start_time": "2022-10-20T15:03:44.708Z"
   },
   {
    "duration": 10,
    "start_time": "2022-10-20T15:03:44.716Z"
   },
   {
    "duration": 8,
    "start_time": "2022-10-20T15:03:44.727Z"
   },
   {
    "duration": 6,
    "start_time": "2022-10-20T15:03:44.737Z"
   },
   {
    "duration": 9,
    "start_time": "2022-10-20T15:03:44.744Z"
   },
   {
    "duration": 6,
    "start_time": "2022-10-20T15:03:44.754Z"
   },
   {
    "duration": 14,
    "start_time": "2022-10-20T15:03:44.761Z"
   },
   {
    "duration": 3,
    "start_time": "2022-10-20T15:03:44.778Z"
   },
   {
    "duration": 1021,
    "start_time": "2022-10-20T15:03:44.783Z"
   },
   {
    "duration": 7,
    "start_time": "2022-10-20T15:03:45.808Z"
   },
   {
    "duration": 224,
    "start_time": "2022-10-20T15:03:45.817Z"
   },
   {
    "duration": 105,
    "start_time": "2022-10-20T15:04:15.621Z"
   },
   {
    "duration": 8,
    "start_time": "2022-10-20T15:04:21.604Z"
   },
   {
    "duration": 3,
    "start_time": "2022-10-20T15:04:53.774Z"
   },
   {
    "duration": 5,
    "start_time": "2022-10-20T15:05:08.360Z"
   },
   {
    "duration": 52,
    "start_time": "2022-10-21T08:14:57.223Z"
   },
   {
    "duration": 669,
    "start_time": "2022-10-21T08:15:05.057Z"
   },
   {
    "duration": 16,
    "start_time": "2022-10-21T08:15:05.728Z"
   },
   {
    "duration": 23,
    "start_time": "2022-10-21T08:15:05.746Z"
   },
   {
    "duration": 25,
    "start_time": "2022-10-21T08:15:05.772Z"
   },
   {
    "duration": 24,
    "start_time": "2022-10-21T08:15:05.799Z"
   },
   {
    "duration": 40,
    "start_time": "2022-10-21T08:15:05.825Z"
   },
   {
    "duration": 12,
    "start_time": "2022-10-21T08:15:05.867Z"
   },
   {
    "duration": 26,
    "start_time": "2022-10-21T08:15:05.881Z"
   },
   {
    "duration": 16,
    "start_time": "2022-10-21T08:15:05.909Z"
   },
   {
    "duration": 15,
    "start_time": "2022-10-21T08:15:05.928Z"
   },
   {
    "duration": 20,
    "start_time": "2022-10-21T08:15:05.945Z"
   },
   {
    "duration": 42,
    "start_time": "2022-10-21T08:15:05.967Z"
   },
   {
    "duration": 28,
    "start_time": "2022-10-21T08:15:06.011Z"
   },
   {
    "duration": 11,
    "start_time": "2022-10-21T08:15:06.041Z"
   },
   {
    "duration": 1473,
    "start_time": "2022-10-21T08:15:06.054Z"
   },
   {
    "duration": 20,
    "start_time": "2022-10-21T08:15:07.528Z"
   },
   {
    "duration": 21,
    "start_time": "2022-10-21T08:15:34.572Z"
   },
   {
    "duration": 118,
    "start_time": "2022-10-21T08:17:51.106Z"
   },
   {
    "duration": 23,
    "start_time": "2022-10-21T08:18:14.949Z"
   },
   {
    "duration": 24,
    "start_time": "2022-10-21T08:18:23.047Z"
   },
   {
    "duration": 21,
    "start_time": "2022-10-21T08:18:39.763Z"
   },
   {
    "duration": 21,
    "start_time": "2022-10-21T08:18:46.274Z"
   },
   {
    "duration": 24,
    "start_time": "2022-10-21T08:18:59.734Z"
   },
   {
    "duration": 22,
    "start_time": "2022-10-21T08:19:25.056Z"
   },
   {
    "duration": 23,
    "start_time": "2022-10-21T08:19:57.345Z"
   },
   {
    "duration": 15,
    "start_time": "2022-10-21T08:20:20.763Z"
   },
   {
    "duration": 14,
    "start_time": "2022-10-21T08:21:51.027Z"
   },
   {
    "duration": 19,
    "start_time": "2022-10-21T08:22:10.161Z"
   },
   {
    "duration": 75,
    "start_time": "2022-10-21T08:22:25.140Z"
   },
   {
    "duration": 20,
    "start_time": "2022-10-21T08:22:51.551Z"
   },
   {
    "duration": 19,
    "start_time": "2022-10-21T08:23:12.706Z"
   },
   {
    "duration": 18,
    "start_time": "2022-10-21T08:23:40.465Z"
   },
   {
    "duration": 26,
    "start_time": "2022-10-21T08:25:10.101Z"
   },
   {
    "duration": 75,
    "start_time": "2022-10-21T08:27:36.498Z"
   },
   {
    "duration": 4209,
    "start_time": "2022-10-21T08:27:47.261Z"
   },
   {
    "duration": 23,
    "start_time": "2022-10-21T08:28:43.125Z"
   },
   {
    "duration": 22,
    "start_time": "2022-10-21T08:28:45.633Z"
   },
   {
    "duration": 174,
    "start_time": "2022-10-21T08:30:10.807Z"
   },
   {
    "duration": 74,
    "start_time": "2022-10-21T08:31:55.389Z"
   },
   {
    "duration": 21,
    "start_time": "2022-10-21T08:32:14.867Z"
   },
   {
    "duration": 187,
    "start_time": "2022-10-21T08:32:29.781Z"
   },
   {
    "duration": 183,
    "start_time": "2022-10-21T08:32:49.412Z"
   },
   {
    "duration": 18,
    "start_time": "2022-10-21T08:40:26.507Z"
   },
   {
    "duration": 17,
    "start_time": "2022-10-21T08:40:40.957Z"
   },
   {
    "duration": 108,
    "start_time": "2022-10-21T08:40:56.204Z"
   },
   {
    "duration": 18,
    "start_time": "2022-10-21T08:41:00.976Z"
   },
   {
    "duration": 122,
    "start_time": "2022-10-21T08:41:18.510Z"
   },
   {
    "duration": 18,
    "start_time": "2022-10-21T08:41:21.539Z"
   },
   {
    "duration": 23,
    "start_time": "2022-10-21T08:41:26.019Z"
   },
   {
    "duration": 18,
    "start_time": "2022-10-21T08:42:29.104Z"
   },
   {
    "duration": 15,
    "start_time": "2022-10-21T08:43:37.270Z"
   },
   {
    "duration": 25,
    "start_time": "2022-10-21T08:43:40.167Z"
   },
   {
    "duration": 16,
    "start_time": "2022-10-21T08:44:18.849Z"
   },
   {
    "duration": 4,
    "start_time": "2022-10-21T08:44:23.461Z"
   },
   {
    "duration": 4,
    "start_time": "2022-10-21T08:44:31.234Z"
   },
   {
    "duration": 85,
    "start_time": "2022-10-21T08:45:23.229Z"
   },
   {
    "duration": 189,
    "start_time": "2022-10-21T08:45:29.838Z"
   },
   {
    "duration": 200,
    "start_time": "2022-10-21T08:45:41.483Z"
   },
   {
    "duration": 369,
    "start_time": "2022-10-21T08:46:00.185Z"
   },
   {
    "duration": 330,
    "start_time": "2022-10-21T08:46:48.707Z"
   },
   {
    "duration": 5,
    "start_time": "2022-10-21T08:55:46.002Z"
   },
   {
    "duration": 351,
    "start_time": "2022-10-21T08:55:50.263Z"
   },
   {
    "duration": 432,
    "start_time": "2022-10-21T08:56:06.637Z"
   },
   {
    "duration": 94,
    "start_time": "2022-10-21T08:56:54.897Z"
   },
   {
    "duration": 74,
    "start_time": "2022-10-21T08:57:14.002Z"
   },
   {
    "duration": 338,
    "start_time": "2022-10-21T08:57:18.826Z"
   },
   {
    "duration": 353,
    "start_time": "2022-10-21T08:57:27.794Z"
   },
   {
    "duration": 349,
    "start_time": "2022-10-21T08:57:39.906Z"
   },
   {
    "duration": 80,
    "start_time": "2022-10-21T12:59:03.956Z"
   },
   {
    "duration": 50,
    "start_time": "2022-10-21T12:59:07.958Z"
   },
   {
    "duration": 828,
    "start_time": "2022-10-21T12:59:22.435Z"
   },
   {
    "duration": 12,
    "start_time": "2022-10-21T12:59:23.264Z"
   },
   {
    "duration": 4,
    "start_time": "2022-10-21T12:59:23.277Z"
   },
   {
    "duration": 6,
    "start_time": "2022-10-21T12:59:23.282Z"
   },
   {
    "duration": 11,
    "start_time": "2022-10-21T12:59:23.290Z"
   },
   {
    "duration": 15,
    "start_time": "2022-10-21T12:59:23.302Z"
   },
   {
    "duration": 5,
    "start_time": "2022-10-21T12:59:23.319Z"
   },
   {
    "duration": 7,
    "start_time": "2022-10-21T12:59:23.325Z"
   },
   {
    "duration": 7,
    "start_time": "2022-10-21T12:59:23.333Z"
   },
   {
    "duration": 6,
    "start_time": "2022-10-21T12:59:23.342Z"
   },
   {
    "duration": 7,
    "start_time": "2022-10-21T12:59:23.349Z"
   },
   {
    "duration": 7,
    "start_time": "2022-10-21T12:59:23.357Z"
   },
   {
    "duration": 45,
    "start_time": "2022-10-21T12:59:23.365Z"
   },
   {
    "duration": 4,
    "start_time": "2022-10-21T12:59:23.411Z"
   },
   {
    "duration": 1143,
    "start_time": "2022-10-21T12:59:23.416Z"
   },
   {
    "duration": 214,
    "start_time": "2022-10-21T12:59:24.560Z"
   },
   {
    "duration": 19,
    "start_time": "2022-10-21T13:00:39.293Z"
   },
   {
    "duration": 17,
    "start_time": "2022-10-21T13:01:30.559Z"
   },
   {
    "duration": 20,
    "start_time": "2022-10-21T13:01:36.221Z"
   },
   {
    "duration": 271,
    "start_time": "2022-10-21T13:01:39.180Z"
   },
   {
    "duration": 17,
    "start_time": "2022-10-21T13:01:48.909Z"
   },
   {
    "duration": 277,
    "start_time": "2022-10-21T13:01:51.446Z"
   },
   {
    "duration": 301,
    "start_time": "2022-10-21T13:02:33.692Z"
   },
   {
    "duration": 270,
    "start_time": "2022-10-21T13:03:02.767Z"
   },
   {
    "duration": 257,
    "start_time": "2022-10-21T13:03:16.054Z"
   },
   {
    "duration": 17,
    "start_time": "2022-10-21T13:04:15.092Z"
   },
   {
    "duration": 274,
    "start_time": "2022-10-21T13:04:21.531Z"
   },
   {
    "duration": 323,
    "start_time": "2022-10-21T13:07:37.813Z"
   },
   {
    "duration": 300,
    "start_time": "2022-10-21T13:07:54.797Z"
   },
   {
    "duration": 79,
    "start_time": "2022-10-21T13:10:44.077Z"
   },
   {
    "duration": 11,
    "start_time": "2022-10-21T13:10:49.396Z"
   },
   {
    "duration": 173,
    "start_time": "2022-10-21T13:11:08.420Z"
   },
   {
    "duration": 259,
    "start_time": "2022-10-21T13:11:24.694Z"
   },
   {
    "duration": 269,
    "start_time": "2022-10-21T13:14:32.781Z"
   },
   {
    "duration": 295,
    "start_time": "2022-10-21T13:15:28.043Z"
   },
   {
    "duration": 272,
    "start_time": "2022-10-21T13:15:39.908Z"
   },
   {
    "duration": 285,
    "start_time": "2022-10-21T13:18:40.947Z"
   },
   {
    "duration": 341,
    "start_time": "2022-10-21T13:18:53.813Z"
   },
   {
    "duration": 274,
    "start_time": "2022-10-21T13:20:42.104Z"
   },
   {
    "duration": 16,
    "start_time": "2022-10-21T13:20:50.054Z"
   },
   {
    "duration": 10,
    "start_time": "2022-10-21T13:26:07.460Z"
   },
   {
    "duration": 20,
    "start_time": "2022-10-21T13:26:13.904Z"
   },
   {
    "duration": 23,
    "start_time": "2022-10-21T13:26:38.496Z"
   },
   {
    "duration": 11,
    "start_time": "2022-10-21T13:26:51.565Z"
   },
   {
    "duration": 11,
    "start_time": "2022-10-21T13:27:25.942Z"
   },
   {
    "duration": 21,
    "start_time": "2022-10-21T13:27:35.270Z"
   },
   {
    "duration": 18,
    "start_time": "2022-10-21T13:28:12.037Z"
   },
   {
    "duration": 16,
    "start_time": "2022-10-21T13:28:18.707Z"
   },
   {
    "duration": 19,
    "start_time": "2022-10-21T13:28:39.127Z"
   },
   {
    "duration": 17,
    "start_time": "2022-10-21T13:28:45.414Z"
   },
   {
    "duration": 18,
    "start_time": "2022-10-21T13:28:48.675Z"
   },
   {
    "duration": 20,
    "start_time": "2022-10-21T13:29:02.357Z"
   },
   {
    "duration": 78,
    "start_time": "2022-10-21T13:30:21.346Z"
   },
   {
    "duration": 70,
    "start_time": "2022-10-21T13:30:37.886Z"
   },
   {
    "duration": 67,
    "start_time": "2022-10-21T13:30:44.512Z"
   },
   {
    "duration": 25,
    "start_time": "2022-10-21T13:31:33.151Z"
   },
   {
    "duration": 22,
    "start_time": "2022-10-21T13:31:52.105Z"
   },
   {
    "duration": 26,
    "start_time": "2022-10-21T13:31:55.772Z"
   },
   {
    "duration": 156,
    "start_time": "2022-10-21T13:33:06.202Z"
   },
   {
    "duration": 130,
    "start_time": "2022-10-21T13:33:45.344Z"
   },
   {
    "duration": 71,
    "start_time": "2022-10-21T13:34:32.400Z"
   },
   {
    "duration": 30,
    "start_time": "2022-10-21T13:34:37.416Z"
   },
   {
    "duration": 23,
    "start_time": "2022-10-21T13:34:46.324Z"
   },
   {
    "duration": 142,
    "start_time": "2022-10-21T13:35:45.175Z"
   },
   {
    "duration": 17,
    "start_time": "2022-10-21T13:37:04.584Z"
   },
   {
    "duration": 111,
    "start_time": "2022-10-21T13:53:13.442Z"
   },
   {
    "duration": 194,
    "start_time": "2022-10-21T13:53:28.114Z"
   },
   {
    "duration": 216,
    "start_time": "2022-10-21T13:55:37.233Z"
   },
   {
    "duration": 200,
    "start_time": "2022-10-21T13:56:22.794Z"
   },
   {
    "duration": 20,
    "start_time": "2022-10-21T13:56:32.965Z"
   },
   {
    "duration": 27,
    "start_time": "2022-10-21T13:56:38.334Z"
   },
   {
    "duration": 29,
    "start_time": "2022-10-21T13:56:46.979Z"
   },
   {
    "duration": 100,
    "start_time": "2022-10-21T13:57:38.537Z"
   },
   {
    "duration": 200,
    "start_time": "2022-10-21T13:57:42.573Z"
   },
   {
    "duration": 290,
    "start_time": "2022-10-21T14:02:46.976Z"
   },
   {
    "duration": 67,
    "start_time": "2022-10-21T14:02:52.539Z"
   },
   {
    "duration": 189,
    "start_time": "2022-10-21T14:02:54.756Z"
   },
   {
    "duration": 203,
    "start_time": "2022-10-21T14:04:29.289Z"
   },
   {
    "duration": 198,
    "start_time": "2022-10-21T14:11:46.096Z"
   },
   {
    "duration": 209,
    "start_time": "2022-10-21T14:11:56.442Z"
   },
   {
    "duration": 191,
    "start_time": "2022-10-21T14:12:04.792Z"
   },
   {
    "duration": 47,
    "start_time": "2022-10-21T18:22:10.322Z"
   },
   {
    "duration": 857,
    "start_time": "2022-10-21T18:22:19.448Z"
   },
   {
    "duration": 15,
    "start_time": "2022-10-21T18:22:20.307Z"
   },
   {
    "duration": 4,
    "start_time": "2022-10-21T18:22:20.323Z"
   },
   {
    "duration": 8,
    "start_time": "2022-10-21T18:22:20.329Z"
   },
   {
    "duration": 10,
    "start_time": "2022-10-21T18:22:20.339Z"
   },
   {
    "duration": 49,
    "start_time": "2022-10-21T18:22:20.351Z"
   },
   {
    "duration": 6,
    "start_time": "2022-10-21T18:22:20.402Z"
   },
   {
    "duration": 7,
    "start_time": "2022-10-21T18:22:20.409Z"
   },
   {
    "duration": 6,
    "start_time": "2022-10-21T18:22:20.418Z"
   },
   {
    "duration": 5,
    "start_time": "2022-10-21T18:22:20.426Z"
   },
   {
    "duration": 15,
    "start_time": "2022-10-21T18:22:20.433Z"
   },
   {
    "duration": 8,
    "start_time": "2022-10-21T18:22:20.491Z"
   },
   {
    "duration": 17,
    "start_time": "2022-10-21T18:22:20.501Z"
   },
   {
    "duration": 5,
    "start_time": "2022-10-21T18:22:20.522Z"
   },
   {
    "duration": 1294,
    "start_time": "2022-10-21T18:22:20.528Z"
   },
   {
    "duration": 336,
    "start_time": "2022-10-21T18:22:21.824Z"
   },
   {
    "duration": 242,
    "start_time": "2022-10-21T18:22:22.162Z"
   },
   {
    "duration": 15,
    "start_time": "2022-10-21T18:22:22.405Z"
   },
   {
    "duration": 14,
    "start_time": "2022-10-21T18:23:08.056Z"
   },
   {
    "duration": 65,
    "start_time": "2022-10-21T18:24:20.050Z"
   },
   {
    "duration": 15,
    "start_time": "2022-10-21T18:24:28.619Z"
   },
   {
    "duration": 126,
    "start_time": "2022-10-21T18:24:46.089Z"
   },
   {
    "duration": 14,
    "start_time": "2022-10-21T18:24:56.259Z"
   },
   {
    "duration": 29,
    "start_time": "2022-10-21T18:28:51.168Z"
   },
   {
    "duration": 21,
    "start_time": "2022-10-21T18:29:00.772Z"
   },
   {
    "duration": 18,
    "start_time": "2022-10-21T18:29:09.935Z"
   },
   {
    "duration": 13,
    "start_time": "2022-10-21T18:29:33.096Z"
   },
   {
    "duration": 15,
    "start_time": "2022-10-21T18:29:40.209Z"
   },
   {
    "duration": 15,
    "start_time": "2022-10-21T18:29:53.313Z"
   },
   {
    "duration": 329,
    "start_time": "2022-10-21T18:42:03.595Z"
   },
   {
    "duration": 34,
    "start_time": "2022-10-21T18:42:33.205Z"
   },
   {
    "duration": 236,
    "start_time": "2022-10-21T18:42:49.924Z"
   },
   {
    "duration": 174,
    "start_time": "2022-10-21T18:43:21.077Z"
   },
   {
    "duration": 164,
    "start_time": "2022-10-21T18:44:35.829Z"
   },
   {
    "duration": 172,
    "start_time": "2022-10-21T18:49:07.647Z"
   },
   {
    "duration": 243,
    "start_time": "2022-10-21T18:55:49.863Z"
   },
   {
    "duration": 292,
    "start_time": "2022-10-21T18:57:09.262Z"
   },
   {
    "duration": 309,
    "start_time": "2022-10-21T18:57:25.320Z"
   },
   {
    "duration": 351,
    "start_time": "2022-10-21T18:57:46.166Z"
   },
   {
    "duration": 362,
    "start_time": "2022-10-21T18:58:14.309Z"
   },
   {
    "duration": 314,
    "start_time": "2022-10-21T18:58:45.040Z"
   },
   {
    "duration": 73,
    "start_time": "2022-10-21T19:02:53.287Z"
   },
   {
    "duration": 76,
    "start_time": "2022-10-21T19:03:01.245Z"
   },
   {
    "duration": 275,
    "start_time": "2022-10-21T19:04:03.879Z"
   },
   {
    "duration": 88,
    "start_time": "2022-10-21T19:04:12.171Z"
   },
   {
    "duration": 77,
    "start_time": "2022-10-21T19:04:17.042Z"
   },
   {
    "duration": 70,
    "start_time": "2022-10-21T19:05:27.902Z"
   },
   {
    "duration": 75,
    "start_time": "2022-10-21T19:05:33.064Z"
   },
   {
    "duration": 67,
    "start_time": "2022-10-21T19:05:40.596Z"
   },
   {
    "duration": 319,
    "start_time": "2022-10-21T19:05:49.611Z"
   },
   {
    "duration": 82,
    "start_time": "2022-10-24T17:16:26.192Z"
   },
   {
    "duration": 500,
    "start_time": "2022-10-24T17:16:32.173Z"
   },
   {
    "duration": 16,
    "start_time": "2022-10-24T17:16:32.675Z"
   },
   {
    "duration": 16,
    "start_time": "2022-10-24T17:16:32.692Z"
   },
   {
    "duration": 12,
    "start_time": "2022-10-24T17:16:32.710Z"
   },
   {
    "duration": 43,
    "start_time": "2022-10-24T17:16:32.724Z"
   },
   {
    "duration": 28,
    "start_time": "2022-10-24T17:16:32.770Z"
   },
   {
    "duration": 7,
    "start_time": "2022-10-24T17:16:32.800Z"
   },
   {
    "duration": 12,
    "start_time": "2022-10-24T17:16:32.809Z"
   },
   {
    "duration": 25,
    "start_time": "2022-10-24T17:16:32.823Z"
   },
   {
    "duration": 9,
    "start_time": "2022-10-24T17:16:32.852Z"
   },
   {
    "duration": 10,
    "start_time": "2022-10-24T17:16:32.863Z"
   },
   {
    "duration": 14,
    "start_time": "2022-10-24T17:16:32.875Z"
   },
   {
    "duration": 21,
    "start_time": "2022-10-24T17:16:32.891Z"
   },
   {
    "duration": 4,
    "start_time": "2022-10-24T17:16:32.914Z"
   },
   {
    "duration": 1243,
    "start_time": "2022-10-24T17:16:32.920Z"
   },
   {
    "duration": 312,
    "start_time": "2022-10-24T17:16:34.165Z"
   },
   {
    "duration": 288,
    "start_time": "2022-10-24T17:16:34.479Z"
   },
   {
    "duration": 13,
    "start_time": "2022-10-24T17:16:34.768Z"
   },
   {
    "duration": 10,
    "start_time": "2022-10-24T17:16:34.782Z"
   },
   {
    "duration": 13,
    "start_time": "2022-10-24T17:16:34.794Z"
   },
   {
    "duration": 335,
    "start_time": "2022-10-24T17:17:43.454Z"
   },
   {
    "duration": 20,
    "start_time": "2022-10-24T17:37:08.118Z"
   },
   {
    "duration": 209,
    "start_time": "2022-10-24T17:41:52.741Z"
   },
   {
    "duration": 290,
    "start_time": "2022-10-24T17:43:04.398Z"
   },
   {
    "duration": 310,
    "start_time": "2022-10-24T17:45:41.753Z"
   },
   {
    "duration": 5,
    "start_time": "2022-10-24T17:56:14.344Z"
   },
   {
    "duration": 162,
    "start_time": "2022-10-24T17:56:28.150Z"
   },
   {
    "duration": 140,
    "start_time": "2022-10-24T17:58:20.967Z"
   },
   {
    "duration": 5,
    "start_time": "2022-10-24T17:58:22.695Z"
   },
   {
    "duration": 69,
    "start_time": "2022-10-24T17:59:18.688Z"
   },
   {
    "duration": 72,
    "start_time": "2022-10-24T17:59:28.593Z"
   },
   {
    "duration": 253,
    "start_time": "2022-10-24T17:59:33.518Z"
   },
   {
    "duration": 166,
    "start_time": "2022-10-24T17:59:40.997Z"
   },
   {
    "duration": 160,
    "start_time": "2022-10-24T17:59:48.244Z"
   },
   {
    "duration": 168,
    "start_time": "2022-10-24T17:59:52.169Z"
   },
   {
    "duration": 74,
    "start_time": "2022-10-24T18:00:33.816Z"
   },
   {
    "duration": 94,
    "start_time": "2022-10-24T18:00:38.885Z"
   },
   {
    "duration": 67,
    "start_time": "2022-10-24T18:01:13.402Z"
   },
   {
    "duration": 96,
    "start_time": "2022-10-24T18:01:28.572Z"
   },
   {
    "duration": 78,
    "start_time": "2022-10-24T18:01:34.489Z"
   },
   {
    "duration": 163,
    "start_time": "2022-10-24T18:01:43.143Z"
   },
   {
    "duration": 166,
    "start_time": "2022-10-24T18:01:59.486Z"
   },
   {
    "duration": 248,
    "start_time": "2022-10-24T18:02:18.021Z"
   },
   {
    "duration": 155,
    "start_time": "2022-10-24T18:02:21.743Z"
   },
   {
    "duration": 171,
    "start_time": "2022-10-24T18:02:30.178Z"
   },
   {
    "duration": 159,
    "start_time": "2022-10-24T18:02:36.243Z"
   },
   {
    "duration": 145,
    "start_time": "2022-10-24T18:04:00.847Z"
   },
   {
    "duration": 174,
    "start_time": "2022-10-24T18:07:12.908Z"
   },
   {
    "duration": 848,
    "start_time": "2022-10-24T18:25:23.574Z"
   },
   {
    "duration": 815,
    "start_time": "2022-10-24T18:25:41.965Z"
   },
   {
    "duration": 3376,
    "start_time": "2022-10-24T18:25:59.673Z"
   },
   {
    "duration": 30,
    "start_time": "2022-10-24T18:26:49.008Z"
   },
   {
    "duration": 7497,
    "start_time": "2022-10-24T18:27:03.972Z"
   },
   {
    "duration": 7217,
    "start_time": "2022-10-24T18:27:43.193Z"
   },
   {
    "duration": 6,
    "start_time": "2022-10-24T18:28:32.142Z"
   },
   {
    "duration": 3673,
    "start_time": "2022-10-24T18:28:39.847Z"
   },
   {
    "duration": 3853,
    "start_time": "2022-10-24T18:28:58.784Z"
   },
   {
    "duration": 40,
    "start_time": "2022-10-24T18:29:21.945Z"
   },
   {
    "duration": 7,
    "start_time": "2022-10-24T18:30:11.491Z"
   },
   {
    "duration": 7,
    "start_time": "2022-10-24T18:30:43.495Z"
   },
   {
    "duration": 44,
    "start_time": "2022-10-24T18:34:13.043Z"
   },
   {
    "duration": 44,
    "start_time": "2022-10-24T18:34:21.753Z"
   },
   {
    "duration": 1892,
    "start_time": "2022-10-24T18:34:30.596Z"
   },
   {
    "duration": 1053,
    "start_time": "2022-10-24T18:35:34.641Z"
   },
   {
    "duration": 46,
    "start_time": "2022-10-24T18:36:14.851Z"
   },
   {
    "duration": 20,
    "start_time": "2022-10-24T18:36:18.444Z"
   },
   {
    "duration": 968,
    "start_time": "2022-10-24T18:36:22.357Z"
   },
   {
    "duration": 877,
    "start_time": "2022-10-24T18:36:31.840Z"
   },
   {
    "duration": 68,
    "start_time": "2022-10-24T18:40:20.582Z"
   },
   {
    "duration": 1183,
    "start_time": "2022-10-24T18:40:24.847Z"
   },
   {
    "duration": 979,
    "start_time": "2022-10-24T18:52:14.694Z"
   },
   {
    "duration": 51,
    "start_time": "2022-10-24T18:53:48.106Z"
   },
   {
    "duration": 869,
    "start_time": "2022-10-24T18:54:28.238Z"
   },
   {
    "duration": 941,
    "start_time": "2022-10-24T18:54:45.668Z"
   },
   {
    "duration": 889,
    "start_time": "2022-10-24T18:56:40.540Z"
   },
   {
    "duration": 936,
    "start_time": "2022-10-24T18:58:55.065Z"
   },
   {
    "duration": 502,
    "start_time": "2022-10-24T18:59:27.513Z"
   },
   {
    "duration": 17,
    "start_time": "2022-10-24T18:59:28.017Z"
   },
   {
    "duration": 61,
    "start_time": "2022-10-24T18:59:28.035Z"
   },
   {
    "duration": 71,
    "start_time": "2022-10-24T18:59:28.099Z"
   },
   {
    "duration": 28,
    "start_time": "2022-10-24T18:59:28.172Z"
   },
   {
    "duration": 72,
    "start_time": "2022-10-24T18:59:28.201Z"
   },
   {
    "duration": 44,
    "start_time": "2022-10-24T18:59:28.275Z"
   },
   {
    "duration": 41,
    "start_time": "2022-10-24T18:59:28.321Z"
   },
   {
    "duration": 34,
    "start_time": "2022-10-24T18:59:28.364Z"
   },
   {
    "duration": 19,
    "start_time": "2022-10-24T18:59:28.403Z"
   },
   {
    "duration": 49,
    "start_time": "2022-10-24T18:59:28.424Z"
   },
   {
    "duration": 103,
    "start_time": "2022-10-24T18:59:28.475Z"
   },
   {
    "duration": 24,
    "start_time": "2022-10-24T18:59:28.580Z"
   },
   {
    "duration": 32,
    "start_time": "2022-10-24T18:59:28.607Z"
   },
   {
    "duration": 37,
    "start_time": "2022-10-24T18:59:28.641Z"
   },
   {
    "duration": 1231,
    "start_time": "2022-10-24T18:59:28.680Z"
   },
   {
    "duration": 340,
    "start_time": "2022-10-24T18:59:29.913Z"
   },
   {
    "duration": 308,
    "start_time": "2022-10-24T18:59:30.255Z"
   },
   {
    "duration": 15,
    "start_time": "2022-10-24T18:59:30.565Z"
   },
   {
    "duration": 34,
    "start_time": "2022-10-24T18:59:30.582Z"
   },
   {
    "duration": 59,
    "start_time": "2022-10-24T18:59:30.618Z"
   },
   {
    "duration": 328,
    "start_time": "2022-10-24T18:59:30.679Z"
   },
   {
    "duration": 256,
    "start_time": "2022-10-24T18:59:31.009Z"
   },
   {
    "duration": 306,
    "start_time": "2022-10-24T18:59:31.268Z"
   },
   {
    "duration": 5,
    "start_time": "2022-10-24T18:59:31.576Z"
   },
   {
    "duration": 191,
    "start_time": "2022-10-24T18:59:31.583Z"
   },
   {
    "duration": 283,
    "start_time": "2022-10-24T18:59:31.776Z"
   },
   {
    "duration": 1122,
    "start_time": "2022-10-24T18:59:32.063Z"
   },
   {
    "duration": 845,
    "start_time": "2022-10-24T19:01:08.081Z"
   },
   {
    "duration": 49,
    "start_time": "2022-10-24T19:16:31.399Z"
   },
   {
    "duration": 47,
    "start_time": "2022-10-24T19:17:11.639Z"
   },
   {
    "duration": 936,
    "start_time": "2022-10-24T19:18:08.808Z"
   },
   {
    "duration": 919,
    "start_time": "2022-10-24T19:18:29.685Z"
   },
   {
    "duration": 191,
    "start_time": "2022-10-24T19:23:45.932Z"
   },
   {
    "duration": 127,
    "start_time": "2022-10-24T19:23:49.788Z"
   },
   {
    "duration": 202,
    "start_time": "2022-10-24T19:23:53.682Z"
   },
   {
    "duration": 190,
    "start_time": "2022-10-24T19:23:59.619Z"
   },
   {
    "duration": 223,
    "start_time": "2022-10-24T19:26:37.690Z"
   },
   {
    "duration": 17,
    "start_time": "2022-10-24T19:43:38.672Z"
   },
   {
    "duration": 228,
    "start_time": "2022-10-24T19:43:49.001Z"
   },
   {
    "duration": 15,
    "start_time": "2022-10-24T19:52:36.254Z"
   },
   {
    "duration": 42,
    "start_time": "2022-10-24T19:52:47.996Z"
   },
   {
    "duration": 13,
    "start_time": "2022-10-24T19:52:55.073Z"
   },
   {
    "duration": 207,
    "start_time": "2022-10-24T19:53:10.852Z"
   },
   {
    "duration": 191,
    "start_time": "2022-10-24T19:58:15.573Z"
   },
   {
    "duration": 213,
    "start_time": "2022-10-24T19:58:19.323Z"
   },
   {
    "duration": 202,
    "start_time": "2022-10-24T19:58:25.403Z"
   },
   {
    "duration": 309,
    "start_time": "2022-10-24T19:58:38.481Z"
   },
   {
    "duration": 196,
    "start_time": "2022-10-24T19:58:51.497Z"
   },
   {
    "duration": 10,
    "start_time": "2022-10-24T20:01:00.291Z"
   },
   {
    "duration": 8,
    "start_time": "2022-10-24T20:01:07.343Z"
   },
   {
    "duration": 9,
    "start_time": "2022-10-24T20:01:42.388Z"
   },
   {
    "duration": 3,
    "start_time": "2022-10-24T20:01:46.395Z"
   },
   {
    "duration": 59,
    "start_time": "2022-10-24T20:02:27.556Z"
   },
   {
    "duration": 37,
    "start_time": "2022-10-24T20:03:17.984Z"
   },
   {
    "duration": 28,
    "start_time": "2022-10-24T20:04:02.639Z"
   },
   {
    "duration": 49,
    "start_time": "2022-10-24T20:04:24.134Z"
   },
   {
    "duration": 36,
    "start_time": "2022-10-24T20:04:31.002Z"
   },
   {
    "duration": 14,
    "start_time": "2022-10-24T20:06:18.102Z"
   },
   {
    "duration": 21,
    "start_time": "2022-10-24T20:06:45.402Z"
   },
   {
    "duration": 44,
    "start_time": "2022-10-24T20:07:18.274Z"
   },
   {
    "duration": 6578,
    "start_time": "2022-10-24T20:07:40.162Z"
   },
   {
    "duration": 4,
    "start_time": "2022-10-24T20:09:12.007Z"
   },
   {
    "duration": 15,
    "start_time": "2022-10-24T20:09:26.743Z"
   },
   {
    "duration": 18,
    "start_time": "2022-10-24T20:09:34.859Z"
   },
   {
    "duration": 200,
    "start_time": "2022-10-24T20:09:40.174Z"
   },
   {
    "duration": 192,
    "start_time": "2022-10-24T20:10:54.436Z"
   },
   {
    "duration": 189,
    "start_time": "2022-10-24T20:13:37.547Z"
   },
   {
    "duration": 175,
    "start_time": "2022-10-24T20:13:39.624Z"
   },
   {
    "duration": 198,
    "start_time": "2022-10-24T20:16:03.586Z"
   },
   {
    "duration": 203,
    "start_time": "2022-10-24T20:16:05.873Z"
   },
   {
    "duration": 224,
    "start_time": "2022-10-24T20:16:07.952Z"
   },
   {
    "duration": 177,
    "start_time": "2022-10-24T20:23:07.531Z"
   },
   {
    "duration": 159,
    "start_time": "2022-10-24T20:26:53.892Z"
   },
   {
    "duration": 142,
    "start_time": "2022-10-24T20:26:59.467Z"
   },
   {
    "duration": 146,
    "start_time": "2022-10-24T20:27:14.546Z"
   },
   {
    "duration": 145,
    "start_time": "2022-10-24T20:27:24.606Z"
   },
   {
    "duration": 132,
    "start_time": "2022-10-24T20:27:34.707Z"
   },
   {
    "duration": 163,
    "start_time": "2022-10-24T20:27:42.616Z"
   },
   {
    "duration": 160,
    "start_time": "2022-10-24T20:27:49.459Z"
   },
   {
    "duration": 151,
    "start_time": "2022-10-24T20:27:57.438Z"
   },
   {
    "duration": 46,
    "start_time": "2022-10-24T20:42:15.537Z"
   },
   {
    "duration": 8,
    "start_time": "2022-10-24T20:42:20.296Z"
   },
   {
    "duration": 4,
    "start_time": "2022-10-24T20:42:27.843Z"
   },
   {
    "duration": 142,
    "start_time": "2022-10-24T20:43:01.395Z"
   },
   {
    "duration": 130,
    "start_time": "2022-10-24T20:45:04.003Z"
   },
   {
    "duration": 16,
    "start_time": "2022-10-24T20:45:19.680Z"
   },
   {
    "duration": 137,
    "start_time": "2022-10-24T20:45:26.565Z"
   },
   {
    "duration": 144,
    "start_time": "2022-10-24T20:45:30.564Z"
   },
   {
    "duration": 138,
    "start_time": "2022-10-24T20:45:34.012Z"
   },
   {
    "duration": 170,
    "start_time": "2022-10-24T20:45:40.417Z"
   },
   {
    "duration": 472,
    "start_time": "2022-10-24T20:45:44.608Z"
   },
   {
    "duration": 138,
    "start_time": "2022-10-24T20:45:48.135Z"
   },
   {
    "duration": 178,
    "start_time": "2022-10-24T20:45:51.773Z"
   },
   {
    "duration": 179,
    "start_time": "2022-10-24T20:45:55.309Z"
   },
   {
    "duration": 174,
    "start_time": "2022-10-24T20:45:58.567Z"
   },
   {
    "duration": 159,
    "start_time": "2022-10-24T20:46:05.943Z"
   },
   {
    "duration": 257,
    "start_time": "2022-10-24T20:46:20.174Z"
   },
   {
    "duration": 122,
    "start_time": "2022-10-24T20:48:11.916Z"
   },
   {
    "duration": 125,
    "start_time": "2022-10-24T20:48:15.431Z"
   },
   {
    "duration": 122,
    "start_time": "2022-10-24T20:48:19.131Z"
   },
   {
    "duration": 212,
    "start_time": "2022-10-24T20:48:24.094Z"
   },
   {
    "duration": 116,
    "start_time": "2022-10-24T20:48:27.160Z"
   },
   {
    "duration": 18,
    "start_time": "2022-10-24T20:48:51.306Z"
   },
   {
    "duration": 120,
    "start_time": "2022-10-24T20:48:59.148Z"
   },
   {
    "duration": 138,
    "start_time": "2022-10-24T20:49:08.606Z"
   },
   {
    "duration": 124,
    "start_time": "2022-10-24T20:49:11.908Z"
   },
   {
    "duration": 115,
    "start_time": "2022-10-24T20:49:13.971Z"
   },
   {
    "duration": 139,
    "start_time": "2022-10-24T20:49:17.966Z"
   },
   {
    "duration": 132,
    "start_time": "2022-10-24T20:49:20.880Z"
   },
   {
    "duration": 181,
    "start_time": "2022-10-24T20:49:26.805Z"
   },
   {
    "duration": 160,
    "start_time": "2022-10-24T20:49:33.926Z"
   },
   {
    "duration": 162,
    "start_time": "2022-10-24T20:49:37.038Z"
   },
   {
    "duration": 166,
    "start_time": "2022-10-24T20:49:44.565Z"
   },
   {
    "duration": 353,
    "start_time": "2022-10-24T20:49:51.576Z"
   },
   {
    "duration": 144,
    "start_time": "2022-10-24T20:52:26.316Z"
   },
   {
    "duration": 133,
    "start_time": "2022-10-24T20:52:28.759Z"
   },
   {
    "duration": 6,
    "start_time": "2022-10-24T20:54:45.210Z"
   },
   {
    "duration": 7,
    "start_time": "2022-10-24T20:54:48.852Z"
   },
   {
    "duration": 154,
    "start_time": "2022-10-24T20:58:19.007Z"
   },
   {
    "duration": 134,
    "start_time": "2022-10-24T20:58:26.690Z"
   },
   {
    "duration": 131,
    "start_time": "2022-10-24T20:58:31.326Z"
   },
   {
    "duration": 2,
    "start_time": "2022-10-24T21:23:25.813Z"
   },
   {
    "duration": 9,
    "start_time": "2022-10-24T21:30:44.181Z"
   },
   {
    "duration": 61,
    "start_time": "2022-10-24T21:33:52.414Z"
   },
   {
    "duration": 10,
    "start_time": "2022-10-24T21:34:18.170Z"
   },
   {
    "duration": 10,
    "start_time": "2022-10-24T21:35:01.183Z"
   },
   {
    "duration": 52,
    "start_time": "2022-10-24T21:54:58.161Z"
   },
   {
    "duration": 406,
    "start_time": "2022-10-24T23:58:39.555Z"
   },
   {
    "duration": 12,
    "start_time": "2022-10-24T23:58:39.963Z"
   },
   {
    "duration": 4,
    "start_time": "2022-10-24T23:58:39.976Z"
   },
   {
    "duration": 5,
    "start_time": "2022-10-24T23:58:39.982Z"
   },
   {
    "duration": 13,
    "start_time": "2022-10-24T23:58:39.988Z"
   },
   {
    "duration": 25,
    "start_time": "2022-10-24T23:58:40.002Z"
   },
   {
    "duration": 4,
    "start_time": "2022-10-24T23:58:40.028Z"
   },
   {
    "duration": 23,
    "start_time": "2022-10-24T23:58:40.034Z"
   },
   {
    "duration": 11,
    "start_time": "2022-10-24T23:58:40.059Z"
   },
   {
    "duration": 7,
    "start_time": "2022-10-24T23:58:40.073Z"
   },
   {
    "duration": 10,
    "start_time": "2022-10-24T23:58:40.082Z"
   },
   {
    "duration": 15,
    "start_time": "2022-10-24T23:58:40.093Z"
   },
   {
    "duration": 5,
    "start_time": "2022-10-24T23:58:40.110Z"
   },
   {
    "duration": 13,
    "start_time": "2022-10-24T23:58:40.117Z"
   },
   {
    "duration": 3,
    "start_time": "2022-10-24T23:58:40.132Z"
   },
   {
    "duration": 930,
    "start_time": "2022-10-24T23:58:40.136Z"
   },
   {
    "duration": 246,
    "start_time": "2022-10-24T23:58:41.067Z"
   },
   {
    "duration": 227,
    "start_time": "2022-10-24T23:58:41.314Z"
   },
   {
    "duration": 14,
    "start_time": "2022-10-24T23:58:41.542Z"
   },
   {
    "duration": 15,
    "start_time": "2022-10-24T23:58:41.558Z"
   },
   {
    "duration": 8,
    "start_time": "2022-10-24T23:58:41.574Z"
   },
   {
    "duration": 294,
    "start_time": "2022-10-24T23:58:41.584Z"
   },
   {
    "duration": 161,
    "start_time": "2022-10-24T23:58:41.879Z"
   },
   {
    "duration": 253,
    "start_time": "2022-10-24T23:58:42.042Z"
   },
   {
    "duration": 6,
    "start_time": "2022-10-24T23:58:42.297Z"
   },
   {
    "duration": 157,
    "start_time": "2022-10-24T23:58:42.304Z"
   },
   {
    "duration": 221,
    "start_time": "2022-10-24T23:58:42.462Z"
   },
   {
    "duration": 764,
    "start_time": "2022-10-24T23:58:42.686Z"
   },
   {
    "duration": 167,
    "start_time": "2022-10-24T23:58:43.451Z"
   },
   {
    "duration": 172,
    "start_time": "2022-10-24T23:58:43.619Z"
   },
   {
    "duration": 165,
    "start_time": "2022-10-24T23:58:43.793Z"
   },
   {
    "duration": 122,
    "start_time": "2022-10-24T23:58:43.959Z"
   },
   {
    "duration": 125,
    "start_time": "2022-10-24T23:58:44.083Z"
   },
   {
    "duration": 109,
    "start_time": "2022-10-24T23:58:44.210Z"
   },
   {
    "duration": 126,
    "start_time": "2022-10-24T23:58:44.321Z"
   },
   {
    "duration": 217,
    "start_time": "2022-10-24T23:58:44.448Z"
   },
   {
    "duration": 116,
    "start_time": "2022-10-24T23:58:44.667Z"
   },
   {
    "duration": 126,
    "start_time": "2022-10-24T23:58:44.784Z"
   },
   {
    "duration": 127,
    "start_time": "2022-10-24T23:58:44.912Z"
   },
   {
    "duration": 123,
    "start_time": "2022-10-24T23:58:45.041Z"
   },
   {
    "duration": 10,
    "start_time": "2022-10-24T23:58:45.165Z"
   },
   {
    "duration": 20,
    "start_time": "2022-10-24T23:58:45.177Z"
   },
   {
    "duration": 60,
    "start_time": "2022-10-25T00:06:59.755Z"
   },
   {
    "duration": 384,
    "start_time": "2022-10-25T00:07:08.978Z"
   },
   {
    "duration": 12,
    "start_time": "2022-10-25T00:07:09.363Z"
   },
   {
    "duration": 3,
    "start_time": "2022-10-25T00:07:09.376Z"
   },
   {
    "duration": 7,
    "start_time": "2022-10-25T00:07:09.380Z"
   },
   {
    "duration": 10,
    "start_time": "2022-10-25T00:07:09.389Z"
   },
   {
    "duration": 31,
    "start_time": "2022-10-25T00:07:09.400Z"
   },
   {
    "duration": 4,
    "start_time": "2022-10-25T00:07:09.432Z"
   },
   {
    "duration": 7,
    "start_time": "2022-10-25T00:07:09.437Z"
   },
   {
    "duration": 5,
    "start_time": "2022-10-25T00:07:09.445Z"
   },
   {
    "duration": 6,
    "start_time": "2022-10-25T00:07:09.451Z"
   },
   {
    "duration": 10,
    "start_time": "2022-10-25T00:07:09.459Z"
   },
   {
    "duration": 15,
    "start_time": "2022-10-25T00:07:09.470Z"
   },
   {
    "duration": 5,
    "start_time": "2022-10-25T00:07:09.486Z"
   },
   {
    "duration": 29,
    "start_time": "2022-10-25T00:07:09.493Z"
   },
   {
    "duration": 3,
    "start_time": "2022-10-25T00:07:09.523Z"
   },
   {
    "duration": 60,
    "start_time": "2022-10-25T00:07:09.528Z"
   },
   {
    "duration": 956,
    "start_time": "2022-10-25T00:07:09.589Z"
   },
   {
    "duration": 236,
    "start_time": "2022-10-25T00:07:10.546Z"
   },
   {
    "duration": 197,
    "start_time": "2022-10-25T00:07:10.784Z"
   },
   {
    "duration": 12,
    "start_time": "2022-10-25T00:07:10.982Z"
   },
   {
    "duration": 11,
    "start_time": "2022-10-25T00:07:10.995Z"
   },
   {
    "duration": 17,
    "start_time": "2022-10-25T00:07:11.008Z"
   },
   {
    "duration": 255,
    "start_time": "2022-10-25T00:07:11.026Z"
   },
   {
    "duration": 161,
    "start_time": "2022-10-25T00:07:11.282Z"
   },
   {
    "duration": 236,
    "start_time": "2022-10-25T00:07:11.444Z"
   },
   {
    "duration": 4,
    "start_time": "2022-10-25T00:07:11.682Z"
   },
   {
    "duration": 142,
    "start_time": "2022-10-25T00:07:11.687Z"
   },
   {
    "duration": 193,
    "start_time": "2022-10-25T00:07:11.831Z"
   },
   {
    "duration": 684,
    "start_time": "2022-10-25T00:07:12.026Z"
   },
   {
    "duration": 159,
    "start_time": "2022-10-25T00:07:12.712Z"
   },
   {
    "duration": 152,
    "start_time": "2022-10-25T00:07:12.873Z"
   },
   {
    "duration": 158,
    "start_time": "2022-10-25T00:07:13.026Z"
   },
   {
    "duration": 128,
    "start_time": "2022-10-25T00:07:13.185Z"
   },
   {
    "duration": 127,
    "start_time": "2022-10-25T00:07:13.315Z"
   },
   {
    "duration": 110,
    "start_time": "2022-10-25T00:07:13.443Z"
   },
   {
    "duration": 125,
    "start_time": "2022-10-25T00:07:13.555Z"
   },
   {
    "duration": 208,
    "start_time": "2022-10-25T00:07:13.681Z"
   },
   {
    "duration": 116,
    "start_time": "2022-10-25T00:07:13.890Z"
   },
   {
    "duration": 110,
    "start_time": "2022-10-25T00:07:14.007Z"
   },
   {
    "duration": 126,
    "start_time": "2022-10-25T00:07:14.118Z"
   },
   {
    "duration": 111,
    "start_time": "2022-10-25T00:07:14.246Z"
   },
   {
    "duration": 9,
    "start_time": "2022-10-25T00:07:14.359Z"
   },
   {
    "duration": 12,
    "start_time": "2022-10-25T00:07:14.369Z"
   },
   {
    "duration": 61,
    "start_time": "2022-10-25T10:37:47.411Z"
   },
   {
    "duration": 408,
    "start_time": "2022-10-25T10:37:52.289Z"
   },
   {
    "duration": 200,
    "start_time": "2022-10-25T10:37:52.699Z"
   },
   {
    "duration": 15,
    "start_time": "2022-10-25T10:37:52.901Z"
   },
   {
    "duration": 4,
    "start_time": "2022-10-25T10:37:52.918Z"
   },
   {
    "duration": 5,
    "start_time": "2022-10-25T10:37:52.924Z"
   },
   {
    "duration": 13,
    "start_time": "2022-10-25T10:37:52.931Z"
   },
   {
    "duration": 59,
    "start_time": "2022-10-25T10:37:52.946Z"
   },
   {
    "duration": 7,
    "start_time": "2022-10-25T10:37:53.007Z"
   },
   {
    "duration": 5,
    "start_time": "2022-10-25T10:37:53.016Z"
   },
   {
    "duration": 14,
    "start_time": "2022-10-25T10:37:53.023Z"
   },
   {
    "duration": 8,
    "start_time": "2022-10-25T10:37:53.040Z"
   },
   {
    "duration": 11,
    "start_time": "2022-10-25T10:37:53.049Z"
   },
   {
    "duration": 39,
    "start_time": "2022-10-25T10:37:53.062Z"
   },
   {
    "duration": 6,
    "start_time": "2022-10-25T10:37:53.104Z"
   },
   {
    "duration": 14,
    "start_time": "2022-10-25T10:37:53.112Z"
   },
   {
    "duration": 5,
    "start_time": "2022-10-25T10:37:53.128Z"
   },
   {
    "duration": 104,
    "start_time": "2022-10-25T10:37:53.135Z"
   },
   {
    "duration": 1416,
    "start_time": "2022-10-25T10:37:53.240Z"
   },
   {
    "duration": 316,
    "start_time": "2022-10-25T10:37:54.658Z"
   },
   {
    "duration": 232,
    "start_time": "2022-10-25T10:37:54.976Z"
   },
   {
    "duration": 14,
    "start_time": "2022-10-25T10:37:55.209Z"
   },
   {
    "duration": 32,
    "start_time": "2022-10-25T10:37:55.225Z"
   },
   {
    "duration": 22,
    "start_time": "2022-10-25T10:37:55.261Z"
   },
   {
    "duration": 310,
    "start_time": "2022-10-25T10:37:55.285Z"
   },
   {
    "duration": 218,
    "start_time": "2022-10-25T10:37:55.597Z"
   },
   {
    "duration": 353,
    "start_time": "2022-10-25T10:37:55.817Z"
   },
   {
    "duration": 6,
    "start_time": "2022-10-25T10:37:56.172Z"
   },
   {
    "duration": 178,
    "start_time": "2022-10-25T10:37:56.191Z"
   },
   {
    "duration": 177,
    "start_time": "2022-10-25T10:37:56.371Z"
   },
   {
    "duration": 899,
    "start_time": "2022-10-25T10:37:56.551Z"
   },
   {
    "duration": 187,
    "start_time": "2022-10-25T10:37:57.451Z"
   },
   {
    "duration": 199,
    "start_time": "2022-10-25T10:37:57.640Z"
   },
   {
    "duration": 208,
    "start_time": "2022-10-25T10:37:57.841Z"
   },
   {
    "duration": 154,
    "start_time": "2022-10-25T10:37:58.050Z"
   },
   {
    "duration": 255,
    "start_time": "2022-10-25T10:37:58.206Z"
   },
   {
    "duration": 165,
    "start_time": "2022-10-25T10:37:58.463Z"
   },
   {
    "duration": 169,
    "start_time": "2022-10-25T10:37:58.630Z"
   },
   {
    "duration": 167,
    "start_time": "2022-10-25T10:37:58.801Z"
   },
   {
    "duration": 159,
    "start_time": "2022-10-25T10:37:58.969Z"
   },
   {
    "duration": 145,
    "start_time": "2022-10-25T10:37:59.131Z"
   },
   {
    "duration": 172,
    "start_time": "2022-10-25T10:37:59.280Z"
   },
   {
    "duration": 146,
    "start_time": "2022-10-25T10:37:59.454Z"
   },
   {
    "duration": 15,
    "start_time": "2022-10-25T10:37:59.602Z"
   },
   {
    "duration": 23,
    "start_time": "2022-10-25T10:37:59.619Z"
   },
   {
    "duration": 274,
    "start_time": "2022-10-25T10:43:20.621Z"
   },
   {
    "duration": 395,
    "start_time": "2022-10-25T10:43:51.731Z"
   },
   {
    "duration": 250,
    "start_time": "2022-10-25T10:44:55.881Z"
   },
   {
    "duration": 255,
    "start_time": "2022-10-25T10:48:43.854Z"
   },
   {
    "duration": 260,
    "start_time": "2022-10-25T10:48:49.332Z"
   },
   {
    "duration": 158,
    "start_time": "2022-10-25T10:49:04.788Z"
   },
   {
    "duration": 175,
    "start_time": "2022-10-25T10:50:00.741Z"
   },
   {
    "duration": 930,
    "start_time": "2022-10-25T10:50:07.163Z"
   },
   {
    "duration": 816,
    "start_time": "2022-10-25T10:51:19.157Z"
   },
   {
    "duration": 791,
    "start_time": "2022-10-25T10:51:40.703Z"
   },
   {
    "duration": 27,
    "start_time": "2022-10-25T10:52:02.192Z"
   },
   {
    "duration": 73,
    "start_time": "2022-10-25T10:52:43.013Z"
   },
   {
    "duration": 28,
    "start_time": "2022-10-25T10:53:27.438Z"
   },
   {
    "duration": 1736,
    "start_time": "2022-10-25T10:59:26.735Z"
   },
   {
    "duration": 1718,
    "start_time": "2022-10-25T10:59:45.739Z"
   },
   {
    "duration": 1786,
    "start_time": "2022-10-25T11:01:01.970Z"
   },
   {
    "duration": 1537,
    "start_time": "2022-10-25T11:03:44.421Z"
   },
   {
    "duration": 92,
    "start_time": "2022-10-25T11:07:28.061Z"
   },
   {
    "duration": 78,
    "start_time": "2022-10-25T11:07:33.223Z"
   },
   {
    "duration": 77,
    "start_time": "2022-10-25T11:07:50.807Z"
   },
   {
    "duration": 77,
    "start_time": "2022-10-25T11:07:55.803Z"
   },
   {
    "duration": 361,
    "start_time": "2022-10-25T11:08:25.634Z"
   },
   {
    "duration": 299,
    "start_time": "2022-10-25T11:09:14.216Z"
   },
   {
    "duration": 443,
    "start_time": "2022-10-25T11:09:22.979Z"
   },
   {
    "duration": 269,
    "start_time": "2022-10-25T11:09:49.734Z"
   },
   {
    "duration": 13,
    "start_time": "2022-10-25T11:13:31.650Z"
   },
   {
    "duration": 373,
    "start_time": "2022-10-25T11:13:44.924Z"
   },
   {
    "duration": 71,
    "start_time": "2022-10-25T11:13:45.299Z"
   },
   {
    "duration": 13,
    "start_time": "2022-10-25T11:13:45.372Z"
   },
   {
    "duration": 4,
    "start_time": "2022-10-25T11:13:45.387Z"
   },
   {
    "duration": 6,
    "start_time": "2022-10-25T11:13:45.392Z"
   },
   {
    "duration": 11,
    "start_time": "2022-10-25T11:13:45.400Z"
   },
   {
    "duration": 17,
    "start_time": "2022-10-25T11:13:45.413Z"
   },
   {
    "duration": 6,
    "start_time": "2022-10-25T11:13:45.431Z"
   },
   {
    "duration": 7,
    "start_time": "2022-10-25T11:13:45.439Z"
   },
   {
    "duration": 49,
    "start_time": "2022-10-25T11:13:45.449Z"
   },
   {
    "duration": 5,
    "start_time": "2022-10-25T11:13:45.500Z"
   },
   {
    "duration": 9,
    "start_time": "2022-10-25T11:13:45.507Z"
   },
   {
    "duration": 16,
    "start_time": "2022-10-25T11:13:45.517Z"
   },
   {
    "duration": 6,
    "start_time": "2022-10-25T11:13:45.535Z"
   },
   {
    "duration": 47,
    "start_time": "2022-10-25T11:13:45.543Z"
   },
   {
    "duration": 4,
    "start_time": "2022-10-25T11:13:45.592Z"
   },
   {
    "duration": 70,
    "start_time": "2022-10-25T11:13:45.598Z"
   },
   {
    "duration": 1173,
    "start_time": "2022-10-25T11:13:45.669Z"
   },
   {
    "duration": 292,
    "start_time": "2022-10-25T11:13:46.845Z"
   },
   {
    "duration": 236,
    "start_time": "2022-10-25T11:13:47.138Z"
   },
   {
    "duration": 24,
    "start_time": "2022-10-25T11:13:47.375Z"
   },
   {
    "duration": 12,
    "start_time": "2022-10-25T11:13:47.400Z"
   },
   {
    "duration": 6,
    "start_time": "2022-10-25T11:13:47.413Z"
   },
   {
    "duration": 310,
    "start_time": "2022-10-25T11:13:47.421Z"
   },
   {
    "duration": 203,
    "start_time": "2022-10-25T11:13:47.732Z"
   },
   {
    "duration": 267,
    "start_time": "2022-10-25T11:13:47.936Z"
   },
   {
    "duration": 409,
    "start_time": "2022-10-25T11:13:48.205Z"
   },
   {
    "duration": 5,
    "start_time": "2022-10-25T11:13:48.618Z"
   },
   {
    "duration": 185,
    "start_time": "2022-10-25T11:13:48.625Z"
   },
   {
    "duration": 191,
    "start_time": "2022-10-25T11:13:48.812Z"
   },
   {
    "duration": 34,
    "start_time": "2022-10-25T11:13:49.007Z"
   },
   {
    "duration": 1667,
    "start_time": "2022-10-25T11:13:49.043Z"
   },
   {
    "duration": 211,
    "start_time": "2022-10-25T11:13:50.713Z"
   },
   {
    "duration": 196,
    "start_time": "2022-10-25T11:13:50.926Z"
   },
   {
    "duration": 302,
    "start_time": "2022-10-25T11:13:51.124Z"
   },
   {
    "duration": 160,
    "start_time": "2022-10-25T11:13:51.428Z"
   },
   {
    "duration": 147,
    "start_time": "2022-10-25T11:13:51.590Z"
   },
   {
    "duration": 136,
    "start_time": "2022-10-25T11:13:51.739Z"
   },
   {
    "duration": 155,
    "start_time": "2022-10-25T11:13:51.876Z"
   },
   {
    "duration": 162,
    "start_time": "2022-10-25T11:13:52.033Z"
   },
   {
    "duration": 142,
    "start_time": "2022-10-25T11:13:52.197Z"
   },
   {
    "duration": 235,
    "start_time": "2022-10-25T11:13:52.341Z"
   },
   {
    "duration": 0,
    "start_time": "2022-10-25T11:13:52.578Z"
   },
   {
    "duration": 0,
    "start_time": "2022-10-25T11:13:52.591Z"
   },
   {
    "duration": 0,
    "start_time": "2022-10-25T11:13:52.592Z"
   },
   {
    "duration": 0,
    "start_time": "2022-10-25T11:13:52.593Z"
   },
   {
    "duration": 0,
    "start_time": "2022-10-25T11:13:52.594Z"
   },
   {
    "duration": 21,
    "start_time": "2022-10-25T11:14:10.698Z"
   },
   {
    "duration": 23,
    "start_time": "2022-10-25T11:14:24.946Z"
   },
   {
    "duration": 126,
    "start_time": "2022-10-25T11:14:33.534Z"
   },
   {
    "duration": 158,
    "start_time": "2022-10-25T11:15:03.111Z"
   },
   {
    "duration": 73,
    "start_time": "2022-10-25T11:15:14.775Z"
   },
   {
    "duration": 86,
    "start_time": "2022-10-25T11:16:08.813Z"
   },
   {
    "duration": 114,
    "start_time": "2022-10-25T11:16:13.436Z"
   },
   {
    "duration": 81,
    "start_time": "2022-10-25T11:19:22.045Z"
   },
   {
    "duration": 77,
    "start_time": "2022-10-25T11:19:35.711Z"
   },
   {
    "duration": 626,
    "start_time": "2022-10-25T11:19:42.518Z"
   },
   {
    "duration": 211,
    "start_time": "2022-10-25T11:19:57.739Z"
   },
   {
    "duration": 18,
    "start_time": "2022-10-25T11:25:24.248Z"
   },
   {
    "duration": 18,
    "start_time": "2022-10-25T11:25:39.132Z"
   },
   {
    "duration": 17,
    "start_time": "2022-10-25T11:25:47.213Z"
   },
   {
    "duration": 18,
    "start_time": "2022-10-25T11:25:52.734Z"
   },
   {
    "duration": 20,
    "start_time": "2022-10-25T11:26:01.276Z"
   },
   {
    "duration": 198,
    "start_time": "2022-10-25T11:26:19.546Z"
   },
   {
    "duration": 125,
    "start_time": "2022-10-25T11:26:52.271Z"
   },
   {
    "duration": 20,
    "start_time": "2022-10-25T11:26:58.452Z"
   },
   {
    "duration": 120,
    "start_time": "2022-10-25T11:27:06.890Z"
   },
   {
    "duration": 101,
    "start_time": "2022-10-25T11:27:11.651Z"
   },
   {
    "duration": 114,
    "start_time": "2022-10-25T11:27:17.783Z"
   },
   {
    "duration": 184,
    "start_time": "2022-10-25T11:27:30.795Z"
   },
   {
    "duration": 109,
    "start_time": "2022-10-25T11:27:37.166Z"
   },
   {
    "duration": 92,
    "start_time": "2022-10-25T11:27:59.741Z"
   },
   {
    "duration": 141,
    "start_time": "2022-10-25T11:28:36.465Z"
   },
   {
    "duration": 1276,
    "start_time": "2022-10-25T11:29:42.068Z"
   },
   {
    "duration": 415,
    "start_time": "2022-10-25T11:30:08.129Z"
   },
   {
    "duration": 434,
    "start_time": "2022-10-25T11:30:21.754Z"
   },
   {
    "duration": 417,
    "start_time": "2022-10-25T11:30:25.765Z"
   },
   {
    "duration": 526,
    "start_time": "2022-10-25T11:30:28.584Z"
   },
   {
    "duration": 520,
    "start_time": "2022-10-25T11:30:37.233Z"
   },
   {
    "duration": 492,
    "start_time": "2022-10-25T11:30:41.023Z"
   },
   {
    "duration": 406,
    "start_time": "2022-10-25T11:30:45.094Z"
   },
   {
    "duration": 80,
    "start_time": "2022-10-25T11:31:08.932Z"
   },
   {
    "duration": 403,
    "start_time": "2022-10-25T11:31:11.514Z"
   },
   {
    "duration": 81,
    "start_time": "2022-10-25T11:31:46.639Z"
   },
   {
    "duration": 269,
    "start_time": "2022-10-25T11:31:49.766Z"
   },
   {
    "duration": 267,
    "start_time": "2022-10-25T11:35:01.036Z"
   },
   {
    "duration": 248,
    "start_time": "2022-10-25T11:36:09.771Z"
   },
   {
    "duration": 400,
    "start_time": "2022-10-25T11:37:35.184Z"
   },
   {
    "duration": 258,
    "start_time": "2022-10-25T11:37:49.170Z"
   },
   {
    "duration": 408,
    "start_time": "2022-10-25T11:38:34.456Z"
   },
   {
    "duration": 285,
    "start_time": "2022-10-25T11:38:45.350Z"
   },
   {
    "duration": 270,
    "start_time": "2022-10-25T11:40:35.094Z"
   },
   {
    "duration": 283,
    "start_time": "2022-10-25T11:41:00.873Z"
   },
   {
    "duration": 402,
    "start_time": "2022-10-25T11:41:10.617Z"
   },
   {
    "duration": 354,
    "start_time": "2022-10-25T11:46:57.940Z"
   },
   {
    "duration": 334,
    "start_time": "2022-10-25T11:47:15.957Z"
   },
   {
    "duration": 76,
    "start_time": "2022-10-25T11:48:45.400Z"
   },
   {
    "duration": 320,
    "start_time": "2022-10-25T11:48:52.137Z"
   },
   {
    "duration": 297,
    "start_time": "2022-10-25T11:49:31.011Z"
   },
   {
    "duration": 301,
    "start_time": "2022-10-25T11:50:46.747Z"
   },
   {
    "duration": 379,
    "start_time": "2022-10-25T11:50:53.645Z"
   },
   {
    "duration": 386,
    "start_time": "2022-10-25T11:50:56.437Z"
   },
   {
    "duration": 311,
    "start_time": "2022-10-25T11:51:03.535Z"
   },
   {
    "duration": 300,
    "start_time": "2022-10-25T11:51:07.231Z"
   },
   {
    "duration": 290,
    "start_time": "2022-10-25T11:51:15.221Z"
   },
   {
    "duration": 406,
    "start_time": "2022-10-25T11:51:26.978Z"
   },
   {
    "duration": 75,
    "start_time": "2022-10-25T11:54:55.405Z"
   },
   {
    "duration": 10,
    "start_time": "2022-10-25T11:58:11.872Z"
   },
   {
    "duration": 13,
    "start_time": "2022-10-25T11:58:29.902Z"
   },
   {
    "duration": 10,
    "start_time": "2022-10-25T11:58:32.652Z"
   },
   {
    "duration": 3,
    "start_time": "2022-10-25T11:58:44.311Z"
   },
   {
    "duration": 10,
    "start_time": "2022-10-25T11:58:45.079Z"
   },
   {
    "duration": 15,
    "start_time": "2022-10-25T11:58:50.332Z"
   },
   {
    "duration": 14,
    "start_time": "2022-10-25T12:01:23.999Z"
   },
   {
    "duration": 24,
    "start_time": "2022-10-25T12:01:36.589Z"
   },
   {
    "duration": 13,
    "start_time": "2022-10-25T12:02:37.662Z"
   },
   {
    "duration": 16,
    "start_time": "2022-10-25T12:02:43.530Z"
   },
   {
    "duration": 16,
    "start_time": "2022-10-25T12:03:06.391Z"
   },
   {
    "duration": 16,
    "start_time": "2022-10-25T12:07:35.750Z"
   },
   {
    "duration": 16,
    "start_time": "2022-10-25T12:08:17.473Z"
   },
   {
    "duration": 403,
    "start_time": "2022-10-25T12:09:33.703Z"
   },
   {
    "duration": 70,
    "start_time": "2022-10-25T12:09:34.108Z"
   },
   {
    "duration": 14,
    "start_time": "2022-10-25T12:09:34.180Z"
   },
   {
    "duration": 4,
    "start_time": "2022-10-25T12:09:34.197Z"
   },
   {
    "duration": 6,
    "start_time": "2022-10-25T12:09:34.203Z"
   },
   {
    "duration": 13,
    "start_time": "2022-10-25T12:09:34.211Z"
   },
   {
    "duration": 19,
    "start_time": "2022-10-25T12:09:34.226Z"
   },
   {
    "duration": 45,
    "start_time": "2022-10-25T12:09:34.247Z"
   },
   {
    "duration": 6,
    "start_time": "2022-10-25T12:09:34.294Z"
   },
   {
    "duration": 7,
    "start_time": "2022-10-25T12:09:34.303Z"
   },
   {
    "duration": 7,
    "start_time": "2022-10-25T12:09:34.311Z"
   },
   {
    "duration": 8,
    "start_time": "2022-10-25T12:09:34.320Z"
   },
   {
    "duration": 26,
    "start_time": "2022-10-25T12:09:34.330Z"
   },
   {
    "duration": 8,
    "start_time": "2022-10-25T12:09:34.392Z"
   },
   {
    "duration": 19,
    "start_time": "2022-10-25T12:09:34.402Z"
   },
   {
    "duration": 5,
    "start_time": "2022-10-25T12:09:34.423Z"
   },
   {
    "duration": 144,
    "start_time": "2022-10-25T12:09:34.431Z"
   },
   {
    "duration": 1186,
    "start_time": "2022-10-25T12:09:34.576Z"
   },
   {
    "duration": 296,
    "start_time": "2022-10-25T12:09:35.764Z"
   },
   {
    "duration": 248,
    "start_time": "2022-10-25T12:09:36.062Z"
   },
   {
    "duration": 15,
    "start_time": "2022-10-25T12:09:36.312Z"
   },
   {
    "duration": 11,
    "start_time": "2022-10-25T12:09:36.329Z"
   },
   {
    "duration": 28,
    "start_time": "2022-10-25T12:09:36.341Z"
   },
   {
    "duration": 410,
    "start_time": "2022-10-25T12:09:36.371Z"
   },
   {
    "duration": 207,
    "start_time": "2022-10-25T12:09:36.784Z"
   },
   {
    "duration": 274,
    "start_time": "2022-10-25T12:09:36.993Z"
   },
   {
    "duration": 424,
    "start_time": "2022-10-25T12:09:37.291Z"
   },
   {
    "duration": 7,
    "start_time": "2022-10-25T12:09:37.719Z"
   },
   {
    "duration": 265,
    "start_time": "2022-10-25T12:09:37.728Z"
   },
   {
    "duration": 169,
    "start_time": "2022-10-25T12:09:37.995Z"
   },
   {
    "duration": 38,
    "start_time": "2022-10-25T12:09:38.165Z"
   },
   {
    "duration": 1665,
    "start_time": "2022-10-25T12:09:38.204Z"
   },
   {
    "duration": 198,
    "start_time": "2022-10-25T12:09:39.871Z"
   },
   {
    "duration": 204,
    "start_time": "2022-10-25T12:09:40.071Z"
   },
   {
    "duration": 320,
    "start_time": "2022-10-25T12:09:40.277Z"
   },
   {
    "duration": 158,
    "start_time": "2022-10-25T12:09:40.599Z"
   },
   {
    "duration": 158,
    "start_time": "2022-10-25T12:09:40.759Z"
   },
   {
    "duration": 137,
    "start_time": "2022-10-25T12:09:40.918Z"
   },
   {
    "duration": 304,
    "start_time": "2022-10-25T12:09:41.056Z"
   },
   {
    "duration": 160,
    "start_time": "2022-10-25T12:09:41.362Z"
   },
   {
    "duration": 173,
    "start_time": "2022-10-25T12:09:41.524Z"
   },
   {
    "duration": 171,
    "start_time": "2022-10-25T12:09:41.699Z"
   },
   {
    "duration": 339,
    "start_time": "2022-10-25T12:09:41.872Z"
   },
   {
    "duration": 254,
    "start_time": "2022-10-25T12:09:42.213Z"
   },
   {
    "duration": 186,
    "start_time": "2022-10-25T12:09:42.469Z"
   },
   {
    "duration": 162,
    "start_time": "2022-10-25T12:09:42.657Z"
   },
   {
    "duration": 4,
    "start_time": "2022-10-25T12:09:42.820Z"
   },
   {
    "duration": 17,
    "start_time": "2022-10-25T12:09:42.827Z"
   },
   {
    "duration": 19,
    "start_time": "2022-10-25T12:09:42.846Z"
   },
   {
    "duration": 39,
    "start_time": "2022-10-25T12:09:42.867Z"
   },
   {
    "duration": 21,
    "start_time": "2022-10-25T12:09:42.909Z"
   },
   {
    "duration": 491,
    "start_time": "2022-10-26T06:43:19.826Z"
   },
   {
    "duration": 284,
    "start_time": "2022-10-26T06:43:20.319Z"
   },
   {
    "duration": 25,
    "start_time": "2022-10-26T06:43:20.605Z"
   },
   {
    "duration": 8,
    "start_time": "2022-10-26T06:43:20.633Z"
   },
   {
    "duration": 19,
    "start_time": "2022-10-26T06:43:20.642Z"
   },
   {
    "duration": 24,
    "start_time": "2022-10-26T06:43:20.663Z"
   },
   {
    "duration": 25,
    "start_time": "2022-10-26T06:43:20.690Z"
   },
   {
    "duration": 14,
    "start_time": "2022-10-26T06:43:20.717Z"
   },
   {
    "duration": 23,
    "start_time": "2022-10-26T06:43:20.739Z"
   },
   {
    "duration": 11,
    "start_time": "2022-10-26T06:43:20.771Z"
   },
   {
    "duration": 20,
    "start_time": "2022-10-26T06:43:20.786Z"
   },
   {
    "duration": 18,
    "start_time": "2022-10-26T06:43:20.808Z"
   },
   {
    "duration": 33,
    "start_time": "2022-10-26T06:43:20.828Z"
   },
   {
    "duration": 8,
    "start_time": "2022-10-26T06:43:20.863Z"
   },
   {
    "duration": 18,
    "start_time": "2022-10-26T06:43:20.873Z"
   },
   {
    "duration": 6,
    "start_time": "2022-10-26T06:43:20.894Z"
   },
   {
    "duration": 133,
    "start_time": "2022-10-26T06:43:20.902Z"
   },
   {
    "duration": 1480,
    "start_time": "2022-10-26T06:43:21.037Z"
   },
   {
    "duration": 324,
    "start_time": "2022-10-26T06:43:22.518Z"
   },
   {
    "duration": 298,
    "start_time": "2022-10-26T06:43:22.848Z"
   },
   {
    "duration": 15,
    "start_time": "2022-10-26T06:43:23.148Z"
   },
   {
    "duration": 26,
    "start_time": "2022-10-26T06:43:23.165Z"
   },
   {
    "duration": 25,
    "start_time": "2022-10-26T06:43:23.193Z"
   },
   {
    "duration": 384,
    "start_time": "2022-10-26T06:43:23.220Z"
   },
   {
    "duration": 217,
    "start_time": "2022-10-26T06:43:23.606Z"
   },
   {
    "duration": 361,
    "start_time": "2022-10-26T06:43:23.828Z"
   },
   {
    "duration": 322,
    "start_time": "2022-10-26T06:43:24.191Z"
   },
   {
    "duration": 5,
    "start_time": "2022-10-26T06:43:24.517Z"
   },
   {
    "duration": 175,
    "start_time": "2022-10-26T06:43:24.534Z"
   },
   {
    "duration": 178,
    "start_time": "2022-10-26T06:43:24.711Z"
   },
   {
    "duration": 44,
    "start_time": "2022-10-26T06:43:24.891Z"
   },
   {
    "duration": 1826,
    "start_time": "2022-10-26T06:43:24.937Z"
   },
   {
    "duration": 316,
    "start_time": "2022-10-26T06:43:26.765Z"
   },
   {
    "duration": 219,
    "start_time": "2022-10-26T06:43:27.082Z"
   },
   {
    "duration": 248,
    "start_time": "2022-10-26T06:43:27.302Z"
   },
   {
    "duration": 169,
    "start_time": "2022-10-26T06:43:27.552Z"
   },
   {
    "duration": 179,
    "start_time": "2022-10-26T06:43:27.722Z"
   },
   {
    "duration": 176,
    "start_time": "2022-10-26T06:43:27.903Z"
   },
   {
    "duration": 478,
    "start_time": "2022-10-26T06:43:28.090Z"
   },
   {
    "duration": 180,
    "start_time": "2022-10-26T06:43:28.570Z"
   },
   {
    "duration": 182,
    "start_time": "2022-10-26T06:43:28.752Z"
   },
   {
    "duration": 174,
    "start_time": "2022-10-26T06:43:28.937Z"
   },
   {
    "duration": 465,
    "start_time": "2022-10-26T06:43:29.113Z"
   },
   {
    "duration": 153,
    "start_time": "2022-10-26T06:43:29.579Z"
   },
   {
    "duration": 156,
    "start_time": "2022-10-26T06:43:29.742Z"
   },
   {
    "duration": 160,
    "start_time": "2022-10-26T06:43:29.900Z"
   },
   {
    "duration": 2,
    "start_time": "2022-10-26T06:43:30.062Z"
   },
   {
    "duration": 31,
    "start_time": "2022-10-26T06:43:30.066Z"
   },
   {
    "duration": 37,
    "start_time": "2022-10-26T06:43:30.099Z"
   },
   {
    "duration": 25,
    "start_time": "2022-10-26T06:43:30.137Z"
   },
   {
    "duration": 52,
    "start_time": "2022-10-26T06:43:30.164Z"
   }
  ],
  "kernelspec": {
   "display_name": "Python 3 (ipykernel)",
   "language": "python",
   "name": "python3"
  },
  "language_info": {
   "codemirror_mode": {
    "name": "ipython",
    "version": 3
   },
   "file_extension": ".py",
   "mimetype": "text/x-python",
   "name": "python",
   "nbconvert_exporter": "python",
   "pygments_lexer": "ipython3",
   "version": "3.9.12"
  },
  "toc": {
   "base_numbering": 1,
   "nav_menu": {},
   "number_sections": true,
   "sideBar": true,
   "skip_h1_title": true,
   "title_cell": "Table of Contents",
   "title_sidebar": "Contents",
   "toc_cell": false,
   "toc_position": {
    "height": "calc(100% - 180px)",
    "left": "10px",
    "top": "150px",
    "width": "429.025px"
   },
   "toc_section_display": true,
   "toc_window_display": true
  }
 },
 "nbformat": 4,
 "nbformat_minor": 2
}
