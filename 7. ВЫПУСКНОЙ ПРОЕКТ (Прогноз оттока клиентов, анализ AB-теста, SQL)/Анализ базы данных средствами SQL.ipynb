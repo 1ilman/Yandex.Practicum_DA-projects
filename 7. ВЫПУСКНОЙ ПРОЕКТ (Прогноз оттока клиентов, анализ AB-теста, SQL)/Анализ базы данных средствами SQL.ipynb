{
 "cells": [
  {
   "cell_type": "markdown",
   "id": "5092837d",
   "metadata": {},
   "source": [
    "# Анализ базы данных средствами SQL"
   ]
  },
  {
   "cell_type": "markdown",
   "id": "0cd91899",
   "metadata": {},
   "source": [
    "## Введение"
   ]
  },
  {
   "cell_type": "markdown",
   "id": "2187df18",
   "metadata": {},
   "source": [
    "В нашем распоряжении есть база данных крупного сервиса для чтения книг по подписке. Нам как аналитику необходимо проанализировать базу данных.\n",
    "\n",
    "**Цель исследования:**\n",
    "- Бизнесу необходимо сформулировать ценностное предложение для нового продукта.\n",
    "\n",
    "Для достижения этой цели нам необходимо решить следующие задачи:\n",
    "\n",
    "1. Посчитать, сколько книг вышло после 1 января 2000 года;\n",
    "2. Для каждой книги посчитать количество обзоров и среднюю оценку;\n",
    "3. Определить издательство, которое выпустило наибольшее число книг толще 50 страниц — так мы исключим из анализа брошюры;\n",
    "4. Определить автора с самой высокой средней оценкой книг — учитывая только книги с 50 и более оценками;\n",
    "5. Посчитать среднее количество обзоров от пользователей, которые поставили больше 50 оценок.\n",
    "\n",
    "**Описание данных:**\n",
    "\n",
    "                                                 ER диаграмма базы данных\n",
    "<img src=\"https://habrastorage.org/webt/7x/qi/cu/7xqicu6cw_j_wsnzhcfy1_ydpyi.png\" width=\"700\" height=\"700\"/>\n",
    "\n",
    "1. Таблица `books`\n",
    "\n",
    "Содержит данные о книгах:\n",
    "\n",
    "- `book_id` — идентификатор книги;\n",
    "- `author_id` — идентификатор автора;\n",
    "- `title` — название книги;\n",
    "- `num_pages` — количество страниц;\n",
    "- `publication_date` — дата публикации книги;\n",
    "- `publisher_id` — идентификатор издателя.\n",
    "\n",
    "2. Таблица `authors`\n",
    "\n",
    "Содержит данные об авторах:\n",
    "\n",
    "- `author_id` — идентификатор автора;\n",
    "- `author` — имя автора.\n",
    "\n",
    "3. Таблица `publishers`\n",
    "\n",
    "Содержит данные об издательствах:\n",
    "\n",
    "- `publisher_id` — идентификатор издательства;\n",
    "- `publisher` — название издательства;\n",
    "\n",
    "4. Таблица `ratings`\n",
    "\n",
    "Содержит данные о пользовательских оценках книг:\n",
    "\n",
    "- `rating_id` — идентификатор оценки;\n",
    "- `book_id` — идентификатор книги;\n",
    "- `username` — имя пользователя, оставившего оценку;\n",
    "- `rating` — оценка книги.\n",
    "\n",
    "5. Таблица `reviews`\n",
    "\n",
    "Содержит данные о пользовательских обзорах на книги:\n",
    "\n",
    "- `review_id` — идентификатор обзора;\n",
    "- `book_id` — идентификатор книги;\n",
    "- `username` — имя пользователя, написавшего обзор;\n",
    "- `text` — текст обзора.\n",
    "\n",
    "**Ход исследования:**\n",
    "\n",
    "Первым делом приступим к обзору данных, проверим качество. Далее приступим к решению задач путем формирования SQL запросов к базе данных и опишем выводы по каждой из решенных задач.\n",
    "\n",
    "- Исследуйте таблицы — выведите первые строки;\n",
    "- Сделайте по одному SQL-запросу для решения каждого задания;\n",
    "- Выведите результат каждого запроса в тетрадке;\n",
    "- Опишите выводы по каждой из решённых задач.\n",
    "\n",
    "Исходя из этого наш проект будет состоять из четырех частей:\n",
    "\n",
    "1. Введение\n",
    "2. Загрузка и исследование таблиц\n",
    "3. Решение задач с выводами"
   ]
  },
  {
   "cell_type": "markdown",
   "id": "c9243d49",
   "metadata": {},
   "source": [
    "## Загрузка и исследование таблиц"
   ]
  },
  {
   "cell_type": "code",
   "execution_count": 1,
   "id": "158106f7",
   "metadata": {},
   "outputs": [],
   "source": [
    "# импортируем библиотеки\n",
    "import pandas as pd\n",
    "from sqlalchemy import create_engine "
   ]
  },
  {
   "cell_type": "markdown",
   "id": "8942f5aa",
   "metadata": {},
   "source": [
    "### Подключение к базе данных"
   ]
  },
  {
   "cell_type": "code",
   "execution_count": 2,
   "id": "dda77ec2",
   "metadata": {},
   "outputs": [],
   "source": [
    "# устанавливаем параметры\n",
    "db_config = {'user': 'praktikum_student', # имя пользователя\n",
    "             'pwd': 'Sdf4$2;d-d30pp', # пароль\n",
    "             'host': 'rc1b-wcoijxj3yxfsf3fs.mdb.yandexcloud.net',\n",
    "             'port': 6432, # порт подключения\n",
    "             'db': 'data-analyst-final-project-db'} # название базы данных\n",
    "\n",
    "connection_string = 'postgresql://{}:{}@{}:{}/{}'.format(db_config['user'],\n",
    "                                                         db_config['pwd'],\n",
    "                                                         db_config['host'],\n",
    "                                                         db_config['port'],\n",
    "                                                         db_config['db'])\n",
    "# сохраняем коннектор\n",
    "engine = create_engine(connection_string, connect_args={'sslmode':'require'}) "
   ]
  },
  {
   "cell_type": "markdown",
   "id": "244735eb",
   "metadata": {},
   "source": [
    "### Исследование таблиц"
   ]
  },
  {
   "cell_type": "markdown",
   "id": "b30051e3",
   "metadata": {},
   "source": [
    "#### Таблица books"
   ]
  },
  {
   "cell_type": "code",
   "execution_count": 3,
   "id": "db23e70a",
   "metadata": {},
   "outputs": [
    {
     "data": {
      "text/html": [
       "<div>\n",
       "<style scoped>\n",
       "    .dataframe tbody tr th:only-of-type {\n",
       "        vertical-align: middle;\n",
       "    }\n",
       "\n",
       "    .dataframe tbody tr th {\n",
       "        vertical-align: top;\n",
       "    }\n",
       "\n",
       "    .dataframe thead th {\n",
       "        text-align: right;\n",
       "    }\n",
       "</style>\n",
       "<table border=\"1\" class=\"dataframe\">\n",
       "  <thead>\n",
       "    <tr style=\"text-align: right;\">\n",
       "      <th></th>\n",
       "      <th>author_id</th>\n",
       "      <th>title</th>\n",
       "      <th>num_pages</th>\n",
       "      <th>publication_date</th>\n",
       "      <th>publisher_id</th>\n",
       "    </tr>\n",
       "    <tr>\n",
       "      <th>book_id</th>\n",
       "      <th></th>\n",
       "      <th></th>\n",
       "      <th></th>\n",
       "      <th></th>\n",
       "      <th></th>\n",
       "    </tr>\n",
       "  </thead>\n",
       "  <tbody>\n",
       "    <tr>\n",
       "      <th>1</th>\n",
       "      <td>546</td>\n",
       "      <td>'Salem's Lot</td>\n",
       "      <td>594</td>\n",
       "      <td>2005-11-01</td>\n",
       "      <td>93</td>\n",
       "    </tr>\n",
       "    <tr>\n",
       "      <th>2</th>\n",
       "      <td>465</td>\n",
       "      <td>1 000 Places to See Before You Die</td>\n",
       "      <td>992</td>\n",
       "      <td>2003-05-22</td>\n",
       "      <td>336</td>\n",
       "    </tr>\n",
       "    <tr>\n",
       "      <th>3</th>\n",
       "      <td>407</td>\n",
       "      <td>13 Little Blue Envelopes (Little Blue Envelope...</td>\n",
       "      <td>322</td>\n",
       "      <td>2010-12-21</td>\n",
       "      <td>135</td>\n",
       "    </tr>\n",
       "    <tr>\n",
       "      <th>4</th>\n",
       "      <td>82</td>\n",
       "      <td>1491: New Revelations of the Americas Before C...</td>\n",
       "      <td>541</td>\n",
       "      <td>2006-10-10</td>\n",
       "      <td>309</td>\n",
       "    </tr>\n",
       "    <tr>\n",
       "      <th>5</th>\n",
       "      <td>125</td>\n",
       "      <td>1776</td>\n",
       "      <td>386</td>\n",
       "      <td>2006-07-04</td>\n",
       "      <td>268</td>\n",
       "    </tr>\n",
       "  </tbody>\n",
       "</table>\n",
       "</div>"
      ],
      "text/plain": [
       "         author_id                                              title  \\\n",
       "book_id                                                                 \n",
       "1              546                                       'Salem's Lot   \n",
       "2              465                 1 000 Places to See Before You Die   \n",
       "3              407  13 Little Blue Envelopes (Little Blue Envelope...   \n",
       "4               82  1491: New Revelations of the Americas Before C...   \n",
       "5              125                                               1776   \n",
       "\n",
       "         num_pages publication_date  publisher_id  \n",
       "book_id                                            \n",
       "1              594       2005-11-01            93  \n",
       "2              992       2003-05-22           336  \n",
       "3              322       2010-12-21           135  \n",
       "4              541       2006-10-10           309  \n",
       "5              386       2006-07-04           268  "
      ]
     },
     "execution_count": 3,
     "metadata": {},
     "output_type": "execute_result"
    }
   ],
   "source": [
    "# Формируем sql-запросы и загружаем таблицы\n",
    "query = ''' SELECT *\n",
    "            FROM books\n",
    "            LIMIT 5\n",
    "        '''\n",
    "# выгрузку сохраняем в переменную\n",
    "books = pd.io.sql.read_sql(query, con=engine, index_col='book_id')\n",
    "books"
   ]
  },
  {
   "cell_type": "markdown",
   "id": "27a061f7",
   "metadata": {},
   "source": [
    "- `book_id` — идентификатор книги;\n",
    "- `author_id` — идентификатор автора;\n",
    "- `title` — название книги;\n",
    "- `num_pages` — количество страниц;\n",
    "- `publication_date` — дата публикации книги;\n",
    "- `publisher_id` — идентификатор издателя."
   ]
  },
  {
   "cell_type": "markdown",
   "id": "5f0e04ff",
   "metadata": {},
   "source": [
    "#### Таблица authors"
   ]
  },
  {
   "cell_type": "code",
   "execution_count": 4,
   "id": "614491d5",
   "metadata": {},
   "outputs": [
    {
     "data": {
      "text/html": [
       "<div>\n",
       "<style scoped>\n",
       "    .dataframe tbody tr th:only-of-type {\n",
       "        vertical-align: middle;\n",
       "    }\n",
       "\n",
       "    .dataframe tbody tr th {\n",
       "        vertical-align: top;\n",
       "    }\n",
       "\n",
       "    .dataframe thead th {\n",
       "        text-align: right;\n",
       "    }\n",
       "</style>\n",
       "<table border=\"1\" class=\"dataframe\">\n",
       "  <thead>\n",
       "    <tr style=\"text-align: right;\">\n",
       "      <th></th>\n",
       "      <th>author</th>\n",
       "    </tr>\n",
       "    <tr>\n",
       "      <th>author_id</th>\n",
       "      <th></th>\n",
       "    </tr>\n",
       "  </thead>\n",
       "  <tbody>\n",
       "    <tr>\n",
       "      <th>1</th>\n",
       "      <td>A.S. Byatt</td>\n",
       "    </tr>\n",
       "    <tr>\n",
       "      <th>2</th>\n",
       "      <td>Aesop/Laura Harris/Laura Gibbs</td>\n",
       "    </tr>\n",
       "    <tr>\n",
       "      <th>3</th>\n",
       "      <td>Agatha Christie</td>\n",
       "    </tr>\n",
       "    <tr>\n",
       "      <th>4</th>\n",
       "      <td>Alan Brennert</td>\n",
       "    </tr>\n",
       "    <tr>\n",
       "      <th>5</th>\n",
       "      <td>Alan Moore/David   Lloyd</td>\n",
       "    </tr>\n",
       "  </tbody>\n",
       "</table>\n",
       "</div>"
      ],
      "text/plain": [
       "                                   author\n",
       "author_id                                \n",
       "1                              A.S. Byatt\n",
       "2          Aesop/Laura Harris/Laura Gibbs\n",
       "3                         Agatha Christie\n",
       "4                           Alan Brennert\n",
       "5                Alan Moore/David   Lloyd"
      ]
     },
     "execution_count": 4,
     "metadata": {},
     "output_type": "execute_result"
    }
   ],
   "source": [
    "# Формируем sql-запросы и загружаем таблицы\n",
    "query = ''' SELECT *\n",
    "            FROM authors\n",
    "            LIMIT 5\n",
    "        '''\n",
    "# выгрузку сохраняем в переменную\n",
    "authors = pd.io.sql.read_sql(query, con=engine, index_col='author_id')\n",
    "authors"
   ]
  },
  {
   "cell_type": "markdown",
   "id": "8780c252",
   "metadata": {},
   "source": [
    "- `author_id` — идентификатор автора;\n",
    "- `author` — имя автора."
   ]
  },
  {
   "cell_type": "markdown",
   "id": "a0e6425b",
   "metadata": {},
   "source": [
    "#### Таблица publisher"
   ]
  },
  {
   "cell_type": "code",
   "execution_count": 5,
   "id": "aadc45cc",
   "metadata": {},
   "outputs": [
    {
     "data": {
      "text/html": [
       "<div>\n",
       "<style scoped>\n",
       "    .dataframe tbody tr th:only-of-type {\n",
       "        vertical-align: middle;\n",
       "    }\n",
       "\n",
       "    .dataframe tbody tr th {\n",
       "        vertical-align: top;\n",
       "    }\n",
       "\n",
       "    .dataframe thead th {\n",
       "        text-align: right;\n",
       "    }\n",
       "</style>\n",
       "<table border=\"1\" class=\"dataframe\">\n",
       "  <thead>\n",
       "    <tr style=\"text-align: right;\">\n",
       "      <th></th>\n",
       "      <th>publisher</th>\n",
       "    </tr>\n",
       "    <tr>\n",
       "      <th>publisher_id</th>\n",
       "      <th></th>\n",
       "    </tr>\n",
       "  </thead>\n",
       "  <tbody>\n",
       "    <tr>\n",
       "      <th>1</th>\n",
       "      <td>Ace</td>\n",
       "    </tr>\n",
       "    <tr>\n",
       "      <th>2</th>\n",
       "      <td>Ace Book</td>\n",
       "    </tr>\n",
       "    <tr>\n",
       "      <th>3</th>\n",
       "      <td>Ace Books</td>\n",
       "    </tr>\n",
       "    <tr>\n",
       "      <th>4</th>\n",
       "      <td>Ace Hardcover</td>\n",
       "    </tr>\n",
       "    <tr>\n",
       "      <th>5</th>\n",
       "      <td>Addison Wesley Publishing Company</td>\n",
       "    </tr>\n",
       "  </tbody>\n",
       "</table>\n",
       "</div>"
      ],
      "text/plain": [
       "                                      publisher\n",
       "publisher_id                                   \n",
       "1                                           Ace\n",
       "2                                      Ace Book\n",
       "3                                     Ace Books\n",
       "4                                 Ace Hardcover\n",
       "5             Addison Wesley Publishing Company"
      ]
     },
     "execution_count": 5,
     "metadata": {},
     "output_type": "execute_result"
    }
   ],
   "source": [
    "# Формируем sql-запросы и загружаем таблицы\n",
    "query = ''' SELECT *\n",
    "            FROM publishers\n",
    "            LIMIT 5\n",
    "        '''\n",
    "# выгрузку сохраняем в переменную\n",
    "publishers = pd.io.sql.read_sql(query, con=engine, index_col='publisher_id')\n",
    "publishers"
   ]
  },
  {
   "cell_type": "markdown",
   "id": "fbcdca61",
   "metadata": {},
   "source": [
    "- `publisher_id` — идентификатор издательства;\n",
    "- `publisher` — название издательства;\n"
   ]
  },
  {
   "cell_type": "markdown",
   "id": "22702814",
   "metadata": {},
   "source": [
    "#### Таблица ratings"
   ]
  },
  {
   "cell_type": "code",
   "execution_count": 6,
   "id": "5ef6b90d",
   "metadata": {},
   "outputs": [
    {
     "data": {
      "text/html": [
       "<div>\n",
       "<style scoped>\n",
       "    .dataframe tbody tr th:only-of-type {\n",
       "        vertical-align: middle;\n",
       "    }\n",
       "\n",
       "    .dataframe tbody tr th {\n",
       "        vertical-align: top;\n",
       "    }\n",
       "\n",
       "    .dataframe thead th {\n",
       "        text-align: right;\n",
       "    }\n",
       "</style>\n",
       "<table border=\"1\" class=\"dataframe\">\n",
       "  <thead>\n",
       "    <tr style=\"text-align: right;\">\n",
       "      <th></th>\n",
       "      <th>book_id</th>\n",
       "      <th>username</th>\n",
       "      <th>rating</th>\n",
       "    </tr>\n",
       "    <tr>\n",
       "      <th>rating_id</th>\n",
       "      <th></th>\n",
       "      <th></th>\n",
       "      <th></th>\n",
       "    </tr>\n",
       "  </thead>\n",
       "  <tbody>\n",
       "    <tr>\n",
       "      <th>1</th>\n",
       "      <td>1</td>\n",
       "      <td>ryanfranco</td>\n",
       "      <td>4</td>\n",
       "    </tr>\n",
       "    <tr>\n",
       "      <th>2</th>\n",
       "      <td>1</td>\n",
       "      <td>grantpatricia</td>\n",
       "      <td>2</td>\n",
       "    </tr>\n",
       "    <tr>\n",
       "      <th>3</th>\n",
       "      <td>1</td>\n",
       "      <td>brandtandrea</td>\n",
       "      <td>5</td>\n",
       "    </tr>\n",
       "    <tr>\n",
       "      <th>4</th>\n",
       "      <td>2</td>\n",
       "      <td>lorichen</td>\n",
       "      <td>3</td>\n",
       "    </tr>\n",
       "    <tr>\n",
       "      <th>5</th>\n",
       "      <td>2</td>\n",
       "      <td>mariokeller</td>\n",
       "      <td>2</td>\n",
       "    </tr>\n",
       "  </tbody>\n",
       "</table>\n",
       "</div>"
      ],
      "text/plain": [
       "           book_id       username  rating\n",
       "rating_id                                \n",
       "1                1     ryanfranco       4\n",
       "2                1  grantpatricia       2\n",
       "3                1   brandtandrea       5\n",
       "4                2       lorichen       3\n",
       "5                2    mariokeller       2"
      ]
     },
     "execution_count": 6,
     "metadata": {},
     "output_type": "execute_result"
    }
   ],
   "source": [
    "# Формируем sql-запросы и загружаем таблицы\n",
    "query = ''' SELECT *\n",
    "            FROM ratings\n",
    "            LIMIT 5\n",
    "        '''\n",
    "# выгрузку сохраняем в переменную\n",
    "ratings = pd.io.sql.read_sql(query, con=engine, index_col='rating_id')\n",
    "ratings"
   ]
  },
  {
   "cell_type": "markdown",
   "id": "4347589b",
   "metadata": {},
   "source": [
    "- `rating_id` — идентификатор оценки;\n",
    "- `book_id` — идентификатор книги;\n",
    "- `username` — имя пользователя, оставившего оценку;\n",
    "- `rating` — оценка книги."
   ]
  },
  {
   "cell_type": "markdown",
   "id": "3e60d9c5",
   "metadata": {},
   "source": [
    "#### Таблица reviews"
   ]
  },
  {
   "cell_type": "code",
   "execution_count": 7,
   "id": "696cf5f1",
   "metadata": {},
   "outputs": [
    {
     "data": {
      "text/html": [
       "<div>\n",
       "<style scoped>\n",
       "    .dataframe tbody tr th:only-of-type {\n",
       "        vertical-align: middle;\n",
       "    }\n",
       "\n",
       "    .dataframe tbody tr th {\n",
       "        vertical-align: top;\n",
       "    }\n",
       "\n",
       "    .dataframe thead th {\n",
       "        text-align: right;\n",
       "    }\n",
       "</style>\n",
       "<table border=\"1\" class=\"dataframe\">\n",
       "  <thead>\n",
       "    <tr style=\"text-align: right;\">\n",
       "      <th></th>\n",
       "      <th>book_id</th>\n",
       "      <th>username</th>\n",
       "      <th>text</th>\n",
       "    </tr>\n",
       "    <tr>\n",
       "      <th>review_id</th>\n",
       "      <th></th>\n",
       "      <th></th>\n",
       "      <th></th>\n",
       "    </tr>\n",
       "  </thead>\n",
       "  <tbody>\n",
       "    <tr>\n",
       "      <th>1</th>\n",
       "      <td>1</td>\n",
       "      <td>brandtandrea</td>\n",
       "      <td>Mention society tell send professor analysis. ...</td>\n",
       "    </tr>\n",
       "    <tr>\n",
       "      <th>2</th>\n",
       "      <td>1</td>\n",
       "      <td>ryanfranco</td>\n",
       "      <td>Foot glass pretty audience hit themselves. Amo...</td>\n",
       "    </tr>\n",
       "    <tr>\n",
       "      <th>3</th>\n",
       "      <td>2</td>\n",
       "      <td>lorichen</td>\n",
       "      <td>Listen treat keep worry. Miss husband tax but ...</td>\n",
       "    </tr>\n",
       "    <tr>\n",
       "      <th>4</th>\n",
       "      <td>3</td>\n",
       "      <td>johnsonamanda</td>\n",
       "      <td>Finally month interesting blue could nature cu...</td>\n",
       "    </tr>\n",
       "    <tr>\n",
       "      <th>5</th>\n",
       "      <td>3</td>\n",
       "      <td>scotttamara</td>\n",
       "      <td>Nation purpose heavy give wait song will. List...</td>\n",
       "    </tr>\n",
       "    <tr>\n",
       "      <th>...</th>\n",
       "      <td>...</td>\n",
       "      <td>...</td>\n",
       "      <td>...</td>\n",
       "    </tr>\n",
       "    <tr>\n",
       "      <th>2789</th>\n",
       "      <td>999</td>\n",
       "      <td>martinadam</td>\n",
       "      <td>Later hospital turn easy community. Fact same ...</td>\n",
       "    </tr>\n",
       "    <tr>\n",
       "      <th>2790</th>\n",
       "      <td>1000</td>\n",
       "      <td>wknight</td>\n",
       "      <td>Change lose answer close pressure. Spend so now.</td>\n",
       "    </tr>\n",
       "    <tr>\n",
       "      <th>2791</th>\n",
       "      <td>1000</td>\n",
       "      <td>carolrodriguez</td>\n",
       "      <td>Authority go who television entire hair guy po...</td>\n",
       "    </tr>\n",
       "    <tr>\n",
       "      <th>2792</th>\n",
       "      <td>1000</td>\n",
       "      <td>wendy18</td>\n",
       "      <td>Or western offer wonder ask. More hear phone f...</td>\n",
       "    </tr>\n",
       "    <tr>\n",
       "      <th>2793</th>\n",
       "      <td>1000</td>\n",
       "      <td>jarvispaul</td>\n",
       "      <td>Republican staff bit eat material measure plan...</td>\n",
       "    </tr>\n",
       "  </tbody>\n",
       "</table>\n",
       "<p>2793 rows × 3 columns</p>\n",
       "</div>"
      ],
      "text/plain": [
       "           book_id        username  \\\n",
       "review_id                            \n",
       "1                1    brandtandrea   \n",
       "2                1      ryanfranco   \n",
       "3                2        lorichen   \n",
       "4                3   johnsonamanda   \n",
       "5                3     scotttamara   \n",
       "...            ...             ...   \n",
       "2789           999      martinadam   \n",
       "2790          1000         wknight   \n",
       "2791          1000  carolrodriguez   \n",
       "2792          1000         wendy18   \n",
       "2793          1000      jarvispaul   \n",
       "\n",
       "                                                        text  \n",
       "review_id                                                     \n",
       "1          Mention society tell send professor analysis. ...  \n",
       "2          Foot glass pretty audience hit themselves. Amo...  \n",
       "3          Listen treat keep worry. Miss husband tax but ...  \n",
       "4          Finally month interesting blue could nature cu...  \n",
       "5          Nation purpose heavy give wait song will. List...  \n",
       "...                                                      ...  \n",
       "2789       Later hospital turn easy community. Fact same ...  \n",
       "2790        Change lose answer close pressure. Spend so now.  \n",
       "2791       Authority go who television entire hair guy po...  \n",
       "2792       Or western offer wonder ask. More hear phone f...  \n",
       "2793       Republican staff bit eat material measure plan...  \n",
       "\n",
       "[2793 rows x 3 columns]"
      ]
     },
     "execution_count": 7,
     "metadata": {},
     "output_type": "execute_result"
    }
   ],
   "source": [
    "# Формируем sql-запросы и загружаем таблицы\n",
    "query = ''' SELECT *\n",
    "            FROM reviews\n",
    "            \n",
    "        '''\n",
    "# выгрузку сохраняем в переменную\n",
    "reviews = pd.io.sql.read_sql(query, con=engine, index_col='review_id')\n",
    "reviews"
   ]
  },
  {
   "cell_type": "markdown",
   "id": "5161510a",
   "metadata": {},
   "source": [
    "- `review_id` — идентификатор обзора;\n",
    "- `book_id` — идентификатор книги;\n",
    "- `username` — имя пользователя, написавшего обзор;\n",
    "- `text` — текст обзора."
   ]
  },
  {
   "cell_type": "markdown",
   "id": "669eef64",
   "metadata": {},
   "source": [
    "## Решение задач"
   ]
  },
  {
   "cell_type": "markdown",
   "id": "327b5766",
   "metadata": {},
   "source": [
    "### Сколько книг вышло после 1 января 2000 года"
   ]
  },
  {
   "cell_type": "code",
   "execution_count": 9,
   "id": "967ad937",
   "metadata": {},
   "outputs": [
    {
     "data": {
      "text/html": [
       "<div>\n",
       "<style scoped>\n",
       "    .dataframe tbody tr th:only-of-type {\n",
       "        vertical-align: middle;\n",
       "    }\n",
       "\n",
       "    .dataframe tbody tr th {\n",
       "        vertical-align: top;\n",
       "    }\n",
       "\n",
       "    .dataframe thead th {\n",
       "        text-align: right;\n",
       "    }\n",
       "</style>\n",
       "<table border=\"1\" class=\"dataframe\">\n",
       "  <thead>\n",
       "    <tr style=\"text-align: right;\">\n",
       "      <th></th>\n",
       "      <th>count</th>\n",
       "    </tr>\n",
       "  </thead>\n",
       "  <tbody>\n",
       "    <tr>\n",
       "      <th>0</th>\n",
       "      <td>821</td>\n",
       "    </tr>\n",
       "  </tbody>\n",
       "</table>\n",
       "</div>"
      ],
      "text/plain": [
       "   count\n",
       "0    821"
      ]
     },
     "execution_count": 9,
     "metadata": {},
     "output_type": "execute_result"
    }
   ],
   "source": [
    "# Формируем sql-запрос\n",
    "query = ''' SELECT COUNT(title)\n",
    "            FROM books\n",
    "            WHERE publication_date >= '2000-01-01';\n",
    "        '''\n",
    "# выгрузку сохраняем в переменную\n",
    "task_1 = pd.io.sql.read_sql(query, con=engine)\n",
    "task_1"
   ]
  },
  {
   "cell_type": "markdown",
   "id": "96531436",
   "metadata": {},
   "source": [
    "Количество книг, которые вышли после 1 января 2000 года равно 821 книге."
   ]
  },
  {
   "cell_type": "markdown",
   "id": "5712e802",
   "metadata": {},
   "source": [
    "###  Количество обзоров и средняя оценка каждой книги"
   ]
  },
  {
   "cell_type": "code",
   "execution_count": 10,
   "id": "26a4c5e9",
   "metadata": {},
   "outputs": [
    {
     "data": {
      "text/html": [
       "<div>\n",
       "<style scoped>\n",
       "    .dataframe tbody tr th:only-of-type {\n",
       "        vertical-align: middle;\n",
       "    }\n",
       "\n",
       "    .dataframe tbody tr th {\n",
       "        vertical-align: top;\n",
       "    }\n",
       "\n",
       "    .dataframe thead th {\n",
       "        text-align: right;\n",
       "    }\n",
       "</style>\n",
       "<table border=\"1\" class=\"dataframe\">\n",
       "  <thead>\n",
       "    <tr style=\"text-align: right;\">\n",
       "      <th></th>\n",
       "      <th>title</th>\n",
       "      <th>reviews_cnt</th>\n",
       "      <th>rating_cnt</th>\n",
       "      <th>avg_rating</th>\n",
       "    </tr>\n",
       "  </thead>\n",
       "  <tbody>\n",
       "    <tr>\n",
       "      <th>0</th>\n",
       "      <td>Twilight (Twilight  #1)</td>\n",
       "      <td>7.0</td>\n",
       "      <td>160</td>\n",
       "      <td>3.662500</td>\n",
       "    </tr>\n",
       "    <tr>\n",
       "      <th>1</th>\n",
       "      <td>The Hobbit  or There and Back Again</td>\n",
       "      <td>6.0</td>\n",
       "      <td>88</td>\n",
       "      <td>4.125000</td>\n",
       "    </tr>\n",
       "    <tr>\n",
       "      <th>2</th>\n",
       "      <td>The Catcher in the Rye</td>\n",
       "      <td>6.0</td>\n",
       "      <td>86</td>\n",
       "      <td>3.825581</td>\n",
       "    </tr>\n",
       "    <tr>\n",
       "      <th>3</th>\n",
       "      <td>Angels &amp; Demons (Robert Langdon  #1)</td>\n",
       "      <td>5.0</td>\n",
       "      <td>84</td>\n",
       "      <td>3.678571</td>\n",
       "    </tr>\n",
       "    <tr>\n",
       "      <th>4</th>\n",
       "      <td>Harry Potter and the Prisoner of Azkaban (Harr...</td>\n",
       "      <td>6.0</td>\n",
       "      <td>82</td>\n",
       "      <td>4.414634</td>\n",
       "    </tr>\n",
       "    <tr>\n",
       "      <th>...</th>\n",
       "      <td>...</td>\n",
       "      <td>...</td>\n",
       "      <td>...</td>\n",
       "      <td>...</td>\n",
       "    </tr>\n",
       "    <tr>\n",
       "      <th>995</th>\n",
       "      <td>Angels Flight (Harry Bosch  #6; Harry Bosch Un...</td>\n",
       "      <td>2.0</td>\n",
       "      <td>2</td>\n",
       "      <td>4.500000</td>\n",
       "    </tr>\n",
       "    <tr>\n",
       "      <th>996</th>\n",
       "      <td>The Big Bad Wolf  (Alex Cross  #9)</td>\n",
       "      <td>2.0</td>\n",
       "      <td>2</td>\n",
       "      <td>5.000000</td>\n",
       "    </tr>\n",
       "    <tr>\n",
       "      <th>997</th>\n",
       "      <td>Amsterdam</td>\n",
       "      <td>2.0</td>\n",
       "      <td>2</td>\n",
       "      <td>2.500000</td>\n",
       "    </tr>\n",
       "    <tr>\n",
       "      <th>998</th>\n",
       "      <td>The Burden of Proof (Kindle County Legal Thril...</td>\n",
       "      <td>1.0</td>\n",
       "      <td>2</td>\n",
       "      <td>3.500000</td>\n",
       "    </tr>\n",
       "    <tr>\n",
       "      <th>999</th>\n",
       "      <td>Disney's Beauty and the Beast (A Little Golden...</td>\n",
       "      <td>NaN</td>\n",
       "      <td>1</td>\n",
       "      <td>4.000000</td>\n",
       "    </tr>\n",
       "  </tbody>\n",
       "</table>\n",
       "<p>1000 rows × 4 columns</p>\n",
       "</div>"
      ],
      "text/plain": [
       "                                                 title  reviews_cnt  \\\n",
       "0                              Twilight (Twilight  #1)          7.0   \n",
       "1                  The Hobbit  or There and Back Again          6.0   \n",
       "2                               The Catcher in the Rye          6.0   \n",
       "3                 Angels & Demons (Robert Langdon  #1)          5.0   \n",
       "4    Harry Potter and the Prisoner of Azkaban (Harr...          6.0   \n",
       "..                                                 ...          ...   \n",
       "995  Angels Flight (Harry Bosch  #6; Harry Bosch Un...          2.0   \n",
       "996                 The Big Bad Wolf  (Alex Cross  #9)          2.0   \n",
       "997                                          Amsterdam          2.0   \n",
       "998  The Burden of Proof (Kindle County Legal Thril...          1.0   \n",
       "999  Disney's Beauty and the Beast (A Little Golden...          NaN   \n",
       "\n",
       "     rating_cnt  avg_rating  \n",
       "0           160    3.662500  \n",
       "1            88    4.125000  \n",
       "2            86    3.825581  \n",
       "3            84    3.678571  \n",
       "4            82    4.414634  \n",
       "..          ...         ...  \n",
       "995           2    4.500000  \n",
       "996           2    5.000000  \n",
       "997           2    2.500000  \n",
       "998           2    3.500000  \n",
       "999           1    4.000000  \n",
       "\n",
       "[1000 rows x 4 columns]"
      ]
     },
     "execution_count": 10,
     "metadata": {},
     "output_type": "execute_result"
    }
   ],
   "source": [
    "# Формируем sql-запрос\n",
    "query = ''' WITH\n",
    "            revies_cnt AS (SELECT book_id, COUNT(book_id) AS reviews_cnt\n",
    "                           FROM reviews\n",
    "                           GROUP BY book_id),\n",
    "                           \n",
    "            avg_rating AS (SELECT book_id, AVG(rating) AS avg_rating, COUNT(rating) AS rating_cnt\n",
    "                           FROM ratings\n",
    "                           GROUP BY book_id)\n",
    "            \n",
    "            SELECT title, reviews_cnt, rating_cnt, avg_rating\n",
    "            FROM books AS b\n",
    "            LEFT JOIN revies_cnt ON b.book_id = revies_cnt.book_id\n",
    "            LEFT JOIN avg_rating ON b.book_id = avg_rating.book_id\n",
    "            ORDER BY rating_cnt DESC\n",
    "        '''\n",
    "# выгрузку сохраняем в переменную\n",
    "task_2 = pd.io.sql.read_sql(query, con=engine)\n",
    "task_2"
   ]
  },
  {
   "cell_type": "markdown",
   "id": "d62c9e6b",
   "metadata": {},
   "source": [
    "Самое большое кол-во оценок приходится на Twilight (Сумерки), следом идет наш любимый Хоббит Толкина. Можем заметить, что не по всем книгам в базе присутствуют обзоры. Присутствуют книги с маленьким количеством оценок."
   ]
  },
  {
   "cell_type": "markdown",
   "id": "b8ce2dbc",
   "metadata": {},
   "source": [
    "### Издательство, которое выпустило наибольшее число книг толще 50 страниц"
   ]
  },
  {
   "cell_type": "code",
   "execution_count": 11,
   "id": "66c04a37",
   "metadata": {},
   "outputs": [
    {
     "data": {
      "text/html": [
       "<div>\n",
       "<style scoped>\n",
       "    .dataframe tbody tr th:only-of-type {\n",
       "        vertical-align: middle;\n",
       "    }\n",
       "\n",
       "    .dataframe tbody tr th {\n",
       "        vertical-align: top;\n",
       "    }\n",
       "\n",
       "    .dataframe thead th {\n",
       "        text-align: right;\n",
       "    }\n",
       "</style>\n",
       "<table border=\"1\" class=\"dataframe\">\n",
       "  <thead>\n",
       "    <tr style=\"text-align: right;\">\n",
       "      <th></th>\n",
       "      <th>publisher</th>\n",
       "      <th>title_cnt</th>\n",
       "    </tr>\n",
       "  </thead>\n",
       "  <tbody>\n",
       "    <tr>\n",
       "      <th>0</th>\n",
       "      <td>Penguin Books</td>\n",
       "      <td>42</td>\n",
       "    </tr>\n",
       "  </tbody>\n",
       "</table>\n",
       "</div>"
      ],
      "text/plain": [
       "       publisher  title_cnt\n",
       "0  Penguin Books         42"
      ]
     },
     "execution_count": 11,
     "metadata": {},
     "output_type": "execute_result"
    }
   ],
   "source": [
    "# Формируем sql-запрос\n",
    "query = ''' SELECT publisher, COUNT(title) AS title_cnt\n",
    "            FROM books AS b\n",
    "            LEFT JOIN publishers AS p ON b.publisher_id = p.publisher_id\n",
    "            WHERE num_pages > 50\n",
    "            GROUP BY publisher\n",
    "            ORDER BY title_cnt DESC\n",
    "            LIMIT 1\n",
    "        '''\n",
    "# выгрузку сохраняем в переменную\n",
    "task_3 = pd.io.sql.read_sql(query, con=engine)\n",
    "task_3"
   ]
  },
  {
   "cell_type": "markdown",
   "id": "09c55668",
   "metadata": {},
   "source": [
    "Издательство Penguin Books выпустило наибольшее кол-во книг (42 книги) толще 50 страниц."
   ]
  },
  {
   "cell_type": "markdown",
   "id": "5f50f91b",
   "metadata": {},
   "source": [
    "### Автора с самой высокой средней оценкой книг — учитывая только книги с 50 и более оценками"
   ]
  },
  {
   "cell_type": "code",
   "execution_count": 12,
   "id": "58a33429",
   "metadata": {},
   "outputs": [
    {
     "data": {
      "text/html": [
       "<div>\n",
       "<style scoped>\n",
       "    .dataframe tbody tr th:only-of-type {\n",
       "        vertical-align: middle;\n",
       "    }\n",
       "\n",
       "    .dataframe tbody tr th {\n",
       "        vertical-align: top;\n",
       "    }\n",
       "\n",
       "    .dataframe thead th {\n",
       "        text-align: right;\n",
       "    }\n",
       "</style>\n",
       "<table border=\"1\" class=\"dataframe\">\n",
       "  <thead>\n",
       "    <tr style=\"text-align: right;\">\n",
       "      <th></th>\n",
       "      <th>author</th>\n",
       "      <th>mean_rating</th>\n",
       "    </tr>\n",
       "  </thead>\n",
       "  <tbody>\n",
       "    <tr>\n",
       "      <th>0</th>\n",
       "      <td>J.K. Rowling/Mary GrandPré</td>\n",
       "      <td>4.287097</td>\n",
       "    </tr>\n",
       "    <tr>\n",
       "      <th>1</th>\n",
       "      <td>Markus Zusak/Cao Xuân Việt Khương</td>\n",
       "      <td>4.264151</td>\n",
       "    </tr>\n",
       "    <tr>\n",
       "      <th>2</th>\n",
       "      <td>J.R.R. Tolkien</td>\n",
       "      <td>4.246914</td>\n",
       "    </tr>\n",
       "    <tr>\n",
       "      <th>3</th>\n",
       "      <td>Louisa May Alcott</td>\n",
       "      <td>4.192308</td>\n",
       "    </tr>\n",
       "    <tr>\n",
       "      <th>4</th>\n",
       "      <td>Rick Riordan</td>\n",
       "      <td>4.080645</td>\n",
       "    </tr>\n",
       "    <tr>\n",
       "      <th>5</th>\n",
       "      <td>William Golding</td>\n",
       "      <td>3.901408</td>\n",
       "    </tr>\n",
       "    <tr>\n",
       "      <th>6</th>\n",
       "      <td>J.D. Salinger</td>\n",
       "      <td>3.825581</td>\n",
       "    </tr>\n",
       "    <tr>\n",
       "      <th>7</th>\n",
       "      <td>Paulo Coelho/Alan R. Clarke/Özdemir İnce</td>\n",
       "      <td>3.789474</td>\n",
       "    </tr>\n",
       "    <tr>\n",
       "      <th>8</th>\n",
       "      <td>William Shakespeare/Paul Werstine/Barbara A. M...</td>\n",
       "      <td>3.787879</td>\n",
       "    </tr>\n",
       "    <tr>\n",
       "      <th>9</th>\n",
       "      <td>Lois Lowry</td>\n",
       "      <td>3.750000</td>\n",
       "    </tr>\n",
       "    <tr>\n",
       "      <th>10</th>\n",
       "      <td>Dan Brown</td>\n",
       "      <td>3.741259</td>\n",
       "    </tr>\n",
       "    <tr>\n",
       "      <th>11</th>\n",
       "      <td>George Orwell/Boris Grabnar/Peter Škerl</td>\n",
       "      <td>3.729730</td>\n",
       "    </tr>\n",
       "    <tr>\n",
       "      <th>12</th>\n",
       "      <td>Stephenie Meyer</td>\n",
       "      <td>3.662500</td>\n",
       "    </tr>\n",
       "    <tr>\n",
       "      <th>13</th>\n",
       "      <td>John Steinbeck</td>\n",
       "      <td>3.622951</td>\n",
       "    </tr>\n",
       "  </tbody>\n",
       "</table>\n",
       "</div>"
      ],
      "text/plain": [
       "                                               author  mean_rating\n",
       "0                          J.K. Rowling/Mary GrandPré     4.287097\n",
       "1                   Markus Zusak/Cao Xuân Việt Khương     4.264151\n",
       "2                                      J.R.R. Tolkien     4.246914\n",
       "3                                   Louisa May Alcott     4.192308\n",
       "4                                        Rick Riordan     4.080645\n",
       "5                                     William Golding     3.901408\n",
       "6                                       J.D. Salinger     3.825581\n",
       "7            Paulo Coelho/Alan R. Clarke/Özdemir İnce     3.789474\n",
       "8   William Shakespeare/Paul Werstine/Barbara A. M...     3.787879\n",
       "9                                          Lois Lowry     3.750000\n",
       "10                                          Dan Brown     3.741259\n",
       "11            George Orwell/Boris Grabnar/Peter Škerl     3.729730\n",
       "12                                    Stephenie Meyer     3.662500\n",
       "13                                     John Steinbeck     3.622951"
      ]
     },
     "execution_count": 12,
     "metadata": {},
     "output_type": "execute_result"
    }
   ],
   "source": [
    "query = ''' WITH\n",
    "            books_over_50_cnt_rat AS (SELECT book_id, COUNT(rating) AS cnt_ratings\n",
    "                                      FROM ratings AS rat\n",
    "                                      GROUP BY book_id\n",
    "                                      HAVING COUNT(rating) > 50)\n",
    "                                      \n",
    "            SELECT author, AVG(r.rating) AS mean_rating\n",
    "            FROM books_over_50_cnt_rat\n",
    "            INNER JOIN books AS b ON books_over_50_cnt_rat.book_id = b.book_id\n",
    "            INNER JOIN authors AS a ON b.author_id = a.author_id\n",
    "            INNER JOIN ratings AS r ON b.book_id = r.book_id\n",
    "            GROUP BY author\n",
    "            ORDER BY mean_rating DESC\n",
    "        '''\n",
    "# выгрузку сохраняем в переменную\n",
    "task_4 = pd.io.sql.read_sql(query, con=engine)\n",
    "task_4"
   ]
  },
  {
   "cell_type": "markdown",
   "id": "4237b9c4",
   "metadata": {},
   "source": [
    "Автором с самой высокой средней оценкой книг является Джоан Роулинг, известная по серии книг \"Гарри Поттер\"."
   ]
  },
  {
   "cell_type": "markdown",
   "id": "36668969",
   "metadata": {},
   "source": [
    "### Среднее количество обзоров от пользователей, которые поставили больше 50 оценок"
   ]
  },
  {
   "cell_type": "code",
   "execution_count": 13,
   "id": "f8851805",
   "metadata": {},
   "outputs": [
    {
     "data": {
      "text/html": [
       "<div>\n",
       "<style scoped>\n",
       "    .dataframe tbody tr th:only-of-type {\n",
       "        vertical-align: middle;\n",
       "    }\n",
       "\n",
       "    .dataframe tbody tr th {\n",
       "        vertical-align: top;\n",
       "    }\n",
       "\n",
       "    .dataframe thead th {\n",
       "        text-align: right;\n",
       "    }\n",
       "</style>\n",
       "<table border=\"1\" class=\"dataframe\">\n",
       "  <thead>\n",
       "    <tr style=\"text-align: right;\">\n",
       "      <th></th>\n",
       "      <th>round</th>\n",
       "    </tr>\n",
       "  </thead>\n",
       "  <tbody>\n",
       "    <tr>\n",
       "      <th>0</th>\n",
       "      <td>24.0</td>\n",
       "    </tr>\n",
       "  </tbody>\n",
       "</table>\n",
       "</div>"
      ],
      "text/plain": [
       "   round\n",
       "0   24.0"
      ]
     },
     "execution_count": 13,
     "metadata": {},
     "output_type": "execute_result"
    }
   ],
   "source": [
    "# Формируем sql-запрос\n",
    "query = ''' WITH\n",
    "            rating_cnt AS (SELECT username, COUNT(rating) AS rating_cnt\n",
    "                           FROM ratings\n",
    "                           GROUP BY username),\n",
    "                           \n",
    "            reviews_cnt AS (SELECT COUNT(review_id) AS reviews_cnt_where_rating_cnt_over_50\n",
    "                            FROM reviews\n",
    "                            WHERE username IN (SELECT username\n",
    "                                               FROM rating_cnt\n",
    "                                               WHERE rating_cnt > 50)\n",
    "                            GROUP BY username)\n",
    "            \n",
    "            SELECT ROUND(AVG(reviews_cnt_where_rating_cnt_over_50), 0)\n",
    "            FROM reviews_cnt\n",
    "        '''\n",
    "# выгрузку сохраняем в переменную\n",
    "task_5 = pd.io.sql.read_sql(query, con=engine)\n",
    "task_5"
   ]
  },
  {
   "cell_type": "markdown",
   "id": "b721ccbc",
   "metadata": {},
   "source": [
    "Среднее количество обзоров от пользователей, которые поставили больше 50 оценок равно 24."
   ]
  },
  {
   "cell_type": "markdown",
   "id": "4d463630",
   "metadata": {},
   "source": [
    "## Вывод"
   ]
  },
  {
   "cell_type": "markdown",
   "id": "eeffc246",
   "metadata": {},
   "source": [
    "В нашем распоряжении была база данных крупного сервиса для чтения книг по подписке. Нам как аналитику необходимо было проанализировать базу данных, чтобы помочь бизнесу сформулировать ценностное предложение для нового продукта.\n",
    "\n",
    "**В процессе загрузки данных проверили соединение с сервером и выяснили содержание следующих таблиц:**\n",
    "1. Таблица books содержит данные о книгах:\n",
    "\n",
    "- `book_id` — идентификатор книги;\n",
    "- `author_id` — идентификатор автора;\n",
    "- `title` — название книги;\n",
    "- `num_pages` — количество страниц;\n",
    "- `publication_date` — дата публикации книги;\n",
    "- `publisher_id` — идентификатор издателя.\n",
    "\n",
    "2. Таблица authors содержит данные об авторах:\n",
    "\n",
    "- `author_id` — идентификатор автора;\n",
    "- `author` — имя автора.\n",
    "\n",
    "3. Таблица publishers содержит данные об издательствах:\n",
    "\n",
    "- `publisher_id` — идентификатор издательства;\n",
    "- `publisher` — название издательства;\n",
    "\n",
    "4. Таблица ratings содержит данные о пользовательских оценках книг:\n",
    "\n",
    "- `rating_id` — идентификатор оценки;\n",
    "- `book_id` — идентификатор книги;\n",
    "- `username` — имя пользователя, оставившего оценку;\n",
    "- `rating` — оценка книги.\n",
    "\n",
    "\n",
    "5. Таблица reviews содержит данные о пользовательских обзорах на книги:\n",
    "\n",
    "- `review_id` — идентификатор обзора;\n",
    "- `book_id` — идентификатор книги;\n",
    "- `username` — имя пользователя, написавшего обзор;\n",
    "- `text` — текст обзора.\n",
    "\n",
    "**Решили поставленные задачи и отметили следующее:**\n",
    "- Количество книг, которые вышли после 1 января 2000 года равно 821 книге.\n",
    "- Самое большое кол-во оценок приходится на Twilight (Сумерки). Отметили, что ни по всем книгам в базе присутствуют обзоры. Присутствуют книги с маленьким количеством оценок.\n",
    "- Издательство Penguin Books выпустило наибольшее кол-во книг (42 книги) толще 50 страниц.\n",
    "- Автором с самой высокой средней оценкой книг является Джоан Роулинг, известная по серии книг \"Гарри Поттер\".\n",
    "- Среднее количество обзоров от пользователей, которые поставили больше 50 оценок равно 24.\n"
   ]
  },
  {
   "cell_type": "code",
   "execution_count": null,
   "id": "31a8f566",
   "metadata": {},
   "outputs": [],
   "source": []
  }
 ],
 "metadata": {
  "ExecuteTimeLog": [
   {
    "duration": 67,
    "start_time": "2023-03-17T17:13:58.840Z"
   },
   {
    "duration": 535,
    "start_time": "2023-03-17T17:14:05.544Z"
   },
   {
    "duration": 6290,
    "start_time": "2023-03-17T17:14:06.081Z"
   },
   {
    "duration": 299,
    "start_time": "2023-03-17T17:14:12.373Z"
   },
   {
    "duration": 82,
    "start_time": "2023-03-17T17:14:12.674Z"
   },
   {
    "duration": 80,
    "start_time": "2023-03-17T17:14:12.758Z"
   },
   {
    "duration": 109,
    "start_time": "2023-03-17T17:14:12.839Z"
   },
   {
    "duration": 98,
    "start_time": "2023-03-17T17:14:12.950Z"
   },
   {
    "duration": 166,
    "start_time": "2023-03-17T17:14:13.049Z"
   },
   {
    "duration": 621,
    "start_time": "2023-03-17T17:15:30.431Z"
   },
   {
    "duration": 5892,
    "start_time": "2023-03-17T17:15:31.054Z"
   },
   {
    "duration": 323,
    "start_time": "2023-03-17T17:15:36.948Z"
   },
   {
    "duration": 82,
    "start_time": "2023-03-17T17:15:37.274Z"
   },
   {
    "duration": 79,
    "start_time": "2023-03-17T17:15:37.358Z"
   },
   {
    "duration": 113,
    "start_time": "2023-03-17T17:15:37.439Z"
   },
   {
    "duration": 102,
    "start_time": "2023-03-17T17:15:37.553Z"
   },
   {
    "duration": 187,
    "start_time": "2023-03-17T17:15:37.657Z"
   },
   {
    "duration": 77,
    "start_time": "2023-03-17T17:15:37.846Z"
   },
   {
    "duration": 91,
    "start_time": "2023-03-17T17:15:37.926Z"
   },
   {
    "duration": 81,
    "start_time": "2023-03-17T17:15:38.019Z"
   },
   {
    "duration": 83,
    "start_time": "2023-03-17T17:15:38.102Z"
   },
   {
    "duration": 80,
    "start_time": "2023-03-17T17:15:38.187Z"
   }
  ],
  "kernelspec": {
   "display_name": "Python 3 (ipykernel)",
   "language": "python",
   "name": "python3"
  },
  "language_info": {
   "codemirror_mode": {
    "name": "ipython",
    "version": 3
   },
   "file_extension": ".py",
   "mimetype": "text/x-python",
   "name": "python",
   "nbconvert_exporter": "python",
   "pygments_lexer": "ipython3",
   "version": "3.9.12"
  },
  "toc": {
   "base_numbering": 1,
   "nav_menu": {},
   "number_sections": true,
   "sideBar": true,
   "skip_h1_title": true,
   "title_cell": "Table of Contents",
   "title_sidebar": "Contents",
   "toc_cell": false,
   "toc_position": {
    "height": "541.6px",
    "left": "33px",
    "top": "109.725px",
    "width": "307.2px"
   },
   "toc_section_display": true,
   "toc_window_display": true
  }
 },
 "nbformat": 4,
 "nbformat_minor": 5
}
